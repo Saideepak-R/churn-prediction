{
 "cells": [
  {
   "cell_type": "code",
   "execution_count": 1,
   "metadata": {},
   "outputs": [
    {
     "name": "stderr",
     "output_type": "stream",
     "text": [
      "Using TensorFlow backend.\n"
     ]
    }
   ],
   "source": [
    "import numpy as np\n",
    "import pandas as pd\n",
    "#Importing libraries\n",
    "\n",
    "from sklearn.model_selection import train_test_split\n",
    "from sklearn.metrics import accuracy_score,confusion_matrix,f1_score,roc_auc_score,classification_report\n",
    "from sklearn.linear_model import LogisticRegression\n",
    "from sklearn.tree import DecisionTreeClassifier\n",
    "from sklearn.ensemble import RandomForestClassifier\n",
    "from sklearn.naive_bayes import GaussianNB\n",
    "from xgboost import XGBClassifier\n",
    "from sklearn.neighbors import KNeighborsClassifier\n",
    "from sklearn.model_selection import StratifiedKFold\n",
    "from sklearn.model_selection import KFold,cross_val_score\n",
    "from imblearn.ensemble import BalancedRandomForestClassifier\n",
    "from lightgbm import LGBMClassifier\n",
    "from sklearn.metrics import precision_recall_curve\n",
    "from sklearn.metrics import auc\n",
    "from sklearn.model_selection import GridSearchCV\n",
    "from sklearn.neighbors import LocalOutlierFactor\n",
    "from sklearn.ensemble import IsolationForest"
   ]
  },
  {
   "cell_type": "code",
   "execution_count": 2,
   "metadata": {},
   "outputs": [],
   "source": [
    "#SMOTE for over sampling\n",
    "from imblearn.over_sampling import SMOTE\n",
    "sm=SMOTE()"
   ]
  },
  {
   "cell_type": "code",
   "execution_count": 3,
   "metadata": {},
   "outputs": [],
   "source": [
    "import datetime\n",
    "from dateutil.relativedelta import relativedelta\n",
    "from datetime import date"
   ]
  },
  {
   "cell_type": "code",
   "execution_count": 4,
   "metadata": {},
   "outputs": [
    {
     "name": "stderr",
     "output_type": "stream",
     "text": [
      "C:\\Users\\sai.deepak\\AppData\\Local\\Continuum\\anaconda3\\lib\\site-packages\\IPython\\core\\interactiveshell.py:3049: DtypeWarning: Columns (67,68,69) have mixed types. Specify dtype option on import or set low_memory=False.\n",
      "  interactivity=interactivity, compiler=compiler, result=result)\n"
     ]
    }
   ],
   "source": [
    "current_month_1=pd.read_csv('nov_18.csv',header=None)"
   ]
  },
  {
   "cell_type": "code",
   "execution_count": 5,
   "metadata": {},
   "outputs": [
    {
     "data": {
      "text/plain": [
       "(2853787, 144)"
      ]
     },
     "execution_count": 5,
     "metadata": {},
     "output_type": "execute_result"
    }
   ],
   "source": [
    "current_month_1.shape"
   ]
  },
  {
   "cell_type": "code",
   "execution_count": 6,
   "metadata": {},
   "outputs": [],
   "source": [
    "previous_month_1=pd.read_csv('month_summ.csv',header=None)\n",
    "#previous_month_2=pd.read_csv('month_summ.csv',header=None)\n",
    "churners_current_month=pd.read_csv('churn_november.csv',header=None)\n",
    "nonchurners_current_month=pd.read_csv('nonchurn_november.csv',header=None)                  "
   ]
  },
  {
   "cell_type": "code",
   "execution_count": 7,
   "metadata": {},
   "outputs": [],
   "source": [
    "def preprocess_df_current_month(df_current_month,c,nc,todays_date):\n",
    "    #Column_Rename\n",
    "    df_current_month.columns=[\"msisdn\",\n",
    "                    \"month_year\",\n",
    "                    \"month\",\n",
    "                    \"dist_voc_days\",\n",
    "                    \"dist_sms_days\",\n",
    "                    \"dist_data_days\",\n",
    "                    \"dist_vas_days\",\n",
    "                    \"all_tot_charge\",\n",
    "                    \"sms_cnt\",\n",
    "                    \"voc_cnt\",\n",
    "                    \"vas_cnt\",\n",
    "                    \"data_tot_upl_mb\",\n",
    "                    \"data_tot_downl_mb\",\n",
    "                    \"data_tot_usage_mb\",\n",
    "                    \"sms_charge\",\n",
    "                    \"voc_charge\",\n",
    "                    \"voc_onnet_charge\",\n",
    "                    \"voc_intl_charge\",\n",
    "                    \"voc_safari_charge\",\n",
    "                    \"voc_offnet_charge\",\n",
    "                    \"data_charge_kes\",\n",
    "                    \"vas_charge_kes\",\n",
    "                    \"voc_tot_dur\",\n",
    "                    \"voc_cnt_onnnet\",\n",
    "                    \"voc_dur_onnet\",\n",
    "                    \"voc_cnt_safari\",\n",
    "                    \"voc_dur_safari\",\n",
    "                    \"voc_cnt_airtel\",\n",
    "                    \"voc_dur_airtel\",\n",
    "                    \"voc_cnt_intl\",\n",
    "                    \"voc_dur_intl\",\n",
    "                    \"voc_dur_offnet\",\n",
    "                    \"tot_bill_amount\",\n",
    "                    \"tot_credit\",\n",
    "                    \"night_all_tot_charge\",\n",
    "                    \"night_sms_cnt\",\n",
    "                    \"night_voc_cnt\",\n",
    "                    \"night_voc_tot_dur\",\n",
    "                    \"night_vas_cnt\",\n",
    "                    \"night_data_tot_mb\",\n",
    "                    \"night_data_tot_upl_mb\",\n",
    "                    \"night_data_tot_downl_mb\",\n",
    "                    \"night_sms_charge\",\n",
    "                    \"night_voc_charge\",\n",
    "                    \"night_data_charge\",\n",
    "                    \"night_vas_charge\",\n",
    "                    \"night_voc_onnet_charge\",\n",
    "                    \"night_voc_intl_charge\",\n",
    "                    \"night_voc_offnet_charge\",\n",
    "                    \"night_voc_dur_intl\",\n",
    "                    \"night_voc_dur_onnet\",\n",
    "                    \"night_voc_dur_offnet\",\n",
    "                    \"night_data_per\",\n",
    "                    \"night_voc_per\",\n",
    "                    \"bundle_revenue_data\",\n",
    "                    \"bundle_revenue_voice_sms\",\n",
    "                    \"bundle_revenue_internati\",\n",
    "                    \"edr_revenue\",\n",
    "                    \"pewa_borrow_charge\",\n",
    "                    \"pewa_reimb_charge\",\n",
    "                    \"pewa_revenue\",\n",
    "                    \"intl_usage_fl\",\n",
    "                    \"night_usage_fl\",\n",
    "                    \"is_4g4free\",\n",
    "                    \"is_pewa\",\n",
    "                    \"is_not_pewa\",\n",
    "                    \"age\",\n",
    "                    \"age_grp\",\n",
    "                    \"gender\",\n",
    "                    \"cust_town\",\n",
    "                    \"voc_equitel_charge\",\n",
    "                    \"voc_airtel_charge\",\n",
    "                    \"payg_voc_dur_intl\",\n",
    "                    \"bundle_voc_dur_intl\",\n",
    "                    \"amkia_data_usage\",\n",
    "                    \"preloaded_data_usage\",\n",
    "                    \"payg_shortcode_revenue\",\n",
    "                    \"sms_airtel_charge\",\n",
    "                    \"sms_safari_charge\",\n",
    "                    \"sms_equitel_charge\",\n",
    "                    \"sms_offnet_charge\",\n",
    "                    \"sms_onnet_charge\",\n",
    "                    \"sms_intl_charge\",\n",
    "                    \"night_voc_usage_fl\",\n",
    "                    \"night_data_usage_fl\",\n",
    "                    \"data_cost\",\n",
    "                    \"voc_onnet_cost\",\n",
    "                    \"voc_offnet_cost\",\n",
    "                    \"sms_cost\",\n",
    "                    \"voc_intl_cost\",\n",
    "                    \"total_cost\",\n",
    "                    \"total_revenue\",\n",
    "                    \"margin\",\n",
    "                    \"data_level\",\n",
    "                    \"revenue_level\",\n",
    "                    \"voice_level\",\n",
    "                    \"margin_level\",\n",
    "                    \"nationality\",\n",
    "                    \"bundle_1_freq_nm\",\n",
    "                    \"bundle_1_freq_cnt\",\n",
    "                    \"bundle_1_freq_shr\",\n",
    "                    \"bundle_2_freq_nm\",\n",
    "                    \"bundle_2_freq_cnt\",\n",
    "                    \"bundle_2_freq_shr\",\n",
    "                    \"bundle_tot_freq_cnt\",\n",
    "                    \"bundle_1_rev_nm\",\n",
    "                    \"bundle_1_rev_val\",\n",
    "                    \"bundle_1_rev_shr\",\n",
    "                    \"bundle_2_rev_nm\",\n",
    "                    \"bundle_2_rev_val\",\n",
    "                    \"bundle_2_rev_shr\",\n",
    "                    \"bundle_tot_rev_val\",\n",
    "                    \"data_user_fl\",\n",
    "                    \"data_support_type\",\n",
    "                    \"homing_longitude\",\n",
    "                    \"homing_latitude\",\n",
    "                    \"homing_commercial_region\",\n",
    "                    \"homing_sales_area\",\n",
    "                    \"homing_site_name\",\n",
    "                    \"homing_site_id\",\n",
    "                    \"homing_site_data_type\",\n",
    "                    \"brand\",\n",
    "                    \"product_line\",\n",
    "                    \"network_type\",\n",
    "                    \"activation_date\",\n",
    "                    \"activation_month\",\n",
    "                    \"activation_year\",\n",
    "                    \"activation_partdate\",\n",
    "                    \"site_cluster\",\n",
    "                    \"sales_metros\",\n",
    "                    \"town\",\n",
    "                    \"cluster_type\",\n",
    "                    \"voice_intl_bndl_rev\",\n",
    "                    \"sms_bndl_rev\",\n",
    "                    \"voice_bndl_rev\",\n",
    "                    \"freedom_offer_bndl_rev\",\n",
    "                    \"whats_app_bndl_rev\",\n",
    "                    \"home_bndl_rev\",\n",
    "                    \"facebook_bila_net_rev\",\n",
    "                    \"mobile_data_bndl_tk_rev\",\n",
    "                    \"pewa_comm_rev\",\n",
    "                    \"other_bndl_rev\",\n",
    "                    \"home_ultd_data_usage\",\n",
    "                    \"home_bdl_data_usage\"]\n",
    "    #Renaming churners column\n",
    "    c.columns=['msisdn']\n",
    "    \n",
    "    #Merging columns of churners\n",
    "    df_churners=pd.merge(df_current_month[['msisdn','activation_partdate','dist_voc_days','dist_data_days','data_tot_usage_mb','data_charge_kes','edr_revenue','total_revenue','voc_tot_dur','revenue_level','homing_site_data_type','data_support_type']],c,how='inner',on='msisdn')\n",
    "    df_churners['status']=0\n",
    "    df_churners.columns=['msisdn','activation_partdate','dist_voc_days_current_month','dist_data_days_current_month','data_tot_usage_mb_current_month','data_charge_kes_current_month','edr_revenue_current_month','total_revenue_current_month','voc_tot_dur_current_month','revenue_level_current_month','homing_site_data_type','data_support_type','status']\n",
    "    \n",
    "    #Renaming nonchurners column\n",
    "    nc.columns=['msisdn']\n",
    "    \n",
    "    #Merging columns pf nonchurners\n",
    "    df_nonchurners=pd.merge(df_current_month[['msisdn','activation_partdate','dist_voc_days','dist_data_days','data_tot_usage_mb','data_charge_kes','edr_revenue','total_revenue','voc_tot_dur','revenue_level','homing_site_data_type','data_support_type']],nc,how='inner',on='msisdn')\n",
    "    df_nonchurners['status']=1\n",
    "    df_nonchurners.columns=['msisdn','activation_partdate','dist_voc_days_current_month','dist_data_days_current_month','data_tot_usage_mb_current_month','data_charge_kes_current_month','edr_revenue_current_month','total_revenue_current_month','voc_tot_dur_current_month','revenue_level_current_month','homing_site_data_type','data_support_type','status']\n",
    "    \n",
    "    #Appending dataframes\n",
    "    df_new=df_churners.append(df_nonchurners)\n",
    "    df_new=df_new.sample(n=len(df_new),random_state=123)\n",
    "    #df_new.columns=['msisdn','activation_partdate','dist_voc_days_current_month','dist_data_days_current_month','data_tot_usage_mb_current_month','data_charge_kes_current_month','edr_revenue_current_month','total_revenue_current_month','voc_tot_dur_current_month','revenue_level_current_month']\n",
    "    \n",
    "    \n",
    "    #Creating age on network\n",
    "    df_new['current_date']=todays_date\n",
    "    df_new['current_date']=pd.to_datetime(df_new['current_date'],format='%Y%m%d')\n",
    "    df_new['activation_partdate']=pd.to_datetime(df_new['activation_partdate'], format='%Y%m%d')\n",
    "    df_new['AON_months']=df_new['current_date'] - df_new['activation_partdate']\n",
    "    df_new['AON_months']=round(df_new['AON_months']/np.timedelta64(1,'M'))\n",
    "    df_new['AON_months'].fillna(value=0,inplace=True)\n",
    "    df_new.drop(['current_date','activation_partdate'],axis=1,inplace=True)\n",
    "      \n",
    "    return df_new"
   ]
  },
  {
   "cell_type": "code",
   "execution_count": 8,
   "metadata": {},
   "outputs": [],
   "source": [
    "def preprocess_previous_month(df_previous_month,df_current_month_preprocessed,c,nc):\n",
    "    \n",
    "    df_previous_month.columns=[\"msisdn\",\n",
    "                    \"month_year\",\n",
    "                    \"month\",\n",
    "                    \"dist_voc_days\",\n",
    "                    \"dist_sms_days\",\n",
    "                    \"dist_data_days\",\n",
    "                    \"dist_vas_days\",\n",
    "                    \"all_tot_charge\",\n",
    "                    \"sms_cnt\",\n",
    "                    \"voc_cnt\",\n",
    "                    \"vas_cnt\",\n",
    "                    \"data_tot_upl_mb\",\n",
    "                    \"data_tot_downl_mb\",\n",
    "                    \"data_tot_usage_mb\",\n",
    "                    \"sms_charge\",\n",
    "                    \"voc_charge\",\n",
    "                    \"voc_onnet_charge\",\n",
    "                    \"voc_intl_charge\",\n",
    "                    \"voc_safari_charge\",\n",
    "                    \"voc_offnet_charge\",\n",
    "                    \"data_charge_kes\",\n",
    "                    \"vas_charge_kes\",\n",
    "                    \"voc_tot_dur\",\n",
    "                    \"voc_cnt_onnnet\",\n",
    "                    \"voc_dur_onnet\",\n",
    "                    \"voc_cnt_safari\",\n",
    "                    \"voc_dur_safari\",\n",
    "                    \"voc_cnt_airtel\",\n",
    "                    \"voc_dur_airtel\",\n",
    "                    \"voc_cnt_intl\",\n",
    "                    \"voc_dur_intl\",\n",
    "                    \"voc_dur_offnet\",\n",
    "                    \"tot_bill_amount\",\n",
    "                    \"tot_credit\",\n",
    "                    \"night_all_tot_charge\",\n",
    "                    \"night_sms_cnt\",\n",
    "                    \"night_voc_cnt\",\n",
    "                    \"night_voc_tot_dur\",\n",
    "                    \"night_vas_cnt\",\n",
    "                    \"night_data_tot_mb\",\n",
    "                    \"night_data_tot_upl_mb\",\n",
    "                    \"night_data_tot_downl_mb\",\n",
    "                    \"night_sms_charge\",\n",
    "                    \"night_voc_charge\",\n",
    "                    \"night_data_charge\",\n",
    "                    \"night_vas_charge\",\n",
    "                    \"night_voc_onnet_charge\",\n",
    "                    \"night_voc_intl_charge\",\n",
    "                    \"night_voc_offnet_charge\",\n",
    "                    \"night_voc_dur_intl\",\n",
    "                    \"night_voc_dur_onnet\",\n",
    "                    \"night_voc_dur_offnet\",\n",
    "                    \"night_data_per\",\n",
    "                    \"night_voc_per\",\n",
    "                    \"bundle_revenue_data\",\n",
    "                    \"bundle_revenue_voice_sms\",\n",
    "                    \"bundle_revenue_internati\",\n",
    "                    \"edr_revenue\",\n",
    "                    \"pewa_borrow_charge\",\n",
    "                    \"pewa_reimb_charge\",\n",
    "                    \"pewa_revenue\",\n",
    "                    \"intl_usage_fl\",\n",
    "                    \"night_usage_fl\",\n",
    "                    \"is_4g4free\",\n",
    "                    \"is_pewa\",\n",
    "                    \"is_not_pewa\",\n",
    "                    \"age\",\n",
    "                    \"age_grp\",\n",
    "                    \"gender\",\n",
    "                    \"cust_town\",\n",
    "                    \"voc_equitel_charge\",\n",
    "                    \"voc_airtel_charge\",\n",
    "                    \"payg_voc_dur_intl\",\n",
    "                    \"bundle_voc_dur_intl\",\n",
    "                    \"amkia_data_usage\",\n",
    "                    \"preloaded_data_usage\",\n",
    "                    \"payg_shortcode_revenue\",\n",
    "                    \"sms_airtel_charge\",\n",
    "                    \"sms_safari_charge\",\n",
    "                    \"sms_equitel_charge\",\n",
    "                    \"sms_offnet_charge\",\n",
    "                    \"sms_onnet_charge\",\n",
    "                    \"sms_intl_charge\",\n",
    "                    \"night_voc_usage_fl\",\n",
    "                    \"night_data_usage_fl\",\n",
    "                    \"data_cost\",\n",
    "                    \"voc_onnet_cost\",\n",
    "                    \"voc_offnet_cost\",\n",
    "                    \"sms_cost\",\n",
    "                    \"voc_intl_cost\",\n",
    "                    \"total_cost\",\n",
    "                    \"total_revenue\",\n",
    "                    \"margin\",\n",
    "                    \"data_level\",\n",
    "                    \"revenue_level\",\n",
    "                    \"voice_level\",\n",
    "                    \"margin_level\",\n",
    "                    \"nationality\",\n",
    "                    \"bundle_1_freq_nm\",\n",
    "                    \"bundle_1_freq_cnt\",\n",
    "                    \"bundle_1_freq_shr\",\n",
    "                    \"bundle_2_freq_nm\",\n",
    "                    \"bundle_2_freq_cnt\",\n",
    "                    \"bundle_2_freq_shr\",\n",
    "                    \"bundle_tot_freq_cnt\",\n",
    "                    \"bundle_1_rev_nm\",\n",
    "                    \"bundle_1_rev_val\",\n",
    "                    \"bundle_1_rev_shr\",\n",
    "                    \"bundle_2_rev_nm\",\n",
    "                    \"bundle_2_rev_val\",\n",
    "                    \"bundle_2_rev_shr\",\n",
    "                    \"bundle_tot_rev_val\",\n",
    "                    \"data_user_fl\",\n",
    "                    \"data_support_type\",\n",
    "                    \"homing_longitude\",\n",
    "                    \"homing_latitude\",\n",
    "                    \"homing_commercial_region\",\n",
    "                    \"homing_sales_area\",\n",
    "                    \"homing_site_name\",\n",
    "                    \"homing_site_id\",\n",
    "                    \"homing_site_data_type\",\n",
    "                    \"brand\",\n",
    "                    \"product_line\",\n",
    "                    \"network_type\",\n",
    "                    \"activation_date\",\n",
    "                    \"activation_month\",\n",
    "                    \"activation_year\",\n",
    "                    \"activation_partdate\",\n",
    "                    \"site_cluster\",\n",
    "                    \"sales_metros\",\n",
    "                    \"town\",\n",
    "                    \"cluster_type\",\n",
    "                    \"voice_intl_bndl_rev\",\n",
    "                    \"sms_bndl_rev\",\n",
    "                    \"voice_bndl_rev\",\n",
    "                    \"freedom_offer_bndl_rev\",\n",
    "                    \"whats_app_bndl_rev\",\n",
    "                    \"home_bndl_rev\",\n",
    "                    \"facebook_bila_net_rev\",\n",
    "                    \"mobile_data_bndl_tk_rev\",\n",
    "                    \"pewa_comm_rev\",\n",
    "                    \"other_bndl_rev\",\n",
    "                    \"home_ultd_data_usage\",\n",
    "                    \"home_bdl_data_usage\"]\n",
    "        \n",
    "    #Renaming churners column\n",
    "    c.columns=['msisdn']\n",
    "    \n",
    "    #Merging columns of churners\n",
    "    df_churners=pd.merge(df_previous_month[['msisdn','dist_voc_days','dist_data_days','data_tot_usage_mb','data_charge_kes','edr_revenue','total_revenue','voc_tot_dur']],c,how='inner',on='msisdn')\n",
    "    df_churners.columns=['msisdn','dist_voc_days_previous_month1','dist_data_days_previous_month1','data_tot_usage_mb_previous_month1','data_charge_kes_previous_month1','edr_revenue_previous_month1','total_revenue_previous_month1','voc_tot_dur_previous_month1']\n",
    "    \n",
    "    #Renaming nonchurners column\n",
    "    nc.columns=['msisdn']\n",
    "    \n",
    "    #Merging columns pf nonchurners\n",
    "    df_nonchurners=pd.merge(df_previous_month[['msisdn','dist_voc_days','dist_data_days','data_tot_usage_mb','data_charge_kes','edr_revenue','total_revenue','voc_tot_dur']],nc,how='inner',on='msisdn')\n",
    "    df_nonchurners.columns=['msisdn','dist_voc_days_previous_month1','dist_data_days_previous_month1','data_tot_usage_mb_previous_month1','data_charge_kes_previous_month1','edr_revenue_previous_month1','total_revenue_previous_month1','voc_tot_dur_previous_month1']    #Appending dataframes\n",
    "    df_new=df_churners.append(df_nonchurners)\n",
    "    df_new=df_new.sample(n=len(df_new),random_state=123)\n",
    "    \n",
    "    #Merging df\n",
    "    df1=pd.merge(df_current_month_preprocessed,df_new,how='left',on='msisdn')\n",
    "    \n",
    "    #Adding new features\n",
    "    df1['percent_diff_rev']=(df1['total_revenue_current_month'] - df1['total_revenue_previous_month1'])/df1['total_revenue_current_month']\n",
    "    df1['percent_diff_voc_dur']=(df1['voc_tot_dur_current_month'] - df1['voc_tot_dur_previous_month1'])/df1['voc_tot_dur_current_month']\n",
    "    df1['percent_diff_data']=(df1['data_tot_usage_mb_current_month'] - df1['data_tot_usage_mb_previous_month1'])/df1['data_tot_usage_mb_current_month']\n",
    "    df1['revenue_per_minute']=df1['total_revenue_current_month']/df1['voc_tot_dur_current_month']\n",
    "    df1['revenue_per_data']=(df1['total_revenue_current_month'])/(df1['data_tot_usage_mb_current_month'])\n",
    "    df1['diff_voc_days']=(df1['dist_voc_days_current_month']) - (df1['dist_voc_days_previous_month1'])\n",
    "    df1['diff_data_days']=(df1['dist_data_days_current_month'])-(df1['dist_data_days_previous_month1'])\n",
    "    df1['payg_precent']=df1['data_charge_kes_current_month']/df1['total_revenue_current_month']\n",
    "    \n",
    "    #dropping columns\n",
    "    df1.drop(['dist_voc_days_previous_month1','dist_data_days_previous_month1','data_tot_usage_mb_previous_month1','data_charge_kes_previous_month1','edr_revenue_previous_month1','total_revenue_previous_month1','voc_tot_dur_previous_month1'],axis=1,inplace=True)\n",
    "    \n",
    "    \n",
    "    #Removing null values\n",
    "    for i in df1.columns:\n",
    "        j=df1[i]\n",
    "        j.replace([np.NaN,np.inf,-np.inf], 0,inplace=True)\n",
    "        \n",
    "    return df1\n",
    "        "
   ]
  },
  {
   "cell_type": "code",
   "execution_count": 9,
   "metadata": {},
   "outputs": [],
   "source": [
    "from sklearn.preprocessing import StandardScaler,LabelEncoder\n",
    "scaler=StandardScaler()\n",
    "le=LabelEncoder()"
   ]
  },
  {
   "cell_type": "code",
   "execution_count": null,
   "metadata": {},
   "outputs": [],
   "source": []
  },
  {
   "cell_type": "code",
   "execution_count": 58,
   "metadata": {},
   "outputs": [],
   "source": [
    "def model(df,m,revenue_level):\n",
    "    df1=df[df['revenue_level_current_month']==revenue_level]\n",
    "    \n",
    "    #df1['homing_site_data_type']=le.fit_transform(df1['homing_site_data_type'])\n",
    "    #df1['homing_site_id']=le.fit_transform(df1['homing_site_id'])\n",
    "    \n",
    "    x=df1.drop(['msisdn','revenue_level_current_month','status'],axis=1).values\n",
    "    X=pd.get_dummies(data=x,columns=['homing_site_data_type','data_support_type'],drop_first=True)\n",
    "    y=df1['status'].values\n",
    "    \n",
    "    xtrain,xtest,ytrain,ytest=train_test_split(X,y,test_size=0.3,random_state=123,stratify=y)\n",
    "    xtrain_final,ytrain_final=sm.fit_sample(xtrain,ytrain)\n",
    "    m.fit(xtrain_final,ytrain_final)\n",
    "    y_pred=m.predict(xtest)\n",
    "    print('-------------------------------------------------------')\n",
    "    print('Accuracy=',accuracy_score(ytest,y_pred))\n",
    "    print('-------------------------------------------------------')\n",
    "    print('Confusion matrix=',confusion_matrix(ytest,y_pred))\n",
    "    print('-------------------------------------------------------')\n",
    "    prob=m.predict_proba(xtest)\n",
    "    prob=prob[:,1]\n",
    "    precision, recall, thresholds = precision_recall_curve(ytest, prob)\n",
    "    auc1 = auc(recall, precision)\n",
    "    print('PR AUC=',auc1)\n",
    "    print('classification report=',classification_report(ytest,y_pred))\n",
    "    print('--------------------------------------------------------')\n",
    "    print('f1 score=',f1_score(ytest,y_pred))\n",
    "    print('---------------------------------------------------------')\n",
    "    print('ROC AUC score=',roc_auc_score(ytest,y_pred))\n",
    "    print('-----------------------------------------------------------')\n",
    "    cm=confusion_matrix(ytest,y_pred)\n",
    "    tpr=cm[0,0]/(cm[0,0]+cm[1,0])\n",
    "    fpr=cm[1,0]/(cm[1,0]+cm[1,1])\n",
    "    tnr=cm[1,1]/(cm[0,1]+cm[1,1])\n",
    "    fnr=cm[0,1]/(cm[0,1]+cm[0,0])\n",
    "    print('True positive rate =',tpr)\n",
    "    print('False positive rate =',fpr)\n",
    "    print('True negative rate =',tnr)\n",
    "    print('False negative rate =',fnr)\n",
    "    \n",
    "    plot_importance(m)\n",
    "    plt.show()"
   ]
  },
  {
   "cell_type": "code",
   "execution_count": 15,
   "metadata": {},
   "outputs": [],
   "source": [
    "def model_1(df,m,revenue_level):\n",
    "    df1=df[df['revenue_level_current_month']==revenue_level]\n",
    "    \n",
    "    X=df1.drop(['msisdn','revenue_level_current_month','status'],axis=1)\n",
    "    x=scaler.fit_transform(X)\n",
    "    y=df1['status']\n",
    "    \n",
    "    xtrain,xtest,ytrain,ytest=train_test_split(x,y,test_size=0.3,random_state=123,stratify=y)\n",
    "    xtrain_final,ytrain_final=sm.fit_sample(xtrain,ytrain)\n",
    "    m.fit(xtrain_final,ytrain_final)\n",
    "    y_pred=m.predict(xtest)\n",
    "    print('-------------------------------------------------------')\n",
    "    print('Accuracy=',accuracy_score(ytest,y_pred))\n",
    "    print('-------------------------------------------------------')\n",
    "    print('Confusion matrix=',confusion_matrix(ytest,y_pred))\n",
    "    print('-------------------------------------------------------')\n",
    "    print('classification report=',classification_report(ytest,y_pred))\n",
    "    print('--------------------------------------------------------')\n",
    "    print('f1 score=',f1_score(ytest,y_pred))\n",
    "    print('---------------------------------------------------------')\n",
    "    print('ROC AUC score=',roc_auc_score(ytest,y_pred))\n",
    "    print('-----------------------------------------------------------')\n",
    "    cm=confusion_matrix(ytest,y_pred)\n",
    "    tpr=cm[0,0]/(cm[0,0]+cm[1,0])\n",
    "    fpr=cm[1,0]/(cm[1,0]+cm[1,1])\n",
    "    tnr=cm[1,1]/(cm[0,1]+cm[1,1])\n",
    "    fnr=cm[0,1]/(cm[0,1]+cm[0,0])\n",
    "    print('True positive rate =',tpr)\n",
    "    print('False positive rate =',fpr)\n",
    "    print('True negative rate =',tnr)\n",
    "    print('False negative rate =',fnr)"
   ]
  },
  {
   "cell_type": "code",
   "execution_count": 16,
   "metadata": {},
   "outputs": [],
   "source": [
    "from imblearn.under_sampling import TomekLinks\n",
    "\n",
    "def model_us(df,m,revenue_level):\n",
    "    df1=df[df['revenue_level_current_month']==revenue_level]\n",
    "    \n",
    "    x=df1.drop(['msisdn','revenue_level_current_month','status'],axis=1).values\n",
    "    y=df1['status'].values\n",
    "    \n",
    "    xtrain,xtest,ytrain,ytest=train_test_split(x,y,test_size=0.3,random_state=123,stratify=y)\n",
    "    tl = TomekLinks(ratio='majority')\n",
    "    x_tl, y_tl = tl.fit_sample(xtrain, ytrain)\n",
    "    m.fit(x_tl,y_tl)\n",
    "    y_pred=m.predict(xtest)\n",
    "    print('-------------------------------------------------------')\n",
    "    print('Accuracy=',accuracy_score(ytest,y_pred))\n",
    "    print('-------------------------------------------------------')\n",
    "    print('Confusion matrix=',confusion_matrix(ytest,y_pred))\n",
    "    print('-------------------------------------------------------')\n",
    "    prob=m.predict_proba(xtest)\n",
    "    prob=prob[:,1]\n",
    "    precision, recall, thresholds = precision_recall_curve(ytest, prob)\n",
    "    auc1 = auc(recall, precision)\n",
    "    print('PR AUC=',auc1)\n",
    "    print('classification report=',classification_report(ytest,y_pred))\n",
    "    print('--------------------------------------------------------')\n",
    "    print('f1 score=',f1_score(ytest,y_pred))\n",
    "    print('---------------------------------------------------------')\n",
    "    print('ROC AUC score=',roc_auc_score(ytest,y_pred))\n",
    "    print('-----------------------------------------------------------')\n",
    "    cm=confusion_matrix(ytest,y_pred)\n",
    "    tpr=cm[0,0]/(cm[0,0]+cm[1,0])\n",
    "    fpr=cm[1,0]/(cm[1,0]+cm[1,1])\n",
    "    tnr=cm[1,1]/(cm[0,1]+cm[1,1])\n",
    "    fnr=cm[0,1]/(cm[0,1]+cm[0,0])\n",
    "    print('True positive rate =',tpr)\n",
    "    print('False positive rate =',fpr)\n",
    "    print('True negative rate =',tnr)\n",
    "    print('False negative rate =',fnr)"
   ]
  },
  {
   "cell_type": "code",
   "execution_count": 17,
   "metadata": {},
   "outputs": [],
   "source": [
    "from imblearn.under_sampling import RandomUnderSampler\n",
    "\n",
    "def model_rus(df,m,revenue_level):\n",
    "    df1=df[df['revenue_level_current_month']==revenue_level]\n",
    "    \n",
    "    x=df1.drop(['msisdn','revenue_level_current_month','status'],axis=1).values\n",
    "    y=df1['status'].values\n",
    "    \n",
    "    xtrain,xtest,ytrain,ytest=train_test_split(x,y,test_size=0.3,random_state=123,stratify=y)\n",
    "    rus = RandomUnderSampler(random_state=123)\n",
    "    x_rus, y_rus = rus.fit_sample(xtrain, ytrain)\n",
    "    m.fit(x_rus,y_rus)\n",
    "    y_pred=m.predict(xtest)\n",
    "    print('-------------------------------------------------------')\n",
    "    print('Accuracy=',accuracy_score(ytest,y_pred))\n",
    "    print('-------------------------------------------------------')\n",
    "    print('Confusion matrix=',confusion_matrix(ytest,y_pred))\n",
    "    print('-------------------------------------------------------')\n",
    "    prob=m.predict_proba(xtest)\n",
    "    prob=prob[:,1]\n",
    "    precision, recall, thresholds = precision_recall_curve(ytest, prob)\n",
    "    auc1 = auc(recall, precision)\n",
    "    print('PR AUC=',auc1)\n",
    "    print('classification report=',classification_report(ytest,y_pred))\n",
    "    print('--------------------------------------------------------')\n",
    "    print('f1 score=',f1_score(ytest,y_pred))\n",
    "    print('---------------------------------------------------------')\n",
    "    print('ROC AUC score=',roc_auc_score(ytest,y_pred))\n",
    "    print('-----------------------------------------------------------')\n",
    "    cm=confusion_matrix(ytest,y_pred)\n",
    "    tpr=cm[0,0]/(cm[0,0]+cm[1,0])\n",
    "    fpr=cm[1,0]/(cm[1,0]+cm[1,1])\n",
    "    tnr=cm[1,1]/(cm[0,1]+cm[1,1])\n",
    "    fnr=cm[0,1]/(cm[0,1]+cm[0,0])\n",
    "    print('True positive rate =',tpr)\n",
    "    print('False positive rate =',fpr)\n",
    "    print('True negative rate =',tnr)\n",
    "    print('False negative rate =',fnr)"
   ]
  },
  {
   "cell_type": "code",
   "execution_count": 10,
   "metadata": {},
   "outputs": [],
   "source": [
    "#preprocess the current month data\n",
    "a=preprocess_df_current_month(current_month_1,churners_current_month,nonchurners_current_month,20181130)"
   ]
  },
  {
   "cell_type": "code",
   "execution_count": 11,
   "metadata": {},
   "outputs": [
    {
     "data": {
      "text/html": [
       "<div>\n",
       "<style scoped>\n",
       "    .dataframe tbody tr th:only-of-type {\n",
       "        vertical-align: middle;\n",
       "    }\n",
       "\n",
       "    .dataframe tbody tr th {\n",
       "        vertical-align: top;\n",
       "    }\n",
       "\n",
       "    .dataframe thead th {\n",
       "        text-align: right;\n",
       "    }\n",
       "</style>\n",
       "<table border=\"1\" class=\"dataframe\">\n",
       "  <thead>\n",
       "    <tr style=\"text-align: right;\">\n",
       "      <th></th>\n",
       "      <th>msisdn</th>\n",
       "      <th>dist_voc_days_current_month</th>\n",
       "      <th>dist_data_days_current_month</th>\n",
       "      <th>data_tot_usage_mb_current_month</th>\n",
       "      <th>data_charge_kes_current_month</th>\n",
       "      <th>edr_revenue_current_month</th>\n",
       "      <th>total_revenue_current_month</th>\n",
       "      <th>voc_tot_dur_current_month</th>\n",
       "      <th>revenue_level_current_month</th>\n",
       "      <th>homing_site_data_type</th>\n",
       "      <th>...</th>\n",
       "      <th>status</th>\n",
       "      <th>AON_months</th>\n",
       "      <th>percent_diff_rev</th>\n",
       "      <th>percent_diff_voc_dur</th>\n",
       "      <th>percent_diff_data</th>\n",
       "      <th>revenue_per_minute</th>\n",
       "      <th>revenue_per_data</th>\n",
       "      <th>diff_voc_days</th>\n",
       "      <th>diff_data_days</th>\n",
       "      <th>payg_precent</th>\n",
       "    </tr>\n",
       "  </thead>\n",
       "  <tbody>\n",
       "    <tr>\n",
       "      <th>0</th>\n",
       "      <td>254779403464</td>\n",
       "      <td>6</td>\n",
       "      <td>8</td>\n",
       "      <td>931.191694</td>\n",
       "      <td>0.0</td>\n",
       "      <td>120</td>\n",
       "      <td>149.99</td>\n",
       "      <td>3626.0</td>\n",
       "      <td>MVC</td>\n",
       "      <td>3G-2G</td>\n",
       "      <td>...</td>\n",
       "      <td>1</td>\n",
       "      <td>0.0</td>\n",
       "      <td>0.000000</td>\n",
       "      <td>0.000000</td>\n",
       "      <td>0.00000</td>\n",
       "      <td>0.041365</td>\n",
       "      <td>0.161073</td>\n",
       "      <td>0.0</td>\n",
       "      <td>0.0</td>\n",
       "      <td>0.0</td>\n",
       "    </tr>\n",
       "    <tr>\n",
       "      <th>1</th>\n",
       "      <td>254772877949</td>\n",
       "      <td>2</td>\n",
       "      <td>0</td>\n",
       "      <td>0.000000</td>\n",
       "      <td>0.0</td>\n",
       "      <td>0</td>\n",
       "      <td>19.98</td>\n",
       "      <td>359.0</td>\n",
       "      <td>LVC</td>\n",
       "      <td>4G-3G-2G</td>\n",
       "      <td>...</td>\n",
       "      <td>1</td>\n",
       "      <td>4.0</td>\n",
       "      <td>-3.471471</td>\n",
       "      <td>-1.537604</td>\n",
       "      <td>0.00000</td>\n",
       "      <td>0.055655</td>\n",
       "      <td>0.000000</td>\n",
       "      <td>-4.0</td>\n",
       "      <td>-7.0</td>\n",
       "      <td>0.0</td>\n",
       "    </tr>\n",
       "    <tr>\n",
       "      <th>2</th>\n",
       "      <td>254773169065</td>\n",
       "      <td>4</td>\n",
       "      <td>0</td>\n",
       "      <td>0.000000</td>\n",
       "      <td>0.0</td>\n",
       "      <td>49</td>\n",
       "      <td>49.00</td>\n",
       "      <td>353.0</td>\n",
       "      <td>LVC</td>\n",
       "      <td>4G-3G-2G</td>\n",
       "      <td>...</td>\n",
       "      <td>0</td>\n",
       "      <td>1.0</td>\n",
       "      <td>0.000000</td>\n",
       "      <td>0.000000</td>\n",
       "      <td>0.00000</td>\n",
       "      <td>0.138810</td>\n",
       "      <td>0.000000</td>\n",
       "      <td>0.0</td>\n",
       "      <td>0.0</td>\n",
       "      <td>0.0</td>\n",
       "    </tr>\n",
       "    <tr>\n",
       "      <th>3</th>\n",
       "      <td>254774480830</td>\n",
       "      <td>13</td>\n",
       "      <td>1</td>\n",
       "      <td>0.312265</td>\n",
       "      <td>0.0</td>\n",
       "      <td>0</td>\n",
       "      <td>0.00</td>\n",
       "      <td>7816.0</td>\n",
       "      <td>Zero</td>\n",
       "      <td>3G-2G</td>\n",
       "      <td>...</td>\n",
       "      <td>1</td>\n",
       "      <td>7.0</td>\n",
       "      <td>0.000000</td>\n",
       "      <td>0.019063</td>\n",
       "      <td>0.99504</td>\n",
       "      <td>0.000000</td>\n",
       "      <td>0.000000</td>\n",
       "      <td>0.0</td>\n",
       "      <td>0.0</td>\n",
       "      <td>0.0</td>\n",
       "    </tr>\n",
       "    <tr>\n",
       "      <th>4</th>\n",
       "      <td>254774144936</td>\n",
       "      <td>0</td>\n",
       "      <td>0</td>\n",
       "      <td>0.000000</td>\n",
       "      <td>0.0</td>\n",
       "      <td>0</td>\n",
       "      <td>0.00</td>\n",
       "      <td>0.0</td>\n",
       "      <td>Zero</td>\n",
       "      <td>3G-2G</td>\n",
       "      <td>...</td>\n",
       "      <td>1</td>\n",
       "      <td>2.0</td>\n",
       "      <td>0.000000</td>\n",
       "      <td>0.000000</td>\n",
       "      <td>0.00000</td>\n",
       "      <td>0.000000</td>\n",
       "      <td>0.000000</td>\n",
       "      <td>0.0</td>\n",
       "      <td>0.0</td>\n",
       "      <td>0.0</td>\n",
       "    </tr>\n",
       "  </tbody>\n",
       "</table>\n",
       "<p>5 rows × 21 columns</p>\n",
       "</div>"
      ],
      "text/plain": [
       "         msisdn  dist_voc_days_current_month  dist_data_days_current_month  \\\n",
       "0  254779403464                            6                             8   \n",
       "1  254772877949                            2                             0   \n",
       "2  254773169065                            4                             0   \n",
       "3  254774480830                           13                             1   \n",
       "4  254774144936                            0                             0   \n",
       "\n",
       "   data_tot_usage_mb_current_month  data_charge_kes_current_month  \\\n",
       "0                       931.191694                            0.0   \n",
       "1                         0.000000                            0.0   \n",
       "2                         0.000000                            0.0   \n",
       "3                         0.312265                            0.0   \n",
       "4                         0.000000                            0.0   \n",
       "\n",
       "   edr_revenue_current_month  total_revenue_current_month  \\\n",
       "0                        120                       149.99   \n",
       "1                          0                        19.98   \n",
       "2                         49                        49.00   \n",
       "3                          0                         0.00   \n",
       "4                          0                         0.00   \n",
       "\n",
       "   voc_tot_dur_current_month revenue_level_current_month  \\\n",
       "0                     3626.0                         MVC   \n",
       "1                      359.0                         LVC   \n",
       "2                      353.0                         LVC   \n",
       "3                     7816.0                        Zero   \n",
       "4                        0.0                        Zero   \n",
       "\n",
       "  homing_site_data_type  ... status  AON_months  percent_diff_rev  \\\n",
       "0                 3G-2G  ...      1         0.0          0.000000   \n",
       "1              4G-3G-2G  ...      1         4.0         -3.471471   \n",
       "2              4G-3G-2G  ...      0         1.0          0.000000   \n",
       "3                 3G-2G  ...      1         7.0          0.000000   \n",
       "4                 3G-2G  ...      1         2.0          0.000000   \n",
       "\n",
       "   percent_diff_voc_dur  percent_diff_data  revenue_per_minute  \\\n",
       "0              0.000000            0.00000            0.041365   \n",
       "1             -1.537604            0.00000            0.055655   \n",
       "2              0.000000            0.00000            0.138810   \n",
       "3              0.019063            0.99504            0.000000   \n",
       "4              0.000000            0.00000            0.000000   \n",
       "\n",
       "   revenue_per_data  diff_voc_days  diff_data_days  payg_precent  \n",
       "0          0.161073            0.0             0.0           0.0  \n",
       "1          0.000000           -4.0            -7.0           0.0  \n",
       "2          0.000000            0.0             0.0           0.0  \n",
       "3          0.000000            0.0             0.0           0.0  \n",
       "4          0.000000            0.0             0.0           0.0  \n",
       "\n",
       "[5 rows x 21 columns]"
      ]
     },
     "execution_count": 11,
     "metadata": {},
     "output_type": "execute_result"
    }
   ],
   "source": [
    "#Preprocess the previous month data and combines both previous month data and current month data\n",
    "b=preprocess_previous_month(previous_month_1,a,churners_current_month,nonchurners_current_month)\n",
    "b.head()"
   ]
  },
  {
   "cell_type": "code",
   "execution_count": 120,
   "metadata": {},
   "outputs": [
    {
     "data": {
      "text/plain": [
       "Index(['msisdn', 'dist_voc_days_current_month', 'dist_data_days_current_month',\n",
       "       'data_tot_usage_mb_current_month', 'data_charge_kes_current_month',\n",
       "       'edr_revenue_current_month', 'total_revenue_current_month',\n",
       "       'voc_tot_dur_current_month', 'revenue_level_current_month',\n",
       "       'homing_site_data_type', 'data_support_type', 'status', 'AON_months',\n",
       "       'percent_diff_rev', 'percent_diff_voc_dur', 'percent_diff_data',\n",
       "       'revenue_per_minute', 'revenue_per_data', 'diff_voc_days',\n",
       "       'diff_data_days', 'payg_precent'],\n",
       "      dtype='object')"
      ]
     },
     "execution_count": 120,
     "metadata": {},
     "output_type": "execute_result"
    }
   ],
   "source": [
    "b.columns"
   ]
  },
  {
   "cell_type": "code",
   "execution_count": 163,
   "metadata": {},
   "outputs": [
    {
     "data": {
      "text/plain": [
       "<matplotlib.axes._subplots.AxesSubplot at 0x2116abc8d68>"
      ]
     },
     "execution_count": 163,
     "metadata": {},
     "output_type": "execute_result"
    },
    {
     "data": {
      "image/png": "[encoded data removed]",
      "text/plain": [
       "<Figure size 432x288 with 1 Axes>"
      ]
     },
     "metadata": {
      "needs_background": "light"
     },
     "output_type": "display_data"
    }
   ],
   "source": [
    "from tqdm import tqdm\n",
    "from sklearn.preprocessing import LabelEncoder\n",
    "le=LabelEncoder()\n",
    "\n",
    "from xgboost import XGBClassifier,plot_importance\n",
    "xgb_hvc=XGBClassifier(max_depth=3,learning_rate=0.001,n_estimators=100,scale_pos_weight=0.025)\n",
    "\n",
    "df1=b[b['revenue_level_current_month']=='HVC']\n",
    "\n",
    "x=df1.drop(['msisdn','revenue_level_current_month','status'],axis=1)\n",
    "#x['data_support_type']=le.fit_transform(x['data_support_type'])\n",
    "#x['homing_site_data_type']=le.fit_transform(x['homing_site_data_type'])\n",
    "x=pd.get_dummies(data=x,columns=['homing_site_data_type','data_support_type'],drop_first=True)\n",
    "y=df1['status']\n",
    "\n",
    "\n",
    "    \n",
    "xtrain,xtest,ytrain,ytest=train_test_split(x,y,test_size=0.3,random_state=123,stratify=y)\n",
    "xtrain_final,ytrain_final=sm.fit_sample(xtrain,ytrain)\n",
    "xgb_hvc.fit(xtrain_final,ytrain_final)\n",
    "\n",
    "plot_importance(xgb_hvc,importance_type='gain')\n",
    "\n"
   ]
  },
  {
   "cell_type": "code",
   "execution_count": 20,
   "metadata": {},
   "outputs": [
    {
     "name": "stdout",
     "output_type": "stream",
     "text": [
      "[[ 1241   232]\n",
      " [15647 41743]]\n",
      "              precision    recall  f1-score   support\n",
      "\n",
      "           0       0.07      0.84      0.14      1473\n",
      "           1       0.99      0.73      0.84     57390\n",
      "\n",
      "   micro avg       0.73      0.73      0.73     58863\n",
      "   macro avg       0.53      0.78      0.49     58863\n",
      "weighted avg       0.97      0.73      0.82     58863\n",
      "\n"
     ]
    }
   ],
   "source": [
    "from sklearn.preprocessing import LabelEncoder\n",
    "le=LabelEncoder()\n",
    "\n",
    "from xgboost import XGBClassifier,plot_importance\n",
    "xgb_hvc=XGBClassifier(max_depth=3,learning_rate=0.001,n_estimators=100,scale_pos_weight=0.025)\n",
    "\n",
    "df1=b[b['revenue_level_current_month']=='HVC']\n",
    "\n",
    "#x=df1.drop(['msisdn','revenue_level_current_month','status'],axis=1)\n",
    "#df1['data_support_type']=le.fit_transform(df1['data_support_type'].astype(str))\n",
    "#df1['homing_site_data_type']=le.fit_transform(df1['homing_site_data_type'].astype(str))\n",
    "x=df1[['dist_data_days_current_month','AON_months','dist_voc_days_current_month','data_support_type','homing_site_data_type']]\n",
    "x=pd.get_dummies(data=x,columns=['homing_site_data_type','data_support_type'],drop_first=True)\n",
    "y=df1['status']\n",
    "\n",
    "\n",
    "    \n",
    "xtrain,xtest,ytrain,ytest=train_test_split(x,y,test_size=0.3,random_state=123,stratify=y)\n",
    "#xtrain_final,ytrain_final=sm.fit_sample(xtrain,ytrain)\n",
    "xgb_hvc.fit(xtrain,ytrain)\n",
    "ypred=xgb_hvc.predict(xtest)\n",
    "print(confusion_matrix(ytest,ypred))\n",
    "print(classification_report(ytest,ypred))\n",
    "#plot_importance(xgb_hvc,importance_type='gain')\n",
    "\n"
   ]
  },
  {
   "cell_type": "code",
   "execution_count": 18,
   "metadata": {},
   "outputs": [
    {
     "name": "stderr",
     "output_type": "stream",
     "text": [
      "C:\\Users\\sai.deepak\\AppData\\Local\\Continuum\\anaconda3\\lib\\site-packages\\ipykernel_launcher.py:11: SettingWithCopyWarning: \n",
      "A value is trying to be set on a copy of a slice from a DataFrame.\n",
      "Try using .loc[row_indexer,col_indexer] = value instead\n",
      "\n",
      "See the caveats in the documentation: http://pandas.pydata.org/pandas-docs/stable/indexing.html#indexing-view-versus-copy\n",
      "  # This is added back by InteractiveShellApp.init_path()\n",
      "C:\\Users\\sai.deepak\\AppData\\Local\\Continuum\\anaconda3\\lib\\site-packages\\ipykernel_launcher.py:12: SettingWithCopyWarning: \n",
      "A value is trying to be set on a copy of a slice from a DataFrame.\n",
      "Try using .loc[row_indexer,col_indexer] = value instead\n",
      "\n",
      "See the caveats in the documentation: http://pandas.pydata.org/pandas-docs/stable/indexing.html#indexing-view-versus-copy\n",
      "  if sys.path[0] == '':\n"
     ]
    },
    {
     "name": "stdout",
     "output_type": "stream",
     "text": [
      "[[ 38197  16510]\n",
      " [ 38850 212442]]\n",
      "              precision    recall  f1-score   support\n",
      "\n",
      "           0       0.50      0.70      0.58     54707\n",
      "           1       0.93      0.85      0.88    251292\n",
      "\n",
      "   micro avg       0.82      0.82      0.82    305999\n",
      "   macro avg       0.71      0.77      0.73    305999\n",
      "weighted avg       0.85      0.82      0.83    305999\n",
      "\n"
     ]
    }
   ],
   "source": [
    "from sklearn.preprocessing import LabelEncoder\n",
    "le=LabelEncoder()\n",
    "\n",
    "from xgboost import XGBClassifier,plot_importance\n",
    "from lightgbm import LGBMClassifier\n",
    "lgbm_hvc=LGBMClassifier(max_depth=3,learning_rate=0.001,n_estimators=200)\n",
    "\n",
    "df1=b[b['revenue_level_current_month']=='MVC']\n",
    "\n",
    "#x=df1.drop(['msisdn','revenue_level_current_month','status'],axis=1)\n",
    "df1['data_support_type']=le.fit_transform(df1['data_support_type'].astype(str))\n",
    "df1['homing_site_data_type']=le.fit_transform(df1['homing_site_data_type'].astype(str))\n",
    "x=df1[['dist_data_days_current_month','dist_voc_days_current_month','AON_months','data_support_type',\n",
    "      'homing_site_data_type']]\n",
    "#X=pd.get_dummies(data=x,columns=['homing_site_data_type','data_support_type'],drop_first=True)\n",
    "y=df1['status']\n",
    "\n",
    "\n",
    "    \n",
    "xtrain,xtest,ytrain,ytest=train_test_split(x,y,test_size=0.3,random_state=123,stratify=y)\n",
    "xtrain_final,ytrain_final=sm.fit_sample(xtrain,ytrain)\n",
    "lgbm_hvc.fit(xtrain_final,ytrain_final)\n",
    "\n",
    "ypred=lgbm_hvc.predict(xtest)\n",
    "print(confusion_matrix(ytest,ypred))\n",
    "print(classification_report(ytest,ypred))\n",
    "\n",
    "#plot_importance(xgb_hvc,importance_type='gain')\n",
    "\n"
   ]
  },
  {
   "cell_type": "code",
   "execution_count": 114,
   "metadata": {},
   "outputs": [
    {
     "data": {
      "text/plain": [
       "<matplotlib.axes._subplots.AxesSubplot at 0x21185becfd0>"
      ]
     },
     "execution_count": 114,
     "metadata": {},
     "output_type": "execute_result"
    },
    {
     "data": {
      "image/png": "[encoded data removed]",
      "text/plain": [
       "<Figure size 1152x432 with 1 Axes>"
      ]
     },
     "metadata": {
      "needs_background": "light"
     },
     "output_type": "display_data"
    }
   ],
   "source": [
    "feature_importance=xgb_hvc.feature_importances_\n",
    "\n",
    "p=pd.DataFrame(feature_importance)\n",
    "p.index=x.columns\n",
    "p=p.sort_values(by=0,ascending=False)\n",
    "p.columns=['feature_weight']\n",
    "\n",
    "plt.figure(figsize=(16,6))\n",
    "sns.barplot(data=p,y=p.index,x=p['feature_weight'])"
   ]
  },
  {
   "cell_type": "code",
   "execution_count": 115,
   "metadata": {},
   "outputs": [
    {
     "data": {
      "text/plain": [
       "<matplotlib.axes._subplots.AxesSubplot at 0x211766930b8>"
      ]
     },
     "execution_count": 115,
     "metadata": {},
     "output_type": "execute_result"
    },
    {
     "data": {
      "image/png": "[encoded data removed]",
      "text/plain": [
       "<Figure size 1152x432 with 1 Axes>"
      ]
     },
     "metadata": {
      "needs_background": "light"
     },
     "output_type": "display_data"
    }
   ],
   "source": [
    "feature_importance=xgb_mvc.feature_importances_\n",
    "\n",
    "p=pd.DataFrame(feature_importance)\n",
    "p.index=x.columns\n",
    "p=p.sort_values(by=0,ascending=False)\n",
    "p.columns=['feature_weight']\n",
    "\n",
    "plt.figure(figsize=(16,6))\n",
    "sns.barplot(data=p,y=p.index,x=p['feature_weight'])"
   ]
  },
  {
   "cell_type": "code",
   "execution_count": null,
   "metadata": {},
   "outputs": [],
   "source": []
  },
  {
   "cell_type": "code",
   "execution_count": 91,
   "metadata": {},
   "outputs": [
    {
     "data": {
      "text/plain": [
       "RandomForestClassifier(bootstrap=True, class_weight=None, criterion='gini',\n",
       "            max_depth=3, max_features='auto', max_leaf_nodes=None,\n",
       "            min_impurity_decrease=0.0, min_impurity_split=None,\n",
       "            min_samples_leaf=1, min_samples_split=2,\n",
       "            min_weight_fraction_leaf=0.0, n_estimators=100, n_jobs=None,\n",
       "            oob_score=False, random_state=None, verbose=0,\n",
       "            warm_start=False)"
      ]
     },
     "execution_count": 91,
     "metadata": {},
     "output_type": "execute_result"
    }
   ],
   "source": [
    "from sklearn.preprocessing import LabelEncoder\n",
    "le=LabelEncoder()\n",
    "\n",
    "from xgboost import XGBClassifier,plot_importance\n",
    "rf=RandomForestClassifier(max_depth=3,n_estimators=100)\n",
    "\n",
    "df1=b[b['revenue_level_current_month']=='HVC']\n",
    "\n",
    "x=df1.drop(['msisdn','revenue_level_current_month','status'],axis=1)\n",
    "#x['data_support_type']=le.fit_transform(x['data_support_type'])\n",
    "#x['homing_site_data_type']=le.fit_transform(x['homing_site_data_type'])\n",
    "x=pd.get_dummies(data=x,columns=['homing_site_data_type','data_support_type'],drop_first=True)\n",
    "y=df1['status']\n",
    "\n",
    "\n",
    "    \n",
    "xtrain,xtest,ytrain,ytest=train_test_split(x,y,test_size=0.3,random_state=123,stratify=y)\n",
    "xtrain_final,ytrain_final=sm.fit_sample(xtrain,ytrain)\n",
    "rf.fit(xtrain_final,ytrain_final)"
   ]
  },
  {
   "cell_type": "code",
   "execution_count": 116,
   "metadata": {},
   "outputs": [
    {
     "data": {
      "text/plain": [
       "RandomForestClassifier(bootstrap=True, class_weight=None, criterion='gini',\n",
       "            max_depth=3, max_features='auto', max_leaf_nodes=None,\n",
       "            min_impurity_decrease=0.0, min_impurity_split=None,\n",
       "            min_samples_leaf=1, min_samples_split=2,\n",
       "            min_weight_fraction_leaf=0.0, n_estimators=100, n_jobs=None,\n",
       "            oob_score=False, random_state=None, verbose=0,\n",
       "            warm_start=False)"
      ]
     },
     "execution_count": 116,
     "metadata": {},
     "output_type": "execute_result"
    }
   ],
   "source": [
    "from sklearn.preprocessing import LabelEncoder\n",
    "le=LabelEncoder()\n",
    "\n",
    "from xgboost import XGBClassifier,plot_importance\n",
    "rf=RandomForestClassifier(max_depth=3,n_estimators=100)\n",
    "\n",
    "df1=b[b['revenue_level_current_month']=='MVC']\n",
    "\n",
    "x=df1.drop(['msisdn','revenue_level_current_month','status'],axis=1)\n",
    "#x['data_support_type']=le.fit_transform(x['data_support_type'])\n",
    "#x['homing_site_data_type']=le.fit_transform(x['homing_site_data_type'])\n",
    "x=pd.get_dummies(data=x,columns=['homing_site_data_type','data_support_type'],drop_first=True)\n",
    "y=df1['status']\n",
    "\n",
    "\n",
    "    \n",
    "xtrain,xtest,ytrain,ytest=train_test_split(x,y,test_size=0.3,random_state=123,stratify=y)\n",
    "xtrain_final,ytrain_final=sm.fit_sample(xtrain,ytrain)\n",
    "rf.fit(xtrain_final,ytrain_final)"
   ]
  },
  {
   "cell_type": "code",
   "execution_count": 118,
   "metadata": {},
   "outputs": [
    {
     "data": {
      "text/plain": [
       "<matplotlib.axes._subplots.AxesSubplot at 0x2117e034e48>"
      ]
     },
     "execution_count": 118,
     "metadata": {},
     "output_type": "execute_result"
    },
    {
     "data": {
      "image/png": "[encoded data removed]",
      "text/plain": [
       "<Figure size 1152x432 with 1 Axes>"
      ]
     },
     "metadata": {
      "needs_background": "light"
     },
     "output_type": "display_data"
    }
   ],
   "source": [
    "feature_importance=rf.feature_importances_\n",
    "\n",
    "p=pd.DataFrame(feature_importance)\n",
    "p.index=x.columns\n",
    "p=p.sort_values(by=0,ascending=False)\n",
    "p.columns=['feature_weight']\n",
    "\n",
    "plt.figure(figsize=(16,6))\n",
    "sns.barplot(data=p,y=p.index,x=p['feature_weight'])"
   ]
  },
  {
   "cell_type": "code",
   "execution_count": 93,
   "metadata": {},
   "outputs": [],
   "source": [
    "feature_importance=rf.feature_importances_"
   ]
  },
  {
   "cell_type": "code",
   "execution_count": 107,
   "metadata": {},
   "outputs": [],
   "source": [
    "p=pd.DataFrame(feature_importance)\n",
    "p.index=x.columns\n",
    "p=p.sort_values(by=0,ascending=False)\n",
    "p.columns=['feature_weight']"
   ]
  },
  {
   "cell_type": "code",
   "execution_count": 111,
   "metadata": {},
   "outputs": [
    {
     "data": {
      "text/plain": [
       "<matplotlib.axes._subplots.AxesSubplot at 0x21171716048>"
      ]
     },
     "execution_count": 111,
     "metadata": {},
     "output_type": "execute_result"
    },
    {
     "data": {
      "image/png": "[encoded data removed]",
      "text/plain": [
       "<Figure size 1152x432 with 1 Axes>"
      ]
     },
     "metadata": {
      "needs_background": "light"
     },
     "output_type": "display_data"
    }
   ],
   "source": [
    "plt.figure(figsize=(16,6))\n",
    "sns.barplot(data=p,y=p.index,x=p['feature_weight'])"
   ]
  },
  {
   "cell_type": "code",
   "execution_count": 113,
   "metadata": {},
   "outputs": [
    {
     "data": {
      "text/plain": [
       "<matplotlib.axes._subplots.AxesSubplot at 0x21185c5fd30>"
      ]
     },
     "execution_count": 113,
     "metadata": {},
     "output_type": "execute_result"
    },
    {
     "data": {
      "image/png": "[encoded data removed]",
      "text/plain": [
       "<Figure size 432x288 with 1 Axes>"
      ]
     },
     "metadata": {
      "needs_background": "light"
     },
     "output_type": "display_data"
    }
   ],
   "source": [
    "from sklearn.preprocessing import LabelEncoder\n",
    "le=LabelEncoder()\n",
    "\n",
    "from xgboost import XGBClassifier,plot_importance\n",
    "xgb_mvc=XGBClassifier(max_depth=3,learning_rate=0.001,n_estimators=100)\n",
    "\n",
    "df1=b[b['revenue_level_current_month']=='MVC']\n",
    "\n",
    "x=df1.drop(['msisdn','revenue_level_current_month','status'],axis=1)\n",
    "#x['data_support_type']=le.fit_transform(x['data_support_type'])\n",
    "#x['homing_site_data_type']=le.fit_transform(x['homing_site_data_type'])\n",
    "x=pd.get_dummies(data=x,columns=['homing_site_data_type','data_support_type'],drop_first=True)\n",
    "y=df1['status']\n",
    "\n",
    "\n",
    "    \n",
    "xtrain,xtest,ytrain,ytest=train_test_split(x,y,test_size=0.3,random_state=123,stratify=y)\n",
    "xtrain_final,ytrain_final=sm.fit_sample(xtrain,ytrain)\n",
    "xgb_mvc.fit(xtrain_final,ytrain_final)\n",
    "\n",
    "plot_importance(xgb_mvc)\n",
    "\n"
   ]
  },
  {
   "cell_type": "code",
   "execution_count": 85,
   "metadata": {},
   "outputs": [
    {
     "name": "stdout",
     "output_type": "stream",
     "text": [
      "[0.3765948  0.32387334 0.         0.         0.         0.\n",
      " 0.         0.         0.         0.         0.         0.\n",
      " 0.         0.         0.         0.         0.         0.14532411\n",
      " 0.         0.         0.15420774 0.         0.        ]\n"
     ]
    },
    {
     "data": {
      "text/plain": [
       "<BarContainer object of 23 artists>"
      ]
     },
     "execution_count": 85,
     "metadata": {},
     "output_type": "execute_result"
    },
    {
     "data": {
      "image/png": "[encoded data removed]",
      "text/plain": [
       "<Figure size 432x288 with 1 Axes>"
      ]
     },
     "metadata": {
      "needs_background": "light"
     },
     "output_type": "display_data"
    }
   ],
   "source": [
    "print(xgb.feature_importances_)\n",
    "\n",
    "plt.bar(range(len(xgb.feature_importances_)), xgb.feature_importances_)"
   ]
  },
  {
   "cell_type": "code",
   "execution_count": 90,
   "metadata": {},
   "outputs": [
    {
     "data": {
      "text/plain": [
       "'data_support_type_Others'"
      ]
     },
     "execution_count": 90,
     "metadata": {},
     "output_type": "execute_result"
    }
   ],
   "source": [
    "x.columns[22]"
   ]
  },
  {
   "cell_type": "code",
   "execution_count": 61,
   "metadata": {},
   "outputs": [],
   "source": [
    "import matplotlib.pyplot as plt\n",
    "import seaborn as sns"
   ]
  },
  {
   "cell_type": "code",
   "execution_count": 23,
   "metadata": {},
   "outputs": [
    {
     "ename": "TypeError",
     "evalue": "boxplot() got an unexpected keyword argument 'showlier'",
     "output_type": "error",
     "traceback": [
      "\u001b[1;31m---------------------------------------------------------------------------\u001b[0m",
      "\u001b[1;31mTypeError\u001b[0m                                 Traceback (most recent call last)",
      "\u001b[1;32m<ipython-input-23-50866cefe97f>\u001b[0m in \u001b[0;36m<module>\u001b[1;34m\u001b[0m\n\u001b[1;32m----> 1\u001b[1;33m \u001b[0msns\u001b[0m\u001b[1;33m.\u001b[0m\u001b[0mboxplot\u001b[0m\u001b[1;33m(\u001b[0m\u001b[0mx\u001b[0m\u001b[1;33m=\u001b[0m\u001b[1;34m'status'\u001b[0m\u001b[1;33m,\u001b[0m\u001b[0my\u001b[0m\u001b[1;33m=\u001b[0m\u001b[1;34m'diff_data_days'\u001b[0m\u001b[1;33m,\u001b[0m\u001b[0mdata\u001b[0m\u001b[1;33m=\u001b[0m\u001b[0mb\u001b[0m\u001b[1;33m,\u001b[0m\u001b[0mshowlier\u001b[0m\u001b[1;33m=\u001b[0m\u001b[1;32mFalse\u001b[0m\u001b[1;33m)\u001b[0m\u001b[1;33m\u001b[0m\u001b[1;33m\u001b[0m\u001b[0m\n\u001b[0m\u001b[0;32m      2\u001b[0m \u001b[0mplt\u001b[0m\u001b[1;33m.\u001b[0m\u001b[0mshow\u001b[0m\u001b[1;33m(\u001b[0m\u001b[1;33m)\u001b[0m\u001b[1;33m\u001b[0m\u001b[1;33m\u001b[0m\u001b[0m\n",
      "\u001b[1;32m~\\AppData\\Local\\Continuum\\anaconda3\\lib\\site-packages\\seaborn\\categorical.py\u001b[0m in \u001b[0;36mboxplot\u001b[1;34m(x, y, hue, data, order, hue_order, orient, color, palette, saturation, width, dodge, fliersize, linewidth, whis, notch, ax, **kwargs)\u001b[0m\n\u001b[0;32m   2235\u001b[0m     \u001b[0mkwargs\u001b[0m\u001b[1;33m.\u001b[0m\u001b[0mupdate\u001b[0m\u001b[1;33m(\u001b[0m\u001b[0mdict\u001b[0m\u001b[1;33m(\u001b[0m\u001b[0mwhis\u001b[0m\u001b[1;33m=\u001b[0m\u001b[0mwhis\u001b[0m\u001b[1;33m,\u001b[0m \u001b[0mnotch\u001b[0m\u001b[1;33m=\u001b[0m\u001b[0mnotch\u001b[0m\u001b[1;33m)\u001b[0m\u001b[1;33m)\u001b[0m\u001b[1;33m\u001b[0m\u001b[1;33m\u001b[0m\u001b[0m\n\u001b[0;32m   2236\u001b[0m \u001b[1;33m\u001b[0m\u001b[0m\n\u001b[1;32m-> 2237\u001b[1;33m     \u001b[0mplotter\u001b[0m\u001b[1;33m.\u001b[0m\u001b[0mplot\u001b[0m\u001b[1;33m(\u001b[0m\u001b[0max\u001b[0m\u001b[1;33m,\u001b[0m \u001b[0mkwargs\u001b[0m\u001b[1;33m)\u001b[0m\u001b[1;33m\u001b[0m\u001b[1;33m\u001b[0m\u001b[0m\n\u001b[0m\u001b[0;32m   2238\u001b[0m     \u001b[1;32mreturn\u001b[0m \u001b[0max\u001b[0m\u001b[1;33m\u001b[0m\u001b[1;33m\u001b[0m\u001b[0m\n\u001b[0;32m   2239\u001b[0m \u001b[1;33m\u001b[0m\u001b[0m\n",
      "\u001b[1;32m~\\AppData\\Local\\Continuum\\anaconda3\\lib\\site-packages\\seaborn\\categorical.py\u001b[0m in \u001b[0;36mplot\u001b[1;34m(self, ax, boxplot_kws)\u001b[0m\n\u001b[0;32m    547\u001b[0m     \u001b[1;32mdef\u001b[0m \u001b[0mplot\u001b[0m\u001b[1;33m(\u001b[0m\u001b[0mself\u001b[0m\u001b[1;33m,\u001b[0m \u001b[0max\u001b[0m\u001b[1;33m,\u001b[0m \u001b[0mboxplot_kws\u001b[0m\u001b[1;33m)\u001b[0m\u001b[1;33m:\u001b[0m\u001b[1;33m\u001b[0m\u001b[1;33m\u001b[0m\u001b[0m\n\u001b[0;32m    548\u001b[0m         \u001b[1;34m\"\"\"Make the plot.\"\"\"\u001b[0m\u001b[1;33m\u001b[0m\u001b[1;33m\u001b[0m\u001b[0m\n\u001b[1;32m--> 549\u001b[1;33m         \u001b[0mself\u001b[0m\u001b[1;33m.\u001b[0m\u001b[0mdraw_boxplot\u001b[0m\u001b[1;33m(\u001b[0m\u001b[0max\u001b[0m\u001b[1;33m,\u001b[0m \u001b[0mboxplot_kws\u001b[0m\u001b[1;33m)\u001b[0m\u001b[1;33m\u001b[0m\u001b[1;33m\u001b[0m\u001b[0m\n\u001b[0m\u001b[0;32m    550\u001b[0m         \u001b[0mself\u001b[0m\u001b[1;33m.\u001b[0m\u001b[0mannotate_axes\u001b[0m\u001b[1;33m(\u001b[0m\u001b[0max\u001b[0m\u001b[1;33m)\u001b[0m\u001b[1;33m\u001b[0m\u001b[1;33m\u001b[0m\u001b[0m\n\u001b[0;32m    551\u001b[0m         \u001b[1;32mif\u001b[0m \u001b[0mself\u001b[0m\u001b[1;33m.\u001b[0m\u001b[0morient\u001b[0m \u001b[1;33m==\u001b[0m \u001b[1;34m\"h\"\u001b[0m\u001b[1;33m:\u001b[0m\u001b[1;33m\u001b[0m\u001b[1;33m\u001b[0m\u001b[0m\n",
      "\u001b[1;32m~\\AppData\\Local\\Continuum\\anaconda3\\lib\\site-packages\\seaborn\\categorical.py\u001b[0m in \u001b[0;36mdraw_boxplot\u001b[1;34m(self, ax, kws)\u001b[0m\n\u001b[0;32m    484\u001b[0m                                          \u001b[0mpositions\u001b[0m\u001b[1;33m=\u001b[0m\u001b[1;33m[\u001b[0m\u001b[0mi\u001b[0m\u001b[1;33m]\u001b[0m\u001b[1;33m,\u001b[0m\u001b[1;33m\u001b[0m\u001b[1;33m\u001b[0m\u001b[0m\n\u001b[0;32m    485\u001b[0m                                          \u001b[0mwidths\u001b[0m\u001b[1;33m=\u001b[0m\u001b[0mself\u001b[0m\u001b[1;33m.\u001b[0m\u001b[0mwidth\u001b[0m\u001b[1;33m,\u001b[0m\u001b[1;33m\u001b[0m\u001b[1;33m\u001b[0m\u001b[0m\n\u001b[1;32m--> 486\u001b[1;33m                                          **kws)\n\u001b[0m\u001b[0;32m    487\u001b[0m                 \u001b[0mcolor\u001b[0m \u001b[1;33m=\u001b[0m \u001b[0mself\u001b[0m\u001b[1;33m.\u001b[0m\u001b[0mcolors\u001b[0m\u001b[1;33m[\u001b[0m\u001b[0mi\u001b[0m\u001b[1;33m]\u001b[0m\u001b[1;33m\u001b[0m\u001b[1;33m\u001b[0m\u001b[0m\n\u001b[0;32m    488\u001b[0m                 \u001b[0mself\u001b[0m\u001b[1;33m.\u001b[0m\u001b[0mrestyle_boxplot\u001b[0m\u001b[1;33m(\u001b[0m\u001b[0martist_dict\u001b[0m\u001b[1;33m,\u001b[0m \u001b[0mcolor\u001b[0m\u001b[1;33m,\u001b[0m \u001b[0mprops\u001b[0m\u001b[1;33m)\u001b[0m\u001b[1;33m\u001b[0m\u001b[1;33m\u001b[0m\u001b[0m\n",
      "\u001b[1;32m~\\AppData\\Local\\Continuum\\anaconda3\\lib\\site-packages\\matplotlib\\__init__.py\u001b[0m in \u001b[0;36minner\u001b[1;34m(ax, data, *args, **kwargs)\u001b[0m\n\u001b[0;32m   1808\u001b[0m                         \u001b[1;34m\"the Matplotlib list!)\"\u001b[0m \u001b[1;33m%\u001b[0m \u001b[1;33m(\u001b[0m\u001b[0mlabel_namer\u001b[0m\u001b[1;33m,\u001b[0m \u001b[0mfunc\u001b[0m\u001b[1;33m.\u001b[0m\u001b[0m__name__\u001b[0m\u001b[1;33m)\u001b[0m\u001b[1;33m,\u001b[0m\u001b[1;33m\u001b[0m\u001b[1;33m\u001b[0m\u001b[0m\n\u001b[0;32m   1809\u001b[0m                         RuntimeWarning, stacklevel=2)\n\u001b[1;32m-> 1810\u001b[1;33m             \u001b[1;32mreturn\u001b[0m \u001b[0mfunc\u001b[0m\u001b[1;33m(\u001b[0m\u001b[0max\u001b[0m\u001b[1;33m,\u001b[0m \u001b[1;33m*\u001b[0m\u001b[0margs\u001b[0m\u001b[1;33m,\u001b[0m \u001b[1;33m**\u001b[0m\u001b[0mkwargs\u001b[0m\u001b[1;33m)\u001b[0m\u001b[1;33m\u001b[0m\u001b[1;33m\u001b[0m\u001b[0m\n\u001b[0m\u001b[0;32m   1811\u001b[0m \u001b[1;33m\u001b[0m\u001b[0m\n\u001b[0;32m   1812\u001b[0m         inner.__doc__ = _add_data_doc(inner.__doc__,\n",
      "\u001b[1;31mTypeError\u001b[0m: boxplot() got an unexpected keyword argument 'showlier'"
     ]
    },
    {
     "data": {
      "image/png": "[encoded data removed]",
      "text/plain": [
       "<Figure size 432x288 with 1 Axes>"
      ]
     },
     "metadata": {
      "needs_background": "light"
     },
     "output_type": "display_data"
    }
   ],
   "source": [
    "sns.boxplot(x='status',y='diff_data_days',data=b,showlier=False)\n",
    "plt.show()"
   ]
  },
  {
   "cell_type": "code",
   "execution_count": null,
   "metadata": {},
   "outputs": [],
   "source": []
  },
  {
   "cell_type": "code",
   "execution_count": null,
   "metadata": {},
   "outputs": [],
   "source": []
  },
  {
   "cell_type": "code",
   "execution_count": null,
   "metadata": {},
   "outputs": [],
   "source": []
  },
  {
   "cell_type": "code",
   "execution_count": null,
   "metadata": {},
   "outputs": [],
   "source": []
  },
  {
   "cell_type": "code",
   "execution_count": 62,
   "metadata": {},
   "outputs": [
    {
     "ename": "ValueError",
     "evalue": "could not convert string to float: '4G-3G-2G'",
     "output_type": "error",
     "traceback": [
      "\u001b[1;31m---------------------------------------------------------------------------\u001b[0m",
      "\u001b[1;31mValueError\u001b[0m                                Traceback (most recent call last)",
      "\u001b[1;32m<ipython-input-62-4f316bbec6de>\u001b[0m in \u001b[0;36m<module>\u001b[1;34m\u001b[0m\n\u001b[0;32m      1\u001b[0m \u001b[1;32mfrom\u001b[0m \u001b[0mxgboost\u001b[0m \u001b[1;32mimport\u001b[0m \u001b[0mXGBClassifier\u001b[0m\u001b[1;33m,\u001b[0m\u001b[0mplot_importance\u001b[0m\u001b[1;33m\u001b[0m\u001b[1;33m\u001b[0m\u001b[0m\n\u001b[0;32m      2\u001b[0m \u001b[0mxgb\u001b[0m\u001b[1;33m=\u001b[0m\u001b[0mXGBClassifier\u001b[0m\u001b[1;33m(\u001b[0m\u001b[0mmax_depth\u001b[0m\u001b[1;33m=\u001b[0m\u001b[1;36m3\u001b[0m\u001b[1;33m,\u001b[0m\u001b[0mlearning_rate\u001b[0m\u001b[1;33m=\u001b[0m\u001b[1;36m0.001\u001b[0m\u001b[1;33m,\u001b[0m\u001b[0mn_estimators\u001b[0m\u001b[1;33m=\u001b[0m\u001b[1;36m100\u001b[0m\u001b[1;33m)\u001b[0m\u001b[1;33m\u001b[0m\u001b[1;33m\u001b[0m\u001b[0m\n\u001b[1;32m----> 3\u001b[1;33m \u001b[0mmodel_rus\u001b[0m\u001b[1;33m(\u001b[0m\u001b[0mb\u001b[0m\u001b[1;33m,\u001b[0m\u001b[0mxgb\u001b[0m\u001b[1;33m,\u001b[0m\u001b[1;34m'HVC'\u001b[0m\u001b[1;33m)\u001b[0m\u001b[1;33m\u001b[0m\u001b[1;33m\u001b[0m\u001b[0m\n\u001b[0m",
      "\u001b[1;32m<ipython-input-17-501eb6f66a7d>\u001b[0m in \u001b[0;36mmodel_rus\u001b[1;34m(df, m, revenue_level)\u001b[0m\n\u001b[0;32m     10\u001b[0m     \u001b[0mrus\u001b[0m \u001b[1;33m=\u001b[0m \u001b[0mRandomUnderSampler\u001b[0m\u001b[1;33m(\u001b[0m\u001b[0mrandom_state\u001b[0m\u001b[1;33m=\u001b[0m\u001b[1;36m123\u001b[0m\u001b[1;33m)\u001b[0m\u001b[1;33m\u001b[0m\u001b[1;33m\u001b[0m\u001b[0m\n\u001b[0;32m     11\u001b[0m     \u001b[0mx_rus\u001b[0m\u001b[1;33m,\u001b[0m \u001b[0my_rus\u001b[0m \u001b[1;33m=\u001b[0m \u001b[0mrus\u001b[0m\u001b[1;33m.\u001b[0m\u001b[0mfit_sample\u001b[0m\u001b[1;33m(\u001b[0m\u001b[0mxtrain\u001b[0m\u001b[1;33m,\u001b[0m \u001b[0mytrain\u001b[0m\u001b[1;33m)\u001b[0m\u001b[1;33m\u001b[0m\u001b[1;33m\u001b[0m\u001b[0m\n\u001b[1;32m---> 12\u001b[1;33m     \u001b[0mm\u001b[0m\u001b[1;33m.\u001b[0m\u001b[0mfit\u001b[0m\u001b[1;33m(\u001b[0m\u001b[0mx_rus\u001b[0m\u001b[1;33m,\u001b[0m\u001b[0my_rus\u001b[0m\u001b[1;33m)\u001b[0m\u001b[1;33m\u001b[0m\u001b[1;33m\u001b[0m\u001b[0m\n\u001b[0m\u001b[0;32m     13\u001b[0m     \u001b[0my_pred\u001b[0m\u001b[1;33m=\u001b[0m\u001b[0mm\u001b[0m\u001b[1;33m.\u001b[0m\u001b[0mpredict\u001b[0m\u001b[1;33m(\u001b[0m\u001b[0mxtest\u001b[0m\u001b[1;33m)\u001b[0m\u001b[1;33m\u001b[0m\u001b[1;33m\u001b[0m\u001b[0m\n\u001b[0;32m     14\u001b[0m     \u001b[0mprint\u001b[0m\u001b[1;33m(\u001b[0m\u001b[1;34m'-------------------------------------------------------'\u001b[0m\u001b[1;33m)\u001b[0m\u001b[1;33m\u001b[0m\u001b[1;33m\u001b[0m\u001b[0m\n",
      "\u001b[1;32m~\\AppData\\Local\\Continuum\\anaconda3\\lib\\site-packages\\xgboost\\sklearn.py\u001b[0m in \u001b[0;36mfit\u001b[1;34m(self, X, y, sample_weight, eval_set, eval_metric, early_stopping_rounds, verbose, xgb_model, sample_weight_eval_set, callbacks)\u001b[0m\n\u001b[0;32m    724\u001b[0m         \u001b[1;32melse\u001b[0m\u001b[1;33m:\u001b[0m\u001b[1;33m\u001b[0m\u001b[1;33m\u001b[0m\u001b[0m\n\u001b[0;32m    725\u001b[0m             train_dmatrix = DMatrix(X, label=training_labels,\n\u001b[1;32m--> 726\u001b[1;33m                                     missing=self.missing, nthread=self.n_jobs)\n\u001b[0m\u001b[0;32m    727\u001b[0m \u001b[1;33m\u001b[0m\u001b[0m\n\u001b[0;32m    728\u001b[0m         self._Booster = train(xgb_options, train_dmatrix, self.get_num_boosting_rounds(),\n",
      "\u001b[1;32m~\\AppData\\Local\\Continuum\\anaconda3\\lib\\site-packages\\xgboost\\core.py\u001b[0m in \u001b[0;36m__init__\u001b[1;34m(self, data, label, missing, weight, silent, feature_names, feature_types, nthread)\u001b[0m\n\u001b[0;32m    402\u001b[0m             \u001b[0mself\u001b[0m\u001b[1;33m.\u001b[0m\u001b[0m_init_from_csc\u001b[0m\u001b[1;33m(\u001b[0m\u001b[0mdata\u001b[0m\u001b[1;33m)\u001b[0m\u001b[1;33m\u001b[0m\u001b[1;33m\u001b[0m\u001b[0m\n\u001b[0;32m    403\u001b[0m         \u001b[1;32melif\u001b[0m \u001b[0misinstance\u001b[0m\u001b[1;33m(\u001b[0m\u001b[0mdata\u001b[0m\u001b[1;33m,\u001b[0m \u001b[0mnp\u001b[0m\u001b[1;33m.\u001b[0m\u001b[0mndarray\u001b[0m\u001b[1;33m)\u001b[0m\u001b[1;33m:\u001b[0m\u001b[1;33m\u001b[0m\u001b[1;33m\u001b[0m\u001b[0m\n\u001b[1;32m--> 404\u001b[1;33m             \u001b[0mself\u001b[0m\u001b[1;33m.\u001b[0m\u001b[0m_init_from_npy2d\u001b[0m\u001b[1;33m(\u001b[0m\u001b[0mdata\u001b[0m\u001b[1;33m,\u001b[0m \u001b[0mmissing\u001b[0m\u001b[1;33m,\u001b[0m \u001b[0mnthread\u001b[0m\u001b[1;33m)\u001b[0m\u001b[1;33m\u001b[0m\u001b[1;33m\u001b[0m\u001b[0m\n\u001b[0m\u001b[0;32m    405\u001b[0m         \u001b[1;32melif\u001b[0m \u001b[0misinstance\u001b[0m\u001b[1;33m(\u001b[0m\u001b[0mdata\u001b[0m\u001b[1;33m,\u001b[0m \u001b[0mDataTable\u001b[0m\u001b[1;33m)\u001b[0m\u001b[1;33m:\u001b[0m\u001b[1;33m\u001b[0m\u001b[1;33m\u001b[0m\u001b[0m\n\u001b[0;32m    406\u001b[0m             \u001b[0mself\u001b[0m\u001b[1;33m.\u001b[0m\u001b[0m_init_from_dt\u001b[0m\u001b[1;33m(\u001b[0m\u001b[0mdata\u001b[0m\u001b[1;33m,\u001b[0m \u001b[0mnthread\u001b[0m\u001b[1;33m)\u001b[0m\u001b[1;33m\u001b[0m\u001b[1;33m\u001b[0m\u001b[0m\n",
      "\u001b[1;32m~\\AppData\\Local\\Continuum\\anaconda3\\lib\\site-packages\\xgboost\\core.py\u001b[0m in \u001b[0;36m_init_from_npy2d\u001b[1;34m(self, mat, missing, nthread)\u001b[0m\n\u001b[0;32m    476\u001b[0m         \u001b[1;31m# we try to avoid data copies if possible (reshape returns a view when possible\u001b[0m\u001b[1;33m\u001b[0m\u001b[1;33m\u001b[0m\u001b[1;33m\u001b[0m\u001b[0m\n\u001b[0;32m    477\u001b[0m         \u001b[1;31m# and we explicitly tell np.array to try and avoid copying)\u001b[0m\u001b[1;33m\u001b[0m\u001b[1;33m\u001b[0m\u001b[1;33m\u001b[0m\u001b[0m\n\u001b[1;32m--> 478\u001b[1;33m         \u001b[0mdata\u001b[0m \u001b[1;33m=\u001b[0m \u001b[0mnp\u001b[0m\u001b[1;33m.\u001b[0m\u001b[0marray\u001b[0m\u001b[1;33m(\u001b[0m\u001b[0mmat\u001b[0m\u001b[1;33m.\u001b[0m\u001b[0mreshape\u001b[0m\u001b[1;33m(\u001b[0m\u001b[0mmat\u001b[0m\u001b[1;33m.\u001b[0m\u001b[0msize\u001b[0m\u001b[1;33m)\u001b[0m\u001b[1;33m,\u001b[0m \u001b[0mcopy\u001b[0m\u001b[1;33m=\u001b[0m\u001b[1;32mFalse\u001b[0m\u001b[1;33m,\u001b[0m \u001b[0mdtype\u001b[0m\u001b[1;33m=\u001b[0m\u001b[0mnp\u001b[0m\u001b[1;33m.\u001b[0m\u001b[0mfloat32\u001b[0m\u001b[1;33m)\u001b[0m\u001b[1;33m\u001b[0m\u001b[1;33m\u001b[0m\u001b[0m\n\u001b[0m\u001b[0;32m    479\u001b[0m         \u001b[0mhandle\u001b[0m \u001b[1;33m=\u001b[0m \u001b[0mctypes\u001b[0m\u001b[1;33m.\u001b[0m\u001b[0mc_void_p\u001b[0m\u001b[1;33m(\u001b[0m\u001b[1;33m)\u001b[0m\u001b[1;33m\u001b[0m\u001b[1;33m\u001b[0m\u001b[0m\n\u001b[0;32m    480\u001b[0m         \u001b[0mmissing\u001b[0m \u001b[1;33m=\u001b[0m \u001b[0mmissing\u001b[0m \u001b[1;32mif\u001b[0m \u001b[0mmissing\u001b[0m \u001b[1;32mis\u001b[0m \u001b[1;32mnot\u001b[0m \u001b[1;32mNone\u001b[0m \u001b[1;32melse\u001b[0m \u001b[0mnp\u001b[0m\u001b[1;33m.\u001b[0m\u001b[0mnan\u001b[0m\u001b[1;33m\u001b[0m\u001b[1;33m\u001b[0m\u001b[0m\n",
      "\u001b[1;31mValueError\u001b[0m: could not convert string to float: '4G-3G-2G'"
     ]
    }
   ],
   "source": [
    "from xgboost import XGBClassifier,plot_importance\n",
    "xgb=XGBClassifier(max_depth=3,learning_rate=0.001,n_estimators=100)\n",
    "model_rus(b,xgb,'HVC')"
   ]
  },
  {
   "cell_type": "code",
   "execution_count": 309,
   "metadata": {},
   "outputs": [
    {
     "name": "stderr",
     "output_type": "stream",
     "text": [
      "C:\\Users\\sai.deepak\\AppData\\Local\\Continuum\\anaconda3\\lib\\site-packages\\sklearn\\linear_model\\logistic.py:433: FutureWarning: Default solver will be changed to 'lbfgs' in 0.22. Specify a solver to silence this warning.\n",
      "  FutureWarning)\n"
     ]
    },
    {
     "name": "stdout",
     "output_type": "stream",
     "text": [
      "-------------------------------------------------------\n",
      "Accuracy= 0.8676588009445662\n",
      "-------------------------------------------------------\n",
      "Confusion matrix= [[  685   788]\n",
      " [ 7002 50388]]\n",
      "-------------------------------------------------------\n",
      "PR AUC= 0.9904177230174285\n",
      "classification report=               precision    recall  f1-score   support\n",
      "\n",
      "           0       0.09      0.47      0.15      1473\n",
      "           1       0.98      0.88      0.93     57390\n",
      "\n",
      "   micro avg       0.87      0.87      0.87     58863\n",
      "   macro avg       0.54      0.67      0.54     58863\n",
      "weighted avg       0.96      0.87      0.91     58863\n",
      "\n",
      "--------------------------------------------------------\n",
      "f1 score= 0.928246412320616\n",
      "---------------------------------------------------------\n",
      "ROC AUC score= 0.671515010208141\n",
      "-----------------------------------------------------------\n",
      "True positive rate = 0.08911148692597892\n",
      "False positive rate = 0.12200731834814428\n",
      "True negative rate = 0.9846021572612162\n",
      "False negative rate = 0.5349626612355737\n"
     ]
    }
   ],
   "source": [
    "lr=LogisticRegression()\n",
    "model_rus(b,lr,'HVC')"
   ]
  },
  {
   "cell_type": "code",
   "execution_count": 310,
   "metadata": {},
   "outputs": [
    {
     "name": "stderr",
     "output_type": "stream",
     "text": [
      "C:\\Users\\sai.deepak\\AppData\\Local\\Continuum\\anaconda3\\lib\\site-packages\\sklearn\\ensemble\\forest.py:246: FutureWarning: The default value of n_estimators will change from 10 in version 0.20 to 100 in 0.22.\n",
      "  \"10 in version 0.20 to 100 in 0.22.\", FutureWarning)\n"
     ]
    },
    {
     "name": "stdout",
     "output_type": "stream",
     "text": [
      "-------------------------------------------------------\n",
      "Accuracy= 0.7633997587618708\n",
      "-------------------------------------------------------\n",
      "Confusion matrix= [[ 1202   271]\n",
      " [13656 43734]]\n",
      "-------------------------------------------------------\n",
      "PR AUC= 0.9950477880446194\n",
      "classification report=               precision    recall  f1-score   support\n",
      "\n",
      "           0       0.08      0.82      0.15      1473\n",
      "           1       0.99      0.76      0.86     57390\n",
      "\n",
      "   micro avg       0.76      0.76      0.76     58863\n",
      "   macro avg       0.54      0.79      0.50     58863\n",
      "weighted avg       0.97      0.76      0.84     58863\n",
      "\n",
      "--------------------------------------------------------\n",
      "f1 score= 0.862646087085162\n",
      "---------------------------------------------------------\n",
      "ROC AUC score= 0.7890354309262135\n",
      "-----------------------------------------------------------\n",
      "True positive rate = 0.08089917889352537\n",
      "False positive rate = 0.2379508625196027\n",
      "True negative rate = 0.9938416089080786\n",
      "False negative rate = 0.18397827562797012\n"
     ]
    }
   ],
   "source": [
    "#Build model for the data\n",
    "rf=RandomForestClassifier(max_depth=3)\n",
    "model_rus(b,rf,'HVC')"
   ]
  },
  {
   "cell_type": "code",
   "execution_count": 311,
   "metadata": {},
   "outputs": [
    {
     "name": "stdout",
     "output_type": "stream",
     "text": [
      "-------------------------------------------------------\n",
      "Accuracy= 0.7511000118920205\n",
      "-------------------------------------------------------\n",
      "Confusion matrix= [[ 1218   255]\n",
      " [14396 42994]]\n",
      "-------------------------------------------------------\n",
      "PR AUC= 0.995591621668564\n",
      "classification report=               precision    recall  f1-score   support\n",
      "\n",
      "           0       0.08      0.83      0.14      1473\n",
      "           1       0.99      0.75      0.85     57390\n",
      "\n",
      "   micro avg       0.75      0.75      0.75     58863\n",
      "   macro avg       0.54      0.79      0.50     58863\n",
      "weighted avg       0.97      0.75      0.84     58863\n",
      "\n",
      "--------------------------------------------------------\n",
      "f1 score= 0.8544202545732766\n",
      "---------------------------------------------------------\n",
      "ROC AUC score= 0.7880194077113429\n",
      "-----------------------------------------------------------\n",
      "True positive rate = 0.07800691686947611\n",
      "False positive rate = 0.2508450949642795\n",
      "True negative rate = 0.9941039099169923\n",
      "False negative rate = 0.17311608961303462\n"
     ]
    }
   ],
   "source": [
    "brf=BalancedRandomForestClassifier(max_depth=3,n_estimators=400)\n",
    "model_rus(b,brf,'HVC')"
   ]
  },
  {
   "cell_type": "code",
   "execution_count": 312,
   "metadata": {},
   "outputs": [
    {
     "name": "stdout",
     "output_type": "stream",
     "text": [
      "-------------------------------------------------------\n",
      "Accuracy= 0.7552112532490699\n",
      "-------------------------------------------------------\n",
      "Confusion matrix= [[ 1199   274]\n",
      " [14135 43255]]\n",
      "-------------------------------------------------------\n",
      "PR AUC= 0.9951899020606052\n",
      "classification report=               precision    recall  f1-score   support\n",
      "\n",
      "           0       0.08      0.81      0.14      1473\n",
      "           1       0.99      0.75      0.86     57390\n",
      "\n",
      "   micro avg       0.76      0.76      0.76     58863\n",
      "   macro avg       0.54      0.78      0.50     58863\n",
      "weighted avg       0.97      0.76      0.84     58863\n",
      "\n",
      "--------------------------------------------------------\n",
      "f1 score= 0.8572221286378184\n",
      "---------------------------------------------------------\n",
      "ROC AUC score= 0.7838439000812322\n",
      "-----------------------------------------------------------\n",
      "True positive rate = 0.0781922525107604\n",
      "False positive rate = 0.2462972643317651\n",
      "True negative rate = 0.9937053458613798\n",
      "False negative rate = 0.18601493550577053\n"
     ]
    }
   ],
   "source": [
    "from lightgbm import LGBMClassifier\n",
    "lgbm=LGBMClassifier(learning_rate=0.001,max_depth=3,n_estimators=50)\n",
    "model_rus(b,lgbm,'HVC')"
   ]
  },
  {
   "cell_type": "code",
   "execution_count": 313,
   "metadata": {},
   "outputs": [
    {
     "name": "stdout",
     "output_type": "stream",
     "text": [
      "-------------------------------------------------------\n",
      "Accuracy= 0.8119961176343714\n",
      "-------------------------------------------------------\n",
      "Confusion matrix= [[ 38533  16174]\n",
      " [ 41355 209937]]\n",
      "-------------------------------------------------------\n",
      "PR AUC= 0.9607888996512924\n",
      "classification report=               precision    recall  f1-score   support\n",
      "\n",
      "           0       0.48      0.70      0.57     54707\n",
      "           1       0.93      0.84      0.88    251292\n",
      "\n",
      "   micro avg       0.81      0.81      0.81    305999\n",
      "   macro avg       0.71      0.77      0.73    305999\n",
      "weighted avg       0.85      0.81      0.82    305999\n",
      "\n",
      "--------------------------------------------------------\n",
      "f1 score= 0.8794959394892785\n",
      "---------------------------------------------------------\n",
      "ROC AUC score= 0.7698913859373598\n",
      "-----------------------------------------------------------\n",
      "True positive rate = 0.48233777288203483\n",
      "False positive rate = 0.16456950479919774\n",
      "True negative rate = 0.92846876091831\n",
      "False negative rate = 0.2956477233260826\n"
     ]
    }
   ],
   "source": [
    "from xgboost import XGBClassifier\n",
    "xgb=XGBClassifier(max_depth=3,learning_rate=0.001,n_estimators=100)\n",
    "model_rus(b,xgb,'MVC')"
   ]
  },
  {
   "cell_type": "code",
   "execution_count": 318,
   "metadata": {},
   "outputs": [
    {
     "name": "stdout",
     "output_type": "stream",
     "text": [
      "-------------------------------------------------------\n",
      "Accuracy= 0.8179438494897042\n",
      "-------------------------------------------------------\n",
      "Confusion matrix= [[ 38407  16300]\n",
      " [ 39409 211883]]\n",
      "-------------------------------------------------------\n",
      "PR AUC= 0.9615333438505806\n",
      "classification report=               precision    recall  f1-score   support\n",
      "\n",
      "           0       0.49      0.70      0.58     54707\n",
      "           1       0.93      0.84      0.88    251292\n",
      "\n",
      "   micro avg       0.82      0.82      0.82    305999\n",
      "   macro avg       0.71      0.77      0.73    305999\n",
      "weighted avg       0.85      0.82      0.83    305999\n",
      "\n",
      "--------------------------------------------------------\n",
      "f1 score= 0.8838125032587727\n",
      "---------------------------------------------------------\n",
      "ROC AUC score= 0.7726117861191932\n",
      "-----------------------------------------------------------\n",
      "True positive rate = 0.4935617353757582\n",
      "False positive rate = 0.15682552568326888\n",
      "True negative rate = 0.9285661070281309\n",
      "False negative rate = 0.2979509020783446\n"
     ]
    }
   ],
   "source": [
    "from lightgbm import LGBMClassifier\n",
    "lgbm=LGBMClassifier(learning_rate=0.001,max_depth=3,n_estimators=200)\n",
    "model_rus(b,lgbm,'MVC')"
   ]
  },
  {
   "cell_type": "code",
   "execution_count": 315,
   "metadata": {},
   "outputs": [
    {
     "name": "stdout",
     "output_type": "stream",
     "text": [
      "-------------------------------------------------------\n",
      "Accuracy= 0.8794407824862173\n",
      "-------------------------------------------------------\n",
      "Confusion matrix= [[ 31204  23503]\n",
      " [ 13388 237904]]\n",
      "-------------------------------------------------------\n",
      "PR AUC= 0.9589415333736441\n",
      "classification report=               precision    recall  f1-score   support\n",
      "\n",
      "           0       0.70      0.57      0.63     54707\n",
      "           1       0.91      0.95      0.93    251292\n",
      "\n",
      "   micro avg       0.88      0.88      0.88    305999\n",
      "   macro avg       0.80      0.76      0.78    305999\n",
      "weighted avg       0.87      0.88      0.87    305999\n",
      "\n",
      "--------------------------------------------------------\n",
      "f1 score= 0.9280455003813154\n",
      "---------------------------------------------------------\n",
      "ROC AUC score= 0.7585536898641034\n",
      "-----------------------------------------------------------\n",
      "True positive rate = 0.6997667743092931\n",
      "False positive rate = 0.053276666189134556\n",
      "True negative rate = 0.9100903954370005\n",
      "False negative rate = 0.4296159540826585\n"
     ]
    }
   ],
   "source": [
    "brf=BalancedRandomForestClassifier(max_depth=3,n_estimators=400)\n",
    "model_rus(b,brf,'MVC')"
   ]
  },
  {
   "cell_type": "code",
   "execution_count": 316,
   "metadata": {},
   "outputs": [
    {
     "name": "stderr",
     "output_type": "stream",
     "text": [
      "C:\\Users\\sai.deepak\\AppData\\Local\\Continuum\\anaconda3\\lib\\site-packages\\sklearn\\linear_model\\logistic.py:433: FutureWarning: Default solver will be changed to 'lbfgs' in 0.22. Specify a solver to silence this warning.\n",
      "  FutureWarning)\n",
      "C:\\Users\\sai.deepak\\AppData\\Local\\Continuum\\anaconda3\\lib\\site-packages\\sklearn\\svm\\base.py:931: ConvergenceWarning: Liblinear failed to converge, increase the number of iterations.\n",
      "  \"the number of iterations.\", ConvergenceWarning)\n"
     ]
    },
    {
     "name": "stdout",
     "output_type": "stream",
     "text": [
      "-------------------------------------------------------\n",
      "Accuracy= 0.8373229977875745\n",
      "-------------------------------------------------------\n",
      "Confusion matrix= [[ 33711  20996]\n",
      " [ 28783 222509]]\n",
      "-------------------------------------------------------\n",
      "PR AUC= 0.9500542516978417\n",
      "classification report=               precision    recall  f1-score   support\n",
      "\n",
      "           0       0.54      0.62      0.58     54707\n",
      "           1       0.91      0.89      0.90    251292\n",
      "\n",
      "   micro avg       0.84      0.84      0.84    305999\n",
      "   macro avg       0.73      0.75      0.74    305999\n",
      "weighted avg       0.85      0.84      0.84    305999\n",
      "\n",
      "--------------------------------------------------------\n",
      "f1 score= 0.8993951054674946\n",
      "---------------------------------------------------------\n",
      "ROC AUC score= 0.7508349672116394\n",
      "-----------------------------------------------------------\n",
      "True positive rate = 0.5394277850673664\n",
      "False positive rate = 0.11454005698549895\n",
      "True negative rate = 0.9137758978255066\n",
      "False negative rate = 0.3837900085912223\n"
     ]
    }
   ],
   "source": [
    "lr=LogisticRegression()\n",
    "model_rus(b,lr,'MVC')"
   ]
  },
  {
   "cell_type": "code",
   "execution_count": 317,
   "metadata": {},
   "outputs": [
    {
     "name": "stderr",
     "output_type": "stream",
     "text": [
      "C:\\Users\\sai.deepak\\AppData\\Local\\Continuum\\anaconda3\\lib\\site-packages\\sklearn\\ensemble\\forest.py:246: FutureWarning: The default value of n_estimators will change from 10 in version 0.20 to 100 in 0.22.\n",
      "  \"10 in version 0.20 to 100 in 0.22.\", FutureWarning)\n"
     ]
    },
    {
     "name": "stdout",
     "output_type": "stream",
     "text": [
      "-------------------------------------------------------\n",
      "Accuracy= 0.875604168641074\n",
      "-------------------------------------------------------\n",
      "Confusion matrix= [[ 31954  22753]\n",
      " [ 15312 235980]]\n",
      "-------------------------------------------------------\n",
      "PR AUC= 0.956945850555805\n",
      "classification report=               precision    recall  f1-score   support\n",
      "\n",
      "           0       0.68      0.58      0.63     54707\n",
      "           1       0.91      0.94      0.93    251292\n",
      "\n",
      "   micro avg       0.88      0.88      0.88    305999\n",
      "   macro avg       0.79      0.76      0.78    305999\n",
      "weighted avg       0.87      0.88      0.87    305999\n",
      "\n",
      "--------------------------------------------------------\n",
      "f1 score= 0.9253664036076663\n",
      "---------------------------------------------------------\n",
      "ROC AUC score= 0.7615801727507054\n",
      "-----------------------------------------------------------\n",
      "True positive rate = 0.6760462065755511\n",
      "False positive rate = 0.06093309775082374\n",
      "True negative rate = 0.9120599227775351\n",
      "False negative rate = 0.4159065567477654\n"
     ]
    }
   ],
   "source": [
    "#Build model for the data\n",
    "rf=RandomForestClassifier(max_depth=3)\n",
    "model_rus(b,rf,'MVC')"
   ]
  },
  {
   "cell_type": "code",
   "execution_count": null,
   "metadata": {},
   "outputs": [],
   "source": []
  },
  {
   "cell_type": "code",
   "execution_count": null,
   "metadata": {},
   "outputs": [],
   "source": []
  },
  {
   "cell_type": "code",
   "execution_count": null,
   "metadata": {},
   "outputs": [],
   "source": []
  },
  {
   "cell_type": "code",
   "execution_count": null,
   "metadata": {},
   "outputs": [],
   "source": []
  },
  {
   "cell_type": "code",
   "execution_count": null,
   "metadata": {},
   "outputs": [],
   "source": []
  },
  {
   "cell_type": "code",
   "execution_count": 286,
   "metadata": {},
   "outputs": [],
   "source": [
    "from xgboost import XGBClassifier\n",
    "xgb=XGBClassifier(max_depth=3,learning_rate=0.001,n_estimators=100,scale_pos_weight=0.02)"
   ]
  },
  {
   "cell_type": "code",
   "execution_count": 287,
   "metadata": {},
   "outputs": [
    {
     "name": "stdout",
     "output_type": "stream",
     "text": [
      "-------------------------------------------------------\n",
      "Accuracy= 0.43137454767850775\n",
      "-------------------------------------------------------\n",
      "Confusion matrix= [[ 1439    34]\n",
      " [33437 23953]]\n",
      "-------------------------------------------------------\n",
      "PR AUC= 0.9925598896012827\n",
      "classification report=               precision    recall  f1-score   support\n",
      "\n",
      "           0       0.04      0.98      0.08      1473\n",
      "           1       1.00      0.42      0.59     57390\n",
      "\n",
      "   micro avg       0.43      0.43      0.43     58863\n",
      "   macro avg       0.52      0.70      0.33     58863\n",
      "weighted avg       0.97      0.43      0.58     58863\n",
      "\n",
      "--------------------------------------------------------\n",
      "f1 score= 0.5886921365987933\n",
      "---------------------------------------------------------\n",
      "ROC AUC score= 0.6971451096208492\n",
      "-----------------------------------------------------------\n",
      "True positive rate = 0.041260465649730474\n",
      "False positive rate = 0.5826276354765638\n",
      "True negative rate = 0.9985825655563431\n",
      "False negative rate = 0.02308214528173795\n"
     ]
    }
   ],
   "source": [
    "model(b,xgb,'HVC')"
   ]
  },
  {
   "cell_type": "code",
   "execution_count": 201,
   "metadata": {},
   "outputs": [
    {
     "name": "stdout",
     "output_type": "stream",
     "text": [
      "-------------------------------------------------------\n",
      "Accuracy= 0.7218966073764504\n",
      "-------------------------------------------------------\n",
      "Confusion matrix= [[ 1732   325]\n",
      " [16045 40761]]\n",
      "-------------------------------------------------------\n",
      "PR AUC= 0.9928355752803306\n",
      "classification report=               precision    recall  f1-score   support\n",
      "\n",
      "           0       0.10      0.84      0.17      2057\n",
      "           1       0.99      0.72      0.83     56806\n",
      "\n",
      "   micro avg       0.72      0.72      0.72     58863\n",
      "   macro avg       0.54      0.78      0.50     58863\n",
      "weighted avg       0.96      0.72      0.81     58863\n",
      "\n",
      "--------------------------------------------------------\n",
      "f1 score= 0.8327748947820047\n",
      "---------------------------------------------------------\n",
      "ROC AUC score= 0.7797751795204143\n",
      "-----------------------------------------------------------\n",
      "True positive rate = 0.09742926253023569\n",
      "False positive rate = 0.2824525578283984\n",
      "True negative rate = 0.99208976293628\n",
      "False negative rate = 0.15799708313077296\n"
     ]
    }
   ],
   "source": [
    "model(nov,xgb,'HVC')"
   ]
  },
  {
   "cell_type": "code",
   "execution_count": 22,
   "metadata": {},
   "outputs": [
    {
     "name": "stdout",
     "output_type": "stream",
     "text": [
      "-------------------------------------------------------\n",
      "Accuracy= 0.8059176663976027\n",
      "-------------------------------------------------------\n",
      "Confusion matrix= [[ 40130  14577]\n",
      " [ 44812 206480]]\n",
      "-------------------------------------------------------\n",
      "PR AUC= 0.6606354403853623\n",
      "classification report=               precision    recall  f1-score   support\n",
      "\n",
      "           0       0.47      0.73      0.57     54707\n",
      "           1       0.93      0.82      0.87    251292\n",
      "\n",
      "   micro avg       0.81      0.81      0.81    305999\n",
      "   macro avg       0.70      0.78      0.72    305999\n",
      "weighted avg       0.85      0.81      0.82    305999\n",
      "\n",
      "--------------------------------------------------------\n",
      "f1 score= 0.8742688139490079\n",
      "---------------------------------------------------------\n",
      "ROC AUC score= 0.7776088721406683\n",
      "-----------------------------------------------------------\n",
      "True positive rate = 0.47244001789456336\n",
      "False positive rate = 0.17832640911767983\n",
      "True negative rate = 0.9340577317162542\n",
      "False negative rate = 0.2664558466009834\n"
     ]
    }
   ],
   "source": [
    "from xgboost import XGBClassifier\n",
    "xgb=XGBClassifier(max_depth=3,learning_rate=0.001,n_estimators=50)\n",
    "model(b,xgb,'MVC')"
   ]
  },
  {
   "cell_type": "code",
   "execution_count": 202,
   "metadata": {},
   "outputs": [
    {
     "name": "stdout",
     "output_type": "stream",
     "text": [
      "-------------------------------------------------------\n",
      "Accuracy= 0.7638750453432854\n",
      "-------------------------------------------------------\n",
      "Confusion matrix= [[ 49455  17557]\n",
      " [ 54697 184290]]\n",
      "-------------------------------------------------------\n",
      "PR AUC= 0.9439045979668302\n",
      "classification report=               precision    recall  f1-score   support\n",
      "\n",
      "           0       0.47      0.74      0.58     67012\n",
      "           1       0.91      0.77      0.84    238987\n",
      "\n",
      "   micro avg       0.76      0.76      0.76    305999\n",
      "   macro avg       0.69      0.75      0.71    305999\n",
      "weighted avg       0.82      0.76      0.78    305999\n",
      "\n",
      "--------------------------------------------------------\n",
      "f1 score= 0.8360970342577931\n",
      "---------------------------------------------------------\n",
      "ROC AUC score= 0.7545659796384784\n",
      "-----------------------------------------------------------\n",
      "True positive rate = 0.4748348567478301\n",
      "False positive rate = 0.2288701895919025\n",
      "True negative rate = 0.9130182762191165\n",
      "False negative rate = 0.2619978511311407\n"
     ]
    }
   ],
   "source": [
    "from xgboost import XGBClassifier\n",
    "xgb=XGBClassifier(max_depth=3,learning_rate=0.001,n_estimators=50)\n",
    "model(nov,xgb,'MVC')"
   ]
  },
  {
   "cell_type": "code",
   "execution_count": 107,
   "metadata": {},
   "outputs": [
    {
     "name": "stderr",
     "output_type": "stream",
     "text": [
      "C:\\Users\\sai.deepak\\AppData\\Local\\Continuum\\anaconda3\\lib\\site-packages\\sklearn\\linear_model\\logistic.py:433: FutureWarning: Default solver will be changed to 'lbfgs' in 0.22. Specify a solver to silence this warning.\n",
      "  FutureWarning)\n"
     ]
    },
    {
     "name": "stdout",
     "output_type": "stream",
     "text": [
      "-------------------------------------------------------\n",
      "Accuracy= 0.8887246657492822\n",
      "-------------------------------------------------------\n",
      "Confusion matrix= [[51655  5735]\n",
      " [  815   658]]\n",
      "-------------------------------------------------------\n",
      "PR AUC= 0.08892813827081443\n",
      "classification report=               precision    recall  f1-score   support\n",
      "\n",
      "           0       0.98      0.90      0.94     57390\n",
      "           1       0.10      0.45      0.17      1473\n",
      "\n",
      "   micro avg       0.89      0.89      0.89     58863\n",
      "   macro avg       0.54      0.67      0.55     58863\n",
      "weighted avg       0.96      0.89      0.92     58863\n",
      "\n",
      "--------------------------------------------------------\n",
      "f1 score= 0.167302313755403\n",
      "---------------------------------------------------------\n",
      "ROC AUC score= 0.6733885492089889\n",
      "-----------------------------------------------------------\n",
      "True positive rate = 0.9844673146559939\n",
      "False positive rate = 0.5532926001357773\n",
      "True negative rate = 0.10292507430001564\n",
      "False negative rate = 0.09993030144624498\n"
     ]
    }
   ],
   "source": [
    "lr=LogisticRegression(C=1000)\n",
    "model(b,lr,'HVC')"
   ]
  },
  {
   "cell_type": "code",
   "execution_count": 205,
   "metadata": {},
   "outputs": [
    {
     "name": "stderr",
     "output_type": "stream",
     "text": [
      "C:\\Users\\sai.deepak\\AppData\\Local\\Continuum\\anaconda3\\lib\\site-packages\\sklearn\\linear_model\\logistic.py:433: FutureWarning: Default solver will be changed to 'lbfgs' in 0.22. Specify a solver to silence this warning.\n",
      "  FutureWarning)\n",
      "C:\\Users\\sai.deepak\\AppData\\Local\\Continuum\\anaconda3\\lib\\site-packages\\sklearn\\svm\\base.py:931: ConvergenceWarning: Liblinear failed to converge, increase the number of iterations.\n",
      "  \"the number of iterations.\", ConvergenceWarning)\n"
     ]
    },
    {
     "name": "stdout",
     "output_type": "stream",
     "text": [
      "-------------------------------------------------------\n",
      "Accuracy= 0.8959448210250922\n",
      "-------------------------------------------------------\n",
      "Confusion matrix= [[  675  1382]\n",
      " [ 4743 52063]]\n",
      "-------------------------------------------------------\n",
      "PR AUC= 0.9850156319705168\n",
      "classification report=               precision    recall  f1-score   support\n",
      "\n",
      "           0       0.12      0.33      0.18      2057\n",
      "           1       0.97      0.92      0.94     56806\n",
      "\n",
      "   micro avg       0.90      0.90      0.90     58863\n",
      "   macro avg       0.55      0.62      0.56     58863\n",
      "weighted avg       0.94      0.90      0.92     58863\n",
      "\n",
      "--------------------------------------------------------\n",
      "f1 score= 0.9444449483451396\n",
      "---------------------------------------------------------\n",
      "ROC AUC score= 0.6223265433884426\n",
      "-----------------------------------------------------------\n",
      "True positive rate = 0.12458471760797342\n",
      "False positive rate = 0.08349470126395099\n",
      "True negative rate = 0.9741416409392833\n",
      "False negative rate = 0.6718522119591638\n"
     ]
    }
   ],
   "source": [
    "lr=LogisticRegression()\n",
    "model(nov,lr,'HVC')"
   ]
  },
  {
   "cell_type": "code",
   "execution_count": 146,
   "metadata": {},
   "outputs": [
    {
     "name": "stderr",
     "output_type": "stream",
     "text": [
      "C:\\Users\\sai.deepak\\AppData\\Local\\Continuum\\anaconda3\\lib\\site-packages\\sklearn\\linear_model\\logistic.py:433: FutureWarning: Default solver will be changed to 'lbfgs' in 0.22. Specify a solver to silence this warning.\n",
      "  FutureWarning)\n"
     ]
    },
    {
     "name": "stdout",
     "output_type": "stream",
     "text": [
      "-------------------------------------------------------\n",
      "Accuracy= 0.8357184173804489\n",
      "-------------------------------------------------------\n",
      "Confusion matrix= [[ 33821  20886]\n",
      " [ 29384 221908]]\n",
      "-------------------------------------------------------\n",
      "classification report=               precision    recall  f1-score   support\n",
      "\n",
      "           0       0.54      0.62      0.57     54707\n",
      "           1       0.91      0.88      0.90    251292\n",
      "\n",
      "   micro avg       0.84      0.84      0.84    305999\n",
      "   macro avg       0.72      0.75      0.74    305999\n",
      "weighted avg       0.85      0.84      0.84    305999\n",
      "\n",
      "--------------------------------------------------------\n",
      "f1 score= 0.8982565788142145\n",
      "---------------------------------------------------------\n",
      "ROC AUC score= 0.7506445030139698\n",
      "-----------------------------------------------------------\n",
      "True positive rate = 0.535100071196899\n",
      "False positive rate = 0.11693169698995591\n",
      "True negative rate = 0.9139764574083379\n",
      "False negative rate = 0.38177929698210467\n"
     ]
    }
   ],
   "source": [
    "lr=LogisticRegression(C=1000)\n",
    "model(b,lr,'MVC')"
   ]
  },
  {
   "cell_type": "code",
   "execution_count": 204,
   "metadata": {},
   "outputs": [
    {
     "name": "stderr",
     "output_type": "stream",
     "text": [
      "C:\\Users\\sai.deepak\\AppData\\Local\\Continuum\\anaconda3\\lib\\site-packages\\sklearn\\linear_model\\logistic.py:433: FutureWarning: Default solver will be changed to 'lbfgs' in 0.22. Specify a solver to silence this warning.\n",
      "  FutureWarning)\n",
      "C:\\Users\\sai.deepak\\AppData\\Local\\Continuum\\anaconda3\\lib\\site-packages\\sklearn\\svm\\base.py:931: ConvergenceWarning: Liblinear failed to converge, increase the number of iterations.\n",
      "  \"the number of iterations.\", ConvergenceWarning)\n"
     ]
    },
    {
     "name": "stdout",
     "output_type": "stream",
     "text": [
      "-------------------------------------------------------\n",
      "Accuracy= 0.8091529710881408\n",
      "-------------------------------------------------------\n",
      "Confusion matrix= [[ 38094  28918]\n",
      " [ 29481 209506]]\n",
      "-------------------------------------------------------\n",
      "PR AUC= 0.9270638186734542\n",
      "classification report=               precision    recall  f1-score   support\n",
      "\n",
      "           0       0.56      0.57      0.57     67012\n",
      "           1       0.88      0.88      0.88    238987\n",
      "\n",
      "   micro avg       0.81      0.81      0.81    305999\n",
      "   macro avg       0.72      0.72      0.72    305999\n",
      "weighted avg       0.81      0.81      0.81    305999\n",
      "\n",
      "--------------------------------------------------------\n",
      "f1 score= 0.8776756295937883\n",
      "---------------------------------------------------------\n",
      "ROC AUC score= 0.7225535875978222\n",
      "-----------------------------------------------------------\n",
      "True positive rate = 0.5637291897891232\n",
      "False positive rate = 0.12335817429399926\n",
      "True negative rate = 0.8787118746434923\n",
      "False negative rate = 0.43153465051035633\n"
     ]
    }
   ],
   "source": [
    "lr=LogisticRegression(C=1000)\n",
    "model(nov,lr,'MVC')"
   ]
  },
  {
   "cell_type": "code",
   "execution_count": 88,
   "metadata": {},
   "outputs": [
    {
     "name": "stderr",
     "output_type": "stream",
     "text": [
      "C:\\Users\\sai.deepak\\AppData\\Local\\Continuum\\anaconda3\\lib\\site-packages\\sklearn\\ensemble\\forest.py:246: FutureWarning: The default value of n_estimators will change from 10 in version 0.20 to 100 in 0.22.\n",
      "  \"10 in version 0.20 to 100 in 0.22.\", FutureWarning)\n"
     ]
    },
    {
     "name": "stdout",
     "output_type": "stream",
     "text": [
      "-------------------------------------------------------\n",
      "Accuracy= 0.8350067104972564\n",
      "-------------------------------------------------------\n",
      "Confusion matrix= [[ 1048   425]\n",
      " [ 9287 48103]]\n",
      "-------------------------------------------------------\n",
      "PR AUC= 0.9351076909680938\n",
      "classification report=               precision    recall  f1-score   support\n",
      "\n",
      "           0       0.10      0.71      0.18      1473\n",
      "           1       0.99      0.84      0.91     57390\n",
      "\n",
      "   micro avg       0.84      0.84      0.84     58863\n",
      "   macro avg       0.55      0.77      0.54     58863\n",
      "weighted avg       0.97      0.84      0.89     58863\n",
      "\n",
      "--------------------------------------------------------\n",
      "f1 score= 0.9083064257255613\n",
      "---------------------------------------------------------\n",
      "ROC AUC score= 0.774825283398791\n",
      "-----------------------------------------------------------\n",
      "True positive rate = 0.10140299951620706\n",
      "False positive rate = 0.1618226171806935\n",
      "True negative rate = 0.9912421694691724\n",
      "False negative rate = 0.28852681602172436\n"
     ]
    }
   ],
   "source": [
    "#Build model for the data\n",
    "rf=RandomForestClassifier(max_depth=3)\n",
    "model(b,rf,'HVC')"
   ]
  },
  {
   "cell_type": "code",
   "execution_count": 304,
   "metadata": {},
   "outputs": [
    {
     "name": "stderr",
     "output_type": "stream",
     "text": [
      "C:\\Users\\sai.deepak\\AppData\\Local\\Continuum\\anaconda3\\lib\\site-packages\\sklearn\\ensemble\\forest.py:246: FutureWarning: The default value of n_estimators will change from 10 in version 0.20 to 100 in 0.22.\n",
      "  \"10 in version 0.20 to 100 in 0.22.\", FutureWarning)\n"
     ]
    },
    {
     "name": "stdout",
     "output_type": "stream",
     "text": [
      "-------------------------------------------------------\n",
      "Accuracy= 0.7481609839797496\n",
      "-------------------------------------------------------\n",
      "Confusion matrix= [[ 1227   246]\n",
      " [14578 42812]]\n",
      "-------------------------------------------------------\n",
      "PR AUC= 0.9948657053155883\n",
      "classification report=               precision    recall  f1-score   support\n",
      "\n",
      "           0       0.08      0.83      0.14      1473\n",
      "           1       0.99      0.75      0.85     57390\n",
      "\n",
      "   micro avg       0.75      0.75      0.75     58863\n",
      "   macro avg       0.54      0.79      0.50     58863\n",
      "weighted avg       0.97      0.75      0.83     58863\n",
      "\n",
      "--------------------------------------------------------\n",
      "f1 score= 0.8524211532335139\n",
      "---------------------------------------------------------\n",
      "ROC AUC score= 0.7894887554301171\n",
      "-----------------------------------------------------------\n",
      "True positive rate = 0.07763366023410313\n",
      "False positive rate = 0.2540163791601324\n",
      "True negative rate = 0.9942867759765898\n",
      "False negative rate = 0.1670061099796334\n"
     ]
    }
   ],
   "source": [
    "#Build model for the data\n",
    "rf=RandomForestClassifier(max_depth=3)\n",
    "model_rus(b,rf,'HVC')"
   ]
  },
  {
   "cell_type": "code",
   "execution_count": 206,
   "metadata": {},
   "outputs": [
    {
     "name": "stderr",
     "output_type": "stream",
     "text": [
      "C:\\Users\\sai.deepak\\AppData\\Local\\Continuum\\anaconda3\\lib\\site-packages\\sklearn\\ensemble\\forest.py:246: FutureWarning: The default value of n_estimators will change from 10 in version 0.20 to 100 in 0.22.\n",
      "  \"10 in version 0.20 to 100 in 0.22.\", FutureWarning)\n"
     ]
    },
    {
     "name": "stdout",
     "output_type": "stream",
     "text": [
      "-------------------------------------------------------\n",
      "Accuracy= 0.7525610315478314\n",
      "-------------------------------------------------------\n",
      "Confusion matrix= [[ 1671   386]\n",
      " [14179 42627]]\n",
      "-------------------------------------------------------\n",
      "PR AUC= 0.9917834710437821\n",
      "classification report=               precision    recall  f1-score   support\n",
      "\n",
      "           0       0.11      0.81      0.19      2057\n",
      "           1       0.99      0.75      0.85     56806\n",
      "\n",
      "   micro avg       0.75      0.75      0.75     58863\n",
      "   macro avg       0.55      0.78      0.52     58863\n",
      "weighted avg       0.96      0.75      0.83     58863\n",
      "\n",
      "--------------------------------------------------------\n",
      "f1 score= 0.8540858954708022\n",
      "---------------------------------------------------------\n",
      "ROC AUC score= 0.7813720823241829\n",
      "-----------------------------------------------------------\n",
      "True positive rate = 0.10542586750788643\n",
      "False positive rate = 0.24960391507939303\n",
      "True negative rate = 0.9910259688931253\n",
      "False negative rate = 0.18765192027224112\n"
     ]
    }
   ],
   "source": [
    "#Build model for the data\n",
    "rf=RandomForestClassifier(max_depth=3)\n",
    "model(nov,rf,'HVC')"
   ]
  },
  {
   "cell_type": "code",
   "execution_count": 147,
   "metadata": {},
   "outputs": [
    {
     "name": "stderr",
     "output_type": "stream",
     "text": [
      "C:\\Users\\sai.deepak\\AppData\\Local\\Continuum\\anaconda3\\lib\\site-packages\\sklearn\\ensemble\\forest.py:246: FutureWarning: The default value of n_estimators will change from 10 in version 0.20 to 100 in 0.22.\n",
      "  \"10 in version 0.20 to 100 in 0.22.\", FutureWarning)\n"
     ]
    },
    {
     "name": "stdout",
     "output_type": "stream",
     "text": [
      "-------------------------------------------------------\n",
      "Accuracy= 0.8753884816617048\n",
      "-------------------------------------------------------\n",
      "Confusion matrix= [[ 31359  23348]\n",
      " [ 14783 236509]]\n",
      "-------------------------------------------------------\n",
      "classification report=               precision    recall  f1-score   support\n",
      "\n",
      "           0       0.68      0.57      0.62     54707\n",
      "           1       0.91      0.94      0.93    251292\n",
      "\n",
      "   micro avg       0.88      0.88      0.88    305999\n",
      "   macro avg       0.79      0.76      0.77    305999\n",
      "weighted avg       0.87      0.88      0.87    305999\n",
      "\n",
      "--------------------------------------------------------\n",
      "f1 score= 0.9254013995918998\n",
      "---------------------------------------------------------\n",
      "ROC AUC score= 0.7571946721758827\n",
      "-----------------------------------------------------------\n",
      "True positive rate = 0.6796194356551515\n",
      "False positive rate = 0.05882797701478758\n",
      "True negative rate = 0.9101505828205513\n",
      "False negative rate = 0.42678267863344727\n"
     ]
    }
   ],
   "source": [
    "#Build model for the data\n",
    "rf=RandomForestClassifier(max_depth=3)\n",
    "model(b,rf,'MVC')"
   ]
  },
  {
   "cell_type": "code",
   "execution_count": 207,
   "metadata": {},
   "outputs": [
    {
     "name": "stderr",
     "output_type": "stream",
     "text": [
      "C:\\Users\\sai.deepak\\AppData\\Local\\Continuum\\anaconda3\\lib\\site-packages\\sklearn\\ensemble\\forest.py:246: FutureWarning: The default value of n_estimators will change from 10 in version 0.20 to 100 in 0.22.\n",
      "  \"10 in version 0.20 to 100 in 0.22.\", FutureWarning)\n"
     ]
    },
    {
     "name": "stdout",
     "output_type": "stream",
     "text": [
      "-------------------------------------------------------\n",
      "Accuracy= 0.8417184369883561\n",
      "-------------------------------------------------------\n",
      "Confusion matrix= [[ 34467  32545]\n",
      " [ 15889 223098]]\n",
      "-------------------------------------------------------\n",
      "PR AUC= 0.9293525151084465\n",
      "classification report=               precision    recall  f1-score   support\n",
      "\n",
      "           0       0.68      0.51      0.59     67012\n",
      "           1       0.87      0.93      0.90    238987\n",
      "\n",
      "   micro avg       0.84      0.84      0.84    305999\n",
      "   macro avg       0.78      0.72      0.74    305999\n",
      "weighted avg       0.83      0.84      0.83    305999\n",
      "\n",
      "--------------------------------------------------------\n",
      "f1 score= 0.9020803428825586\n",
      "---------------------------------------------------------\n",
      "ROC AUC score= 0.7239279636101563\n",
      "-----------------------------------------------------------\n",
      "True positive rate = 0.6844665978234967\n",
      "False positive rate = 0.06648478787549114\n",
      "True negative rate = 0.872693560942408\n",
      "False negative rate = 0.48565928490419624\n"
     ]
    }
   ],
   "source": [
    "#Build model for the data\n",
    "rf=RandomForestClassifier(max_depth=3)\n",
    "model(nov,rf,'MVC')"
   ]
  },
  {
   "cell_type": "code",
   "execution_count": 62,
   "metadata": {},
   "outputs": [],
   "source": [
    "#LogisticRegression=LogisticRegression(C=100)\n",
    "#KNeighborsClassifier=KNeighborsClassifier()\n",
    "#BalancedRandomForestClassifier=BalancedRandomForestClassifier(n_estimators=200, random_state=123)\n",
    "#XGBClassifier=XGBClassifier()\n",
    "#GaussianNB=GaussianNB()\n",
    "LGBMClassifier=LGBMClassifier(imbalance=True)\n",
    "#DecisionTreeClassifier=DecisionTreeClassifier()"
   ]
  },
  {
   "cell_type": "code",
   "execution_count": 40,
   "metadata": {},
   "outputs": [],
   "source": [
    "model_names=[LogisticRegression,KNeighborsClassifier,BalancedRandomForestClassifier,GaussianNB,\n",
    "             LGBMClassifier,DecisionTreeClassifier]"
   ]
  },
  {
   "cell_type": "code",
   "execution_count": 91,
   "metadata": {},
   "outputs": [
    {
     "ename": "TypeError",
     "evalue": "fit() missing 1 required positional argument: 'y'",
     "output_type": "error",
     "traceback": [
      "\u001b[1;31m---------------------------------------------------------------------------\u001b[0m",
      "\u001b[1;31mTypeError\u001b[0m                                 Traceback (most recent call last)",
      "\u001b[1;32m<ipython-input-91-cdb528fbbe63>\u001b[0m in \u001b[0;36m<module>\u001b[1;34m\u001b[0m\n\u001b[1;32m----> 1\u001b[1;33m \u001b[0mmodel\u001b[0m\u001b[1;33m(\u001b[0m\u001b[0mb\u001b[0m\u001b[1;33m,\u001b[0m\u001b[0mLGBMClassifier\u001b[0m\u001b[1;33m,\u001b[0m\u001b[1;34m'HVC'\u001b[0m\u001b[1;33m)\u001b[0m\u001b[1;33m\u001b[0m\u001b[1;33m\u001b[0m\u001b[0m\n\u001b[0m",
      "\u001b[1;32m<ipython-input-90-107aca207c5e>\u001b[0m in \u001b[0;36mmodel\u001b[1;34m(df, m, revenue_level)\u001b[0m\n\u001b[0;32m      7\u001b[0m     \u001b[0mxtrain\u001b[0m\u001b[1;33m,\u001b[0m\u001b[0mxtest\u001b[0m\u001b[1;33m,\u001b[0m\u001b[0mytrain\u001b[0m\u001b[1;33m,\u001b[0m\u001b[0mytest\u001b[0m\u001b[1;33m=\u001b[0m\u001b[0mtrain_test_split\u001b[0m\u001b[1;33m(\u001b[0m\u001b[0mx\u001b[0m\u001b[1;33m,\u001b[0m\u001b[0my\u001b[0m\u001b[1;33m,\u001b[0m\u001b[0mtest_size\u001b[0m\u001b[1;33m=\u001b[0m\u001b[1;36m0.3\u001b[0m\u001b[1;33m,\u001b[0m\u001b[0mrandom_state\u001b[0m\u001b[1;33m=\u001b[0m\u001b[1;36m123\u001b[0m\u001b[1;33m,\u001b[0m\u001b[0mstratify\u001b[0m\u001b[1;33m=\u001b[0m\u001b[0my\u001b[0m\u001b[1;33m)\u001b[0m\u001b[1;33m\u001b[0m\u001b[1;33m\u001b[0m\u001b[0m\n\u001b[0;32m      8\u001b[0m     \u001b[0mxtrain_final\u001b[0m\u001b[1;33m,\u001b[0m\u001b[0mytrain_final\u001b[0m\u001b[1;33m=\u001b[0m\u001b[0msm\u001b[0m\u001b[1;33m.\u001b[0m\u001b[0mfit_sample\u001b[0m\u001b[1;33m(\u001b[0m\u001b[0mxtrain\u001b[0m\u001b[1;33m,\u001b[0m\u001b[0mytrain\u001b[0m\u001b[1;33m)\u001b[0m\u001b[1;33m\u001b[0m\u001b[1;33m\u001b[0m\u001b[0m\n\u001b[1;32m----> 9\u001b[1;33m     \u001b[0mm\u001b[0m\u001b[1;33m.\u001b[0m\u001b[0mfit\u001b[0m\u001b[1;33m(\u001b[0m\u001b[0mxtrain_final\u001b[0m\u001b[1;33m,\u001b[0m\u001b[0mytrain_final\u001b[0m\u001b[1;33m)\u001b[0m\u001b[1;33m\u001b[0m\u001b[1;33m\u001b[0m\u001b[0m\n\u001b[0m\u001b[0;32m     10\u001b[0m     \u001b[0my_pred\u001b[0m\u001b[1;33m=\u001b[0m\u001b[0mm\u001b[0m\u001b[1;33m.\u001b[0m\u001b[0mpredict\u001b[0m\u001b[1;33m(\u001b[0m\u001b[0mxtest\u001b[0m\u001b[1;33m)\u001b[0m\u001b[1;33m\u001b[0m\u001b[1;33m\u001b[0m\u001b[0m\n\u001b[0;32m     11\u001b[0m     \u001b[0mprint\u001b[0m\u001b[1;33m(\u001b[0m\u001b[1;34m'-------------------------------------------------------'\u001b[0m\u001b[1;33m)\u001b[0m\u001b[1;33m\u001b[0m\u001b[1;33m\u001b[0m\u001b[0m\n",
      "\u001b[1;31mTypeError\u001b[0m: fit() missing 1 required positional argument: 'y'"
     ]
    }
   ],
   "source": [
    "model(b,LGBMClassifier,'HVC')"
   ]
  },
  {
   "cell_type": "code",
   "execution_count": 140,
   "metadata": {},
   "outputs": [
    {
     "name": "stdout",
     "output_type": "stream",
     "text": [
      "-------------------------------------------------------\n",
      "Accuracy= 0.758524030375618\n",
      "-------------------------------------------------------\n",
      "Confusion matrix= [[ 1217   256]\n",
      " [13958 43432]]\n",
      "-------------------------------------------------------\n",
      "classification report=               precision    recall  f1-score   support\n",
      "\n",
      "           0       0.08      0.83      0.15      1473\n",
      "           1       0.99      0.76      0.86     57390\n",
      "\n",
      "   micro avg       0.76      0.76      0.76     58863\n",
      "   macro avg       0.54      0.79      0.50     58863\n",
      "weighted avg       0.97      0.76      0.84     58863\n",
      "\n",
      "--------------------------------------------------------\n",
      "f1 score= 0.8593759275015335\n",
      "---------------------------------------------------------\n",
      "ROC AUC score= 0.791495960216463\n",
      "-----------------------------------------------------------\n",
      "True positive rate = 0.08019769357495882\n",
      "False positive rate = 0.24321310332810595\n",
      "True negative rate = 0.9941402673503021\n",
      "False negative rate = 0.17379497623896809\n"
     ]
    }
   ],
   "source": [
    "brf=BalancedRandomForestClassifier(max_depth=3,n_estimators=400)\n",
    "model(b,brf,'HVC')"
   ]
  },
  {
   "cell_type": "code",
   "execution_count": 307,
   "metadata": {},
   "outputs": [
    {
     "name": "stdout",
     "output_type": "stream",
     "text": [
      "-------------------------------------------------------\n",
      "Accuracy= 0.7505733652719025\n",
      "-------------------------------------------------------\n",
      "Confusion matrix= [[ 1224   249]\n",
      " [14433 42957]]\n",
      "-------------------------------------------------------\n",
      "PR AUC= 0.9956869592197601\n",
      "classification report=               precision    recall  f1-score   support\n",
      "\n",
      "           0       0.08      0.83      0.14      1473\n",
      "           1       0.99      0.75      0.85     57390\n",
      "\n",
      "   micro avg       0.75      0.75      0.75     58863\n",
      "   macro avg       0.54      0.79      0.50     58863\n",
      "weighted avg       0.97      0.75      0.84     58863\n",
      "\n",
      "--------------------------------------------------------\n",
      "f1 score= 0.8540498628176071\n",
      "---------------------------------------------------------\n",
      "ROC AUC score= 0.7897337117780264\n",
      "-----------------------------------------------------------\n",
      "True positive rate = 0.0781758957654723\n",
      "False positive rate = 0.2514898065865133\n",
      "True negative rate = 0.9942369115400639\n",
      "False negative rate = 0.1690427698574338\n"
     ]
    }
   ],
   "source": [
    "brf=BalancedRandomForestClassifier(max_depth=3,n_estimators=400)\n",
    "model_rus(b,brf,'HVC')"
   ]
  },
  {
   "cell_type": "code",
   "execution_count": 305,
   "metadata": {},
   "outputs": [
    {
     "name": "stdout",
     "output_type": "stream",
     "text": [
      "-------------------------------------------------------\n",
      "Accuracy= 0.7544467662198665\n",
      "-------------------------------------------------------\n",
      "Confusion matrix= [[ 1214   259]\n",
      " [14195 43195]]\n",
      "-------------------------------------------------------\n",
      "PR AUC= 0.9956519418893425\n",
      "classification report=               precision    recall  f1-score   support\n",
      "\n",
      "           0       0.08      0.82      0.14      1473\n",
      "           1       0.99      0.75      0.86     57390\n",
      "\n",
      "   micro avg       0.75      0.75      0.75     58863\n",
      "   macro avg       0.54      0.79      0.50     58863\n",
      "weighted avg       0.97      0.75      0.84     58863\n",
      "\n",
      "--------------------------------------------------------\n",
      "f1 score= 0.856669707667288\n",
      "---------------------------------------------------------\n",
      "ROC AUC score= 0.7884128106225707\n",
      "-----------------------------------------------------------\n",
      "True positive rate = 0.0787851255759621\n",
      "False positive rate = 0.24734274263809025\n",
      "True negative rate = 0.9940396741381691\n",
      "False negative rate = 0.1758316361167685\n"
     ]
    }
   ],
   "source": [
    "brf=BalancedRandomForestClassifier(max_depth=3,n_estimators=400)\n",
    "model_rus(b,brf,'HVC')"
   ]
  },
  {
   "cell_type": "code",
   "execution_count": 208,
   "metadata": {},
   "outputs": [
    {
     "name": "stdout",
     "output_type": "stream",
     "text": [
      "-------------------------------------------------------\n",
      "Accuracy= 0.7286580704347383\n",
      "-------------------------------------------------------\n",
      "Confusion matrix= [[ 1732   325]\n",
      " [15647 41159]]\n",
      "-------------------------------------------------------\n",
      "PR AUC= 0.9923846219027004\n",
      "classification report=               precision    recall  f1-score   support\n",
      "\n",
      "           0       0.10      0.84      0.18      2057\n",
      "           1       0.99      0.72      0.84     56806\n",
      "\n",
      "   micro avg       0.73      0.73      0.73     58863\n",
      "   macro avg       0.55      0.78      0.51     58863\n",
      "weighted avg       0.96      0.73      0.81     58863\n",
      "\n",
      "--------------------------------------------------------\n",
      "f1 score= 0.8375012717468715\n",
      "---------------------------------------------------------\n",
      "ROC AUC score= 0.7832783305960048\n",
      "-----------------------------------------------------------\n",
      "True positive rate = 0.09966050981069106\n",
      "False positive rate = 0.2754462556772172\n",
      "True negative rate = 0.9921656542281362\n",
      "False negative rate = 0.15799708313077296\n"
     ]
    }
   ],
   "source": [
    "brf=BalancedRandomForestClassifier(max_depth=3,n_estimators=400)\n",
    "model(nov,brf,'HVC')"
   ]
  },
  {
   "cell_type": "code",
   "execution_count": 149,
   "metadata": {},
   "outputs": [
    {
     "name": "stdout",
     "output_type": "stream",
     "text": [
      "-------------------------------------------------------\n",
      "Accuracy= 0.8813394815015735\n",
      "-------------------------------------------------------\n",
      "Confusion matrix= [[ 30793  23914]\n",
      " [ 12396 238896]]\n",
      "-------------------------------------------------------\n",
      "classification report=               precision    recall  f1-score   support\n",
      "\n",
      "           0       0.71      0.56      0.63     54707\n",
      "           1       0.91      0.95      0.93    251292\n",
      "\n",
      "   micro avg       0.88      0.88      0.88    305999\n",
      "   macro avg       0.81      0.76      0.78    305999\n",
      "weighted avg       0.87      0.88      0.88    305999\n",
      "\n",
      "--------------------------------------------------------\n",
      "f1 score= 0.9293719923283706\n",
      "---------------------------------------------------------\n",
      "ROC AUC score= 0.7567711143990192\n",
      "-----------------------------------------------------------\n",
      "True positive rate = 0.7129824723888027\n",
      "False positive rate = 0.04932906737978129\n",
      "True negative rate = 0.9090065066017274\n",
      "False negative rate = 0.43712870382218\n"
     ]
    }
   ],
   "source": [
    "brf=BalancedRandomForestClassifier(max_depth=3,n_estimators=400)\n",
    "model(b,brf,'MVC')"
   ]
  },
  {
   "cell_type": "code",
   "execution_count": 209,
   "metadata": {},
   "outputs": [
    {
     "name": "stdout",
     "output_type": "stream",
     "text": [
      "-------------------------------------------------------\n",
      "Accuracy= 0.8266857081232292\n",
      "-------------------------------------------------------\n",
      "Confusion matrix= [[ 41063  25949]\n",
      " [ 27085 211902]]\n",
      "-------------------------------------------------------\n",
      "PR AUC= 0.9399372398863469\n",
      "classification report=               precision    recall  f1-score   support\n",
      "\n",
      "           0       0.60      0.61      0.61     67012\n",
      "           1       0.89      0.89      0.89    238987\n",
      "\n",
      "   micro avg       0.83      0.83      0.83    305999\n",
      "   macro avg       0.75      0.75      0.75    305999\n",
      "weighted avg       0.83      0.83      0.83    305999\n",
      "\n",
      "--------------------------------------------------------\n",
      "f1 score= 0.8887798371774062\n",
      "---------------------------------------------------------\n",
      "ROC AUC score= 0.7497191613246126\n",
      "-----------------------------------------------------------\n",
      "True positive rate = 0.6025562012091331\n",
      "False positive rate = 0.11333252436324988\n",
      "True negative rate = 0.8909022875665858\n",
      "False negative rate = 0.38722915298752464\n"
     ]
    }
   ],
   "source": [
    "brf=BalancedRandomForestClassifier(max_depth=3,n_estimators=400)\n",
    "model(nov,brf,'MVC')"
   ]
  },
  {
   "cell_type": "code",
   "execution_count": null,
   "metadata": {},
   "outputs": [],
   "source": []
  },
  {
   "cell_type": "code",
   "execution_count": null,
   "metadata": {},
   "outputs": [],
   "source": []
  },
  {
   "cell_type": "code",
   "execution_count": 99,
   "metadata": {},
   "outputs": [
    {
     "data": {
      "text/plain": [
       "<Figure size 640x480 with 1 Axes>"
      ]
     },
     "metadata": {},
     "output_type": "display_data"
    }
   ],
   "source": [
    "import matplotlib.pyplot as plt\n",
    "import seaborn as sns\n",
    "\n",
    "sns.boxplot(x='AON_months',data=c,hue='status')\n",
    "plt.show()"
   ]
  },
  {
   "cell_type": "code",
   "execution_count": 101,
   "metadata": {},
   "outputs": [
    {
     "data": {
      "image/png": "[encoded data removed]",
      "text/plain": [
       "<Figure size 432x288 with 1 Axes>"
      ]
     },
     "metadata": {},
     "output_type": "display_data"
    },
    {
     "data": {
      "image/png": "[encoded data removed]",
      "text/plain": [
       "<Figure size 432x288 with 1 Axes>"
      ]
     },
     "metadata": {},
     "output_type": "display_data"
    },
    {
     "data": {
      "image/png": "[encoded data removed]",
      "text/plain": [
       "<Figure size 432x288 with 1 Axes>"
      ]
     },
     "metadata": {},
     "output_type": "display_data"
    }
   ],
   "source": [
    "list1=['HVC','MVC','LVC']\n",
    "for i in list1:\n",
    "    a=c[c['revenue_level_current_month']==i]\n",
    "    plt.title(i)\n",
    "    sns.set(style=\"whitegrid\")\n",
    "    sns.boxplot(x='status',y='AON_months',data=a,showfliers=False)\n",
    "    plt.show()"
   ]
  },
  {
   "cell_type": "markdown",
   "metadata": {},
   "source": [
    "### With only one month data"
   ]
  },
  {
   "cell_type": "markdown",
   "metadata": {},
   "source": [
    "### modelling for november and october data"
   ]
  },
  {
   "cell_type": "code",
   "execution_count": 300,
   "metadata": {},
   "outputs": [
    {
     "name": "stdout",
     "output_type": "stream",
     "text": [
      "-------------------------------------------------------\n",
      "Accuracy= 0.7302380102950919\n",
      "-------------------------------------------------------\n",
      "Confusion matrix= [[ 1241   232]\n",
      " [15647 41743]]\n",
      "-------------------------------------------------------\n",
      "PR AUC= 0.9950476252290947\n",
      "classification report=               precision    recall  f1-score   support\n",
      "\n",
      "           0       0.07      0.84      0.14      1473\n",
      "           1       0.99      0.73      0.84     57390\n",
      "\n",
      "   micro avg       0.73      0.73      0.73     58863\n",
      "   macro avg       0.53      0.78      0.49     58863\n",
      "weighted avg       0.97      0.73      0.82     58863\n",
      "\n",
      "--------------------------------------------------------\n",
      "f1 score= 0.8401952397725557\n",
      "---------------------------------------------------------\n",
      "ROC AUC score= 0.7849274925661383\n",
      "-----------------------------------------------------------\n",
      "True positive rate = 0.07348413074372336\n",
      "False positive rate = 0.27264331765115873\n",
      "True negative rate = 0.9944729005360333\n",
      "False negative rate = 0.15750169721656485\n"
     ]
    }
   ],
   "source": [
    "from lightgbm import LGBMClassifier\n",
    "lgbm=LGBMClassifier(learning_rate=0.001,max_depth=3,n_estimators=50)\n",
    "model(b,lgbm,'HVC')"
   ]
  },
  {
   "cell_type": "code",
   "execution_count": 306,
   "metadata": {},
   "outputs": [
    {
     "name": "stdout",
     "output_type": "stream",
     "text": [
      "-------------------------------------------------------\n",
      "Accuracy= 0.7770416050829894\n",
      "-------------------------------------------------------\n",
      "Confusion matrix= [[ 1166   307]\n",
      " [12817 44573]]\n",
      "-------------------------------------------------------\n",
      "PR AUC= 0.9955087192485126\n",
      "classification report=               precision    recall  f1-score   support\n",
      "\n",
      "           0       0.08      0.79      0.15      1473\n",
      "           1       0.99      0.78      0.87     57390\n",
      "\n",
      "   micro avg       0.78      0.78      0.78     58863\n",
      "   macro avg       0.54      0.78      0.51     58863\n",
      "weighted avg       0.97      0.78      0.85     58863\n",
      "\n",
      "--------------------------------------------------------\n",
      "f1 score= 0.8716730223917082\n",
      "---------------------------------------------------------\n",
      "ROC AUC score= 0.7841251074844677\n",
      "-----------------------------------------------------------\n",
      "True positive rate = 0.08338696989201173\n",
      "False positive rate = 0.22333159086948945\n",
      "True negative rate = 0.9931595365418895\n",
      "False negative rate = 0.208418194161575\n"
     ]
    }
   ],
   "source": [
    "from lightgbm import LGBMClassifier\n",
    "lgbm=LGBMClassifier(learning_rate=1,max_depth=3,n_estimators=50)\n",
    "model_rus(b,lgbm,'HVC')"
   ]
  },
  {
   "cell_type": "code",
   "execution_count": 210,
   "metadata": {},
   "outputs": [
    {
     "name": "stdout",
     "output_type": "stream",
     "text": [
      "-------------------------------------------------------\n",
      "Accuracy= 0.7218966073764504\n",
      "-------------------------------------------------------\n",
      "Confusion matrix= [[ 1732   325]\n",
      " [16045 40761]]\n",
      "-------------------------------------------------------\n",
      "PR AUC= 0.9925060722517791\n",
      "classification report=               precision    recall  f1-score   support\n",
      "\n",
      "           0       0.10      0.84      0.17      2057\n",
      "           1       0.99      0.72      0.83     56806\n",
      "\n",
      "   micro avg       0.72      0.72      0.72     58863\n",
      "   macro avg       0.54      0.78      0.50     58863\n",
      "weighted avg       0.96      0.72      0.81     58863\n",
      "\n",
      "--------------------------------------------------------\n",
      "f1 score= 0.8327748947820047\n",
      "---------------------------------------------------------\n",
      "ROC AUC score= 0.7797751795204143\n",
      "-----------------------------------------------------------\n",
      "True positive rate = 0.09742926253023569\n",
      "False positive rate = 0.2824525578283984\n",
      "True negative rate = 0.99208976293628\n",
      "False negative rate = 0.15799708313077296\n"
     ]
    }
   ],
   "source": [
    "from lightgbm import LGBMClassifier\n",
    "lgbm=LGBMClassifier(learning_rate=0.001,max_depth=3,n_estimators=50)\n",
    "model(nov,lgbm,'HVC')"
   ]
  },
  {
   "cell_type": "code",
   "execution_count": 148,
   "metadata": {},
   "outputs": [
    {
     "name": "stdout",
     "output_type": "stream",
     "text": [
      "-------------------------------------------------------\n",
      "Accuracy= 0.8059176663976027\n",
      "-------------------------------------------------------\n",
      "Confusion matrix= [[ 40130  14577]\n",
      " [ 44812 206480]]\n",
      "-------------------------------------------------------\n",
      "classification report=               precision    recall  f1-score   support\n",
      "\n",
      "           0       0.47      0.73      0.57     54707\n",
      "           1       0.93      0.82      0.87    251292\n",
      "\n",
      "   micro avg       0.81      0.81      0.81    305999\n",
      "   macro avg       0.70      0.78      0.72    305999\n",
      "weighted avg       0.85      0.81      0.82    305999\n",
      "\n",
      "--------------------------------------------------------\n",
      "f1 score= 0.8742688139490079\n",
      "---------------------------------------------------------\n",
      "ROC AUC score= 0.7776088721406683\n",
      "-----------------------------------------------------------\n",
      "True positive rate = 0.47244001789456336\n",
      "False positive rate = 0.17832640911767983\n",
      "True negative rate = 0.9340577317162542\n",
      "False negative rate = 0.2664558466009834\n"
     ]
    }
   ],
   "source": [
    "from lightgbm import LGBMClassifier\n",
    "lgbm=LGBMClassifier(learning_rate=0.001,max_depth=3,n_estimators=500)\n",
    "model(b,lgbm,'MVC')"
   ]
  },
  {
   "cell_type": "code",
   "execution_count": 211,
   "metadata": {},
   "outputs": [
    {
     "name": "stdout",
     "output_type": "stream",
     "text": [
      "-------------------------------------------------------\n",
      "Accuracy= 0.7504632368079635\n",
      "-------------------------------------------------------\n",
      "Confusion matrix= [[ 51073  15939]\n",
      " [ 60419 178568]]\n",
      "-------------------------------------------------------\n",
      "PR AUC= 0.9439756460391555\n",
      "classification report=               precision    recall  f1-score   support\n",
      "\n",
      "           0       0.46      0.76      0.57     67012\n",
      "           1       0.92      0.75      0.82    238987\n",
      "\n",
      "   micro avg       0.75      0.75      0.75    305999\n",
      "   macro avg       0.69      0.75      0.70    305999\n",
      "weighted avg       0.82      0.75      0.77    305999\n",
      "\n",
      "--------------------------------------------------------\n",
      "f1 score= 0.8238545400859068\n",
      "---------------------------------------------------------\n",
      "ROC AUC score= 0.7546670818126326\n",
      "-----------------------------------------------------------\n",
      "True positive rate = 0.45808667886485127\n",
      "False positive rate = 0.25281291450999427\n",
      "True negative rate = 0.9180543630820485\n",
      "False negative rate = 0.23785292186474064\n"
     ]
    }
   ],
   "source": [
    "from lightgbm import LGBMClassifier\n",
    "lgbm=LGBMClassifier(learning_rate=0.001,max_depth=3,n_estimators=50)\n",
    "model(nov,lgbm,'MVC')"
   ]
  },
  {
   "cell_type": "code",
   "execution_count": null,
   "metadata": {},
   "outputs": [],
   "source": []
  },
  {
   "cell_type": "code",
   "execution_count": 189,
   "metadata": {},
   "outputs": [
    {
     "name": "stderr",
     "output_type": "stream",
     "text": [
      "C:\\Users\\sai.deepak\\AppData\\Local\\Continuum\\anaconda3\\lib\\site-packages\\IPython\\core\\interactiveshell.py:3049: DtypeWarning: Columns (67,68,69) have mixed types. Specify dtype option on import or set low_memory=False.\n",
      "  interactivity=interactivity, compiler=compiler, result=result)\n"
     ]
    },
    {
     "data": {
      "text/html": [
       "<div>\n",
       "<style scoped>\n",
       "    .dataframe tbody tr th:only-of-type {\n",
       "        vertical-align: middle;\n",
       "    }\n",
       "\n",
       "    .dataframe tbody tr th {\n",
       "        vertical-align: top;\n",
       "    }\n",
       "\n",
       "    .dataframe thead th {\n",
       "        text-align: right;\n",
       "    }\n",
       "</style>\n",
       "<table border=\"1\" class=\"dataframe\">\n",
       "  <thead>\n",
       "    <tr style=\"text-align: right;\">\n",
       "      <th></th>\n",
       "      <th>0</th>\n",
       "      <th>1</th>\n",
       "      <th>2</th>\n",
       "      <th>3</th>\n",
       "      <th>4</th>\n",
       "      <th>5</th>\n",
       "      <th>6</th>\n",
       "      <th>7</th>\n",
       "      <th>8</th>\n",
       "      <th>9</th>\n",
       "      <th>...</th>\n",
       "      <th>134</th>\n",
       "      <th>135</th>\n",
       "      <th>136</th>\n",
       "      <th>137</th>\n",
       "      <th>138</th>\n",
       "      <th>139</th>\n",
       "      <th>140</th>\n",
       "      <th>141</th>\n",
       "      <th>142</th>\n",
       "      <th>143</th>\n",
       "    </tr>\n",
       "  </thead>\n",
       "  <tbody>\n",
       "    <tr>\n",
       "      <th>0</th>\n",
       "      <td>254202000165</td>\n",
       "      <td>Dec-2018</td>\n",
       "      <td>12</td>\n",
       "      <td>1</td>\n",
       "      <td>0</td>\n",
       "      <td>0</td>\n",
       "      <td>0</td>\n",
       "      <td>1.71</td>\n",
       "      <td>0</td>\n",
       "      <td>1</td>\n",
       "      <td>...</td>\n",
       "      <td>0</td>\n",
       "      <td>0</td>\n",
       "      <td>0</td>\n",
       "      <td>0</td>\n",
       "      <td>0</td>\n",
       "      <td>0</td>\n",
       "      <td>0</td>\n",
       "      <td>0</td>\n",
       "      <td>0.0</td>\n",
       "      <td>0.0</td>\n",
       "    </tr>\n",
       "    <tr>\n",
       "      <th>1</th>\n",
       "      <td>254202000238</td>\n",
       "      <td>Dec-2018</td>\n",
       "      <td>12</td>\n",
       "      <td>0</td>\n",
       "      <td>0</td>\n",
       "      <td>9</td>\n",
       "      <td>0</td>\n",
       "      <td>1.01</td>\n",
       "      <td>0</td>\n",
       "      <td>0</td>\n",
       "      <td>...</td>\n",
       "      <td>0</td>\n",
       "      <td>0</td>\n",
       "      <td>0</td>\n",
       "      <td>0</td>\n",
       "      <td>0</td>\n",
       "      <td>0</td>\n",
       "      <td>0</td>\n",
       "      <td>0</td>\n",
       "      <td>0.0</td>\n",
       "      <td>0.0</td>\n",
       "    </tr>\n",
       "    <tr>\n",
       "      <th>2</th>\n",
       "      <td>254202000311</td>\n",
       "      <td>Dec-2018</td>\n",
       "      <td>12</td>\n",
       "      <td>0</td>\n",
       "      <td>0</td>\n",
       "      <td>1</td>\n",
       "      <td>0</td>\n",
       "      <td>0.00</td>\n",
       "      <td>0</td>\n",
       "      <td>0</td>\n",
       "      <td>...</td>\n",
       "      <td>0</td>\n",
       "      <td>0</td>\n",
       "      <td>0</td>\n",
       "      <td>0</td>\n",
       "      <td>0</td>\n",
       "      <td>0</td>\n",
       "      <td>0</td>\n",
       "      <td>0</td>\n",
       "      <td>0.0</td>\n",
       "      <td>0.0</td>\n",
       "    </tr>\n",
       "    <tr>\n",
       "      <th>3</th>\n",
       "      <td>254202000736</td>\n",
       "      <td>Dec-2018</td>\n",
       "      <td>12</td>\n",
       "      <td>9</td>\n",
       "      <td>1</td>\n",
       "      <td>23</td>\n",
       "      <td>0</td>\n",
       "      <td>3.55</td>\n",
       "      <td>8</td>\n",
       "      <td>26</td>\n",
       "      <td>...</td>\n",
       "      <td>50</td>\n",
       "      <td>0</td>\n",
       "      <td>80</td>\n",
       "      <td>0</td>\n",
       "      <td>0</td>\n",
       "      <td>0</td>\n",
       "      <td>2</td>\n",
       "      <td>0</td>\n",
       "      <td>0.0</td>\n",
       "      <td>0.0</td>\n",
       "    </tr>\n",
       "    <tr>\n",
       "      <th>4</th>\n",
       "      <td>254202001032</td>\n",
       "      <td>Dec-2018</td>\n",
       "      <td>12</td>\n",
       "      <td>0</td>\n",
       "      <td>0</td>\n",
       "      <td>22</td>\n",
       "      <td>0</td>\n",
       "      <td>0.00</td>\n",
       "      <td>0</td>\n",
       "      <td>0</td>\n",
       "      <td>...</td>\n",
       "      <td>0</td>\n",
       "      <td>0</td>\n",
       "      <td>0</td>\n",
       "      <td>0</td>\n",
       "      <td>0</td>\n",
       "      <td>0</td>\n",
       "      <td>0</td>\n",
       "      <td>0</td>\n",
       "      <td>0.0</td>\n",
       "      <td>0.0</td>\n",
       "    </tr>\n",
       "  </tbody>\n",
       "</table>\n",
       "<p>5 rows × 144 columns</p>\n",
       "</div>"
      ],
      "text/plain": [
       "            0         1    2    3    4    5    6     7    8    9    ...  134  \\\n",
       "0  254202000165  Dec-2018   12    1    0    0    0  1.71    0    1  ...    0   \n",
       "1  254202000238  Dec-2018   12    0    0    9    0  1.01    0    0  ...    0   \n",
       "2  254202000311  Dec-2018   12    0    0    1    0  0.00    0    0  ...    0   \n",
       "3  254202000736  Dec-2018   12    9    1   23    0  3.55    8   26  ...   50   \n",
       "4  254202001032  Dec-2018   12    0    0   22    0  0.00    0    0  ...    0   \n",
       "\n",
       "   135  136  137  138  139  140  141  142  143  \n",
       "0    0    0    0    0    0    0    0  0.0  0.0  \n",
       "1    0    0    0    0    0    0    0  0.0  0.0  \n",
       "2    0    0    0    0    0    0    0  0.0  0.0  \n",
       "3    0   80    0    0    0    2    0  0.0  0.0  \n",
       "4    0    0    0    0    0    0    0  0.0  0.0  \n",
       "\n",
       "[5 rows x 144 columns]"
      ]
     },
     "execution_count": 189,
     "metadata": {},
     "output_type": "execute_result"
    }
   ],
   "source": [
    "df_dec=pd.read_csv('dec_18_new.csv',header=None)\n",
    "df_dec.head()"
   ]
  },
  {
   "cell_type": "code",
   "execution_count": 190,
   "metadata": {},
   "outputs": [],
   "source": [
    "churn_dec=pd.read_csv('churn_december.csv')\n",
    "nonchurn_dec=pd.read_csv('nonchurners_dec.csv')"
   ]
  },
  {
   "cell_type": "code",
   "execution_count": 191,
   "metadata": {},
   "outputs": [],
   "source": [
    "#preprocess the current month data\n",
    "test_1=preprocess_df_current_month(df_dec,churn_dec,nonchurn_dec,20191231)\n",
    "#Preprocess the previous month data and combines both previous month data and current month data\n",
    "test=preprocess_previous_month(current_month_1,test_1,churn_dec,nonchurn_dec)"
   ]
  },
  {
   "cell_type": "code",
   "execution_count": 192,
   "metadata": {},
   "outputs": [],
   "source": [
    "def model_test(df,df_test,m,revenue_level):\n",
    "    df1=df[df['revenue_level_current_month']==revenue_level]\n",
    "    \n",
    "    x=df1.drop(['msisdn','revenue_level_current_month','status'],axis=1)\n",
    "    y=df1['status']\n",
    "    \n",
    "    xtrain,xtest,ytrain,ytest=train_test_split(x,y,test_size=0.3,random_state=123,stratify=y)\n",
    "    xtrain_final,ytrain_final=sm.fit_sample(xtrain,ytrain)\n",
    "    m.fit(xtrain_final,ytrain_final)\n",
    "    y_pred=m.predict(xtest)\n",
    "    print('-------------------------------------------------------')\n",
    "    print('Accuracy=',accuracy_score(ytest,y_pred))\n",
    "    print('-------------------------------------------------------')\n",
    "    print('Confusion matrix=',confusion_matrix(ytest,y_pred))\n",
    "    print('-------------------------------------------------------')\n",
    "    print('classification report=',classification_report(ytest,y_pred))\n",
    "    print('--------------------------------------------------------')\n",
    "    print('f1 score=',f1_score(ytest,y_pred))\n",
    "    print('---------------------------------------------------------')\n",
    "    print('ROC AUC score=',roc_auc_score(ytest,y_pred))\n",
    "    print('-----------------------------------------------------------')\n",
    "    cm=confusion_matrix(ytest,y_pred)\n",
    "    tpr=cm[0,0]/(cm[0,0]+cm[1,0])\n",
    "    fpr=cm[1,0]/(cm[1,0]+cm[1,1])\n",
    "    tnr=cm[1,1]/(cm[0,1]+cm[1,1])\n",
    "    fnr=cm[0,1]/(cm[0,1]+cm[0,0])\n",
    "    print('True positive rate =',tpr)\n",
    "    print('False positive rate =',fpr)\n",
    "    print('True negative rate =',tnr)\n",
    "    print('False negative rate =',fnr)\n",
    "    print('-----------------------------------------------------')\n",
    "    print('Test for december dataset')\n",
    "    print('-----------------------------------------------------')\n",
    "    test1=test[test['revenue_level_current_month']==revenue_level]\n",
    "    x_test=test1.drop(['msisdn','revenue_level_current_month','status'],axis=1)\n",
    "    y_test=test1['status']\n",
    "    \n",
    "    ypred_test=m.predict(x_test)\n",
    "    \n",
    "    print('Accuracy=',accuracy_score(y_test,ypred_test))\n",
    "    print('-------------------------------------------------------')\n",
    "    print('Confusion matrix=',confusion_matrix(y_test,ypred_test))\n",
    "    print('-------------------------------------------------------')\n",
    "    print('classification report=',classification_report(y_test,ypred_test))\n",
    "    print('--------------------------------------------------------')\n",
    "    print('f1 score=',f1_score(y_test,ypred_test))\n",
    "    print('---------------------------------------------------------')\n",
    "    print('ROC AUC score=',roc_auc_score(y_test,ypred_test))\n",
    "    print('-----------------------------------------------------------')\n",
    "    cm=confusion_matrix(y_test,ypred_test)\n",
    "    tpr=cm[0,0]/(cm[0,0]+cm[1,0])\n",
    "    fpr=cm[1,0]/(cm[1,0]+cm[1,1])\n",
    "    tnr=cm[1,1]/(cm[0,1]+cm[1,1])\n",
    "    fnr=cm[0,1]/(cm[0,1]+cm[0,0])\n",
    "    print('True positive rate =',tpr)\n",
    "    print('False positive rate =',fpr)\n",
    "    print('True negative rate =',tnr)\n",
    "    print('False negative rate =',fnr)\n",
    "    "
   ]
  },
  {
   "cell_type": "code",
   "execution_count": 193,
   "metadata": {},
   "outputs": [
    {
     "name": "stdout",
     "output_type": "stream",
     "text": [
      "-------------------------------------------------------\n",
      "Accuracy= 0.8388971000458693\n",
      "-------------------------------------------------------\n",
      "Confusion matrix= [[ 1012   461]\n",
      " [ 9022 48368]]\n",
      "-------------------------------------------------------\n",
      "classification report=               precision    recall  f1-score   support\n",
      "\n",
      "           0       0.10      0.69      0.18      1473\n",
      "           1       0.99      0.84      0.91     57390\n",
      "\n",
      "   micro avg       0.84      0.84      0.84     58863\n",
      "   macro avg       0.55      0.76      0.54     58863\n",
      "weighted avg       0.97      0.84      0.89     58863\n",
      "\n",
      "--------------------------------------------------------\n",
      "f1 score= 0.9107221871793182\n",
      "---------------------------------------------------------\n",
      "ROC AUC score= 0.7649140887251233\n",
      "-----------------------------------------------------------\n",
      "True positive rate = 0.10085708590791309\n",
      "False positive rate = 0.15720508799442412\n",
      "True negative rate = 0.9905588891847058\n",
      "False negative rate = 0.31296673455532925\n",
      "-----------------------------------------------------\n",
      "Test for december dataset\n",
      "-----------------------------------------------------\n",
      "Accuracy= 0.9761023353911725\n",
      "-------------------------------------------------------\n",
      "Confusion matrix= [[   293   4316]\n",
      " [    35 177424]]\n",
      "-------------------------------------------------------\n",
      "classification report=               precision    recall  f1-score   support\n",
      "\n",
      "           0       0.89      0.06      0.12      4609\n",
      "           1       0.98      1.00      0.99    177459\n",
      "\n",
      "   micro avg       0.98      0.98      0.98    182068\n",
      "   macro avg       0.93      0.53      0.55    182068\n",
      "weighted avg       0.97      0.98      0.97    182068\n",
      "\n",
      "--------------------------------------------------------\n",
      "f1 score= 0.9878869373244358\n",
      "---------------------------------------------------------\n",
      "ROC AUC score= 0.5316870224697534\n",
      "-----------------------------------------------------------\n",
      "True positive rate = 0.8932926829268293\n",
      "False positive rate = 0.00019722865563313215\n",
      "True negative rate = 0.9762517882689556\n",
      "False negative rate = 0.9364287264048601\n"
     ]
    }
   ],
   "source": [
    "from lightgbm import LGBMClassifier\n",
    "lgbm=LGBMClassifier(learning_rate=0.001,max_depth=3,n_estimators=200)\n",
    "model_test(b,test,lgbm,'HVC')"
   ]
  },
  {
   "cell_type": "code",
   "execution_count": 152,
   "metadata": {},
   "outputs": [
    {
     "name": "stdout",
     "output_type": "stream",
     "text": [
      "-------------------------------------------------------\n",
      "Accuracy= 0.8118327184075765\n",
      "-------------------------------------------------------\n",
      "Confusion matrix= [[ 39635  15072]\n",
      " [ 42507 208785]]\n",
      "-------------------------------------------------------\n",
      "classification report=               precision    recall  f1-score   support\n",
      "\n",
      "           0       0.48      0.72      0.58     54707\n",
      "           1       0.93      0.83      0.88    251292\n",
      "\n",
      "   micro avg       0.81      0.81      0.81    305999\n",
      "   macro avg       0.71      0.78      0.73    305999\n",
      "weighted avg       0.85      0.81      0.83    305999\n",
      "\n",
      "--------------------------------------------------------\n",
      "f1 score= 0.8788190651774497\n",
      "---------------------------------------------------------\n",
      "ROC AUC score= 0.7776710690320283\n",
      "-----------------------------------------------------------\n",
      "True positive rate = 0.4825180784495143\n",
      "False positive rate = 0.16915381309393057\n",
      "True negative rate = 0.9326713035553947\n",
      "False negative rate = 0.2755040488420129\n",
      "-----------------------------------------------------\n",
      "Test for december dataset\n",
      "-----------------------------------------------------\n",
      "Accuracy= 0.7983093286865874\n",
      "-------------------------------------------------------\n",
      "Confusion matrix= [[115929  46896]\n",
      " [136677 610669]]\n",
      "-------------------------------------------------------\n",
      "classification report=               precision    recall  f1-score   support\n",
      "\n",
      "           0       0.46      0.71      0.56    162825\n",
      "           1       0.93      0.82      0.87    747346\n",
      "\n",
      "   micro avg       0.80      0.80      0.80    910171\n",
      "   macro avg       0.69      0.76      0.71    910171\n",
      "weighted avg       0.84      0.80      0.81    910171\n",
      "\n",
      "--------------------------------------------------------\n",
      "f1 score= 0.8693347834845053\n",
      "---------------------------------------------------------\n",
      "ROC AUC score= 0.7645510488487594\n",
      "-----------------------------------------------------------\n",
      "True positive rate = 0.4589320918743023\n",
      "False positive rate = 0.18288316255121456\n",
      "True negative rate = 0.928682335586596\n",
      "False negative rate = 0.2880147397512667\n"
     ]
    }
   ],
   "source": [
    "from lightgbm import LGBMClassifier\n",
    "lgbm=LGBMClassifier(learning_rate=0.001,max_depth=3,n_estimators=200)\n",
    "model_test(b,test,lgbm,'MVC')"
   ]
  },
  {
   "cell_type": "markdown",
   "metadata": {},
   "source": [
    "### One month churn"
   ]
  },
  {
   "cell_type": "code",
   "execution_count": 131,
   "metadata": {},
   "outputs": [],
   "source": [
    "churn_nov_single=pd.read_csv('churn_nov_single_month.csv')\n",
    "nonchurn_nov_single=pd.read_csv('nonchurn_nov_single_month.csv')\n",
    "\n",
    "churn_dec_single=pd.read_csv('churn_dec_single_month.csv')\n",
    "nonchurn_dec_single=pd.read_csv('nonchurn_dec_single_month.csv')\n",
    "\n",
    "churn_jan_single=pd.read_csv('churn_jan_single_month.csv')\n",
    "nonchurn_jan_single=pd.read_csv('nonchurn_jan_single_month.csv')"
   ]
  },
  {
   "cell_type": "code",
   "execution_count": null,
   "metadata": {},
   "outputs": [],
   "source": []
  },
  {
   "cell_type": "code",
   "execution_count": null,
   "metadata": {},
   "outputs": [],
   "source": []
  },
  {
   "cell_type": "code",
   "execution_count": 132,
   "metadata": {},
   "outputs": [],
   "source": [
    "#preprocess the current month data\n",
    "current_nov=preprocess_df_current_month(current_month_1,churn_nov_single,nonchurn_nov_single,20181130)\n",
    "#Preprocess the previous month data and combines both previous month data and current month data\n",
    "nov=preprocess_previous_month(previous_month_1,current_nov,churn_nov_single,nonchurn_nov_single)"
   ]
  },
  {
   "cell_type": "code",
   "execution_count": 187,
   "metadata": {},
   "outputs": [
    {
     "name": "stdout",
     "output_type": "stream",
     "text": [
      "-------------------------------------------------------\n",
      "Accuracy= 0.9650544484650799\n",
      "-------------------------------------------------------\n",
      "Confusion matrix= [[    0  2057]\n",
      " [    0 56806]]\n",
      "-------------------------------------------------------\n",
      "PR AUC= 0.993856716208874\n",
      "classification report=               precision    recall  f1-score   support\n",
      "\n",
      "           0       0.00      0.00      0.00      2057\n",
      "           1       0.97      1.00      0.98     56806\n",
      "\n",
      "   micro avg       0.97      0.97      0.97     58863\n",
      "   macro avg       0.48      0.50      0.49     58863\n",
      "weighted avg       0.93      0.97      0.95     58863\n",
      "\n",
      "--------------------------------------------------------\n",
      "f1 score= 0.982216497073546\n",
      "---------------------------------------------------------\n",
      "ROC AUC score= 0.5\n",
      "-----------------------------------------------------------\n"
     ]
    },
    {
     "name": "stderr",
     "output_type": "stream",
     "text": [
      "C:\\Users\\sai.deepak\\AppData\\Local\\Continuum\\anaconda3\\lib\\site-packages\\sklearn\\metrics\\classification.py:1143: UndefinedMetricWarning: Precision and F-score are ill-defined and being set to 0.0 in labels with no predicted samples.\n",
      "  'precision', 'predicted', average, warn_for)\n"
     ]
    },
    {
     "name": "stdout",
     "output_type": "stream",
     "text": [
      "True positive rate = nan\n",
      "False positive rate = 0.0\n",
      "True negative rate = 0.9650544484650799\n",
      "False negative rate = 1.0\n"
     ]
    },
    {
     "name": "stderr",
     "output_type": "stream",
     "text": [
      "C:\\Users\\sai.deepak\\AppData\\Local\\Continuum\\anaconda3\\lib\\site-packages\\ipykernel_launcher.py:28: RuntimeWarning: invalid value encountered in longlong_scalars\n"
     ]
    }
   ],
   "source": [
    "from lightgbm import LGBMClassifier\n",
    "lgbm=LGBMClassifier(learning_rate=0.01,max_depth=3,n_estimators=200)\n",
    "model(nov,lgbm,'HVC')"
   ]
  },
  {
   "cell_type": "code",
   "execution_count": 91,
   "metadata": {},
   "outputs": [
    {
     "name": "stdout",
     "output_type": "stream",
     "text": [
      "-------------------------------------------------------\n",
      "Accuracy= 0.7200481047323684\n",
      "-------------------------------------------------------\n",
      "Confusion matrix= [[ 54305  12707]\n",
      " [ 72958 166029]]\n",
      "-------------------------------------------------------\n",
      "classification report=               precision    recall  f1-score   support\n",
      "\n",
      "           0       0.43      0.81      0.56     67012\n",
      "           1       0.93      0.69      0.79    238987\n",
      "\n",
      "   micro avg       0.72      0.72      0.72    305999\n",
      "   macro avg       0.68      0.75      0.68    305999\n",
      "weighted avg       0.82      0.72      0.74    305999\n",
      "\n",
      "--------------------------------------------------------\n",
      "f1 score= 0.7949239089061411\n",
      "---------------------------------------------------------\n",
      "ROC AUC score= 0.7525485211703486\n",
      "-----------------------------------------------------------\n",
      "True positive rate = 0.4267147560563557\n",
      "False positive rate = 0.3052802035257148\n",
      "True negative rate = 0.9289063199355474\n",
      "False negative rate = 0.189622754133588\n"
     ]
    }
   ],
   "source": [
    "from lightgbm import LGBMClassifier\n",
    "lgbm=LGBMClassifier(learning_rate=0.001,max_depth=3,n_estimators=200)\n",
    "model(nov,lgbm,'MVC')"
   ]
  },
  {
   "cell_type": "code",
   "execution_count": 188,
   "metadata": {},
   "outputs": [
    {
     "ename": "NameError",
     "evalue": "name 'df_dec' is not defined",
     "output_type": "error",
     "traceback": [
      "\u001b[1;31m---------------------------------------------------------------------------\u001b[0m",
      "\u001b[1;31mNameError\u001b[0m                                 Traceback (most recent call last)",
      "\u001b[1;32m<ipython-input-188-dd10f91e1814>\u001b[0m in \u001b[0;36m<module>\u001b[1;34m\u001b[0m\n\u001b[0;32m      1\u001b[0m \u001b[1;31m#preprocess the current month data\u001b[0m\u001b[1;33m\u001b[0m\u001b[1;33m\u001b[0m\u001b[1;33m\u001b[0m\u001b[0m\n\u001b[1;32m----> 2\u001b[1;33m \u001b[0mtest_1\u001b[0m\u001b[1;33m=\u001b[0m\u001b[0mpreprocess_df_current_month\u001b[0m\u001b[1;33m(\u001b[0m\u001b[0mdf_dec\u001b[0m\u001b[1;33m,\u001b[0m\u001b[0mchurn_dec_single\u001b[0m\u001b[1;33m,\u001b[0m\u001b[0mnonchurn_dec_single\u001b[0m\u001b[1;33m,\u001b[0m\u001b[1;36m20181231\u001b[0m\u001b[1;33m)\u001b[0m\u001b[1;33m\u001b[0m\u001b[1;33m\u001b[0m\u001b[0m\n\u001b[0m\u001b[0;32m      3\u001b[0m \u001b[1;31m#Preprocess the previous month data and combines both previous month data and current month data\u001b[0m\u001b[1;33m\u001b[0m\u001b[1;33m\u001b[0m\u001b[1;33m\u001b[0m\u001b[0m\n\u001b[0;32m      4\u001b[0m \u001b[0mtest_dec\u001b[0m\u001b[1;33m=\u001b[0m\u001b[0mpreprocess_previous_month\u001b[0m\u001b[1;33m(\u001b[0m\u001b[0mcurrent_month_1\u001b[0m\u001b[1;33m,\u001b[0m\u001b[0mtest_1\u001b[0m\u001b[1;33m,\u001b[0m\u001b[0mchurn_dec_single\u001b[0m\u001b[1;33m,\u001b[0m\u001b[0mnonchurn_dec_single\u001b[0m\u001b[1;33m)\u001b[0m\u001b[1;33m\u001b[0m\u001b[1;33m\u001b[0m\u001b[0m\n",
      "\u001b[1;31mNameError\u001b[0m: name 'df_dec' is not defined"
     ]
    }
   ],
   "source": [
    "#preprocess the current month data\n",
    "test_1=preprocess_df_current_month(df_dec,churn_dec_single,nonchurn_dec_single,20181231)\n",
    "#Preprocess the previous month data and combines both previous month data and current month data\n",
    "test_dec=preprocess_previous_month(current_month_1,test_1,churn_dec_single,nonchurn_dec_single)"
   ]
  },
  {
   "cell_type": "code",
   "execution_count": 153,
   "metadata": {},
   "outputs": [
    {
     "name": "stdout",
     "output_type": "stream",
     "text": [
      "-------------------------------------------------------\n",
      "Accuracy= 0.7218966073764504\n",
      "-------------------------------------------------------\n",
      "Confusion matrix= [[ 1732   325]\n",
      " [16045 40761]]\n",
      "-------------------------------------------------------\n",
      "classification report=               precision    recall  f1-score   support\n",
      "\n",
      "           0       0.10      0.84      0.17      2057\n",
      "           1       0.99      0.72      0.83     56806\n",
      "\n",
      "   micro avg       0.72      0.72      0.72     58863\n",
      "   macro avg       0.54      0.78      0.50     58863\n",
      "weighted avg       0.96      0.72      0.81     58863\n",
      "\n",
      "--------------------------------------------------------\n",
      "f1 score= 0.8327748947820047\n",
      "---------------------------------------------------------\n",
      "ROC AUC score= 0.7797751795204143\n",
      "-----------------------------------------------------------\n",
      "True positive rate = 0.09742926253023569\n",
      "False positive rate = 0.2824525578283984\n",
      "True negative rate = 0.99208976293628\n",
      "False negative rate = 0.15799708313077296\n",
      "-----------------------------------------------------\n",
      "Test for december dataset\n",
      "-----------------------------------------------------\n",
      "Accuracy= 0.7108662697453698\n",
      "-------------------------------------------------------\n",
      "Confusion matrix= [[  3946    663]\n",
      " [ 51979 125480]]\n",
      "-------------------------------------------------------\n",
      "classification report=               precision    recall  f1-score   support\n",
      "\n",
      "           0       0.07      0.86      0.13      4609\n",
      "           1       0.99      0.71      0.83    177459\n",
      "\n",
      "   micro avg       0.71      0.71      0.71    182068\n",
      "   macro avg       0.53      0.78      0.48    182068\n",
      "weighted avg       0.97      0.71      0.81    182068\n",
      "\n",
      "--------------------------------------------------------\n",
      "f1 score= 0.8266085203654785\n",
      "---------------------------------------------------------\n",
      "ROC AUC score= 0.7816219574313256\n",
      "-----------------------------------------------------------\n",
      "True positive rate = 0.07055878408582923\n",
      "False positive rate = 0.2929070940329879\n",
      "True negative rate = 0.9947440603125025\n",
      "False negative rate = 0.14384899110436103\n"
     ]
    }
   ],
   "source": [
    "from lightgbm import LGBMClassifier\n",
    "lgbm=LGBMClassifier(learning_rate=0.001,max_depth=3,n_estimators=200)\n",
    "model_test(nov,test_dec,lgbm,'HVC')"
   ]
  },
  {
   "cell_type": "code",
   "execution_count": 111,
   "metadata": {},
   "outputs": [
    {
     "name": "stdout",
     "output_type": "stream",
     "text": [
      "-------------------------------------------------------\n",
      "Accuracy= 0.7546078431372549\n",
      "-------------------------------------------------------\n",
      "Confusion matrix= [[16868  5469]\n",
      " [19561 60102]]\n",
      "-------------------------------------------------------\n",
      "classification report=               precision    recall  f1-score   support\n",
      "\n",
      "           0       0.46      0.76      0.57     22337\n",
      "           1       0.92      0.75      0.83     79663\n",
      "\n",
      "   micro avg       0.75      0.75      0.75    102000\n",
      "   macro avg       0.69      0.75      0.70    102000\n",
      "weighted avg       0.82      0.75      0.77    102000\n",
      "\n",
      "--------------------------------------------------------\n",
      "f1 score= 0.8276574355867083\n",
      "---------------------------------------------------------\n",
      "ROC AUC score= 0.7548063672444104\n",
      "-----------------------------------------------------------\n",
      "True positive rate = 0.46303768975266957\n",
      "False positive rate = 0.24554686617375696\n",
      "True negative rate = 0.916594226106053\n",
      "False negative rate = 0.24484039933742222\n",
      "-----------------------------------------------------\n",
      "Test for december dataset\n",
      "-----------------------------------------------------\n",
      "Accuracy= 0.75574370090895\n",
      "-------------------------------------------------------\n",
      "Confusion matrix= [[127349  35476]\n",
      " [186839 560507]]\n",
      "-------------------------------------------------------\n",
      "classification report=               precision    recall  f1-score   support\n",
      "\n",
      "           0       0.41      0.78      0.53    162825\n",
      "           1       0.94      0.75      0.83    747346\n",
      "\n",
      "   micro avg       0.76      0.76      0.76    910171\n",
      "   macro avg       0.67      0.77      0.68    910171\n",
      "weighted avg       0.84      0.76      0.78    910171\n",
      "\n",
      "--------------------------------------------------------\n",
      "f1 score= 0.8345044289224754\n",
      "---------------------------------------------------------\n",
      "ROC AUC score= 0.766059282427662\n",
      "-----------------------------------------------------------\n",
      "True positive rate = 0.40532738360472076\n",
      "False positive rate = 0.25000334517077766\n",
      "True negative rate = 0.9404748122010191\n",
      "False negative rate = 0.21787808997389835\n"
     ]
    }
   ],
   "source": [
    "from lightgbm import LGBMClassifier\n",
    "lgbm=LGBMClassifier(learning_rate=0.001,max_depth=3,n_estimators=200)\n",
    "model_test(nov,test_dec,lgbm,'MVC')"
   ]
  },
  {
   "cell_type": "code",
   "execution_count": 259,
   "metadata": {},
   "outputs": [
    {
     "name": "stderr",
     "output_type": "stream",
     "text": [
      "C:\\Users\\sai.deepak\\AppData\\Local\\Continuum\\anaconda3\\lib\\site-packages\\IPython\\core\\interactiveshell.py:3049: DtypeWarning: Columns (67,68,69) have mixed types. Specify dtype option on import or set low_memory=False.\n",
      "  interactivity=interactivity, compiler=compiler, result=result)\n"
     ]
    },
    {
     "data": {
      "text/html": [
       "<div>\n",
       "<style scoped>\n",
       "    .dataframe tbody tr th:only-of-type {\n",
       "        vertical-align: middle;\n",
       "    }\n",
       "\n",
       "    .dataframe tbody tr th {\n",
       "        vertical-align: top;\n",
       "    }\n",
       "\n",
       "    .dataframe thead th {\n",
       "        text-align: right;\n",
       "    }\n",
       "</style>\n",
       "<table border=\"1\" class=\"dataframe\">\n",
       "  <thead>\n",
       "    <tr style=\"text-align: right;\">\n",
       "      <th></th>\n",
       "      <th>0</th>\n",
       "      <th>1</th>\n",
       "      <th>2</th>\n",
       "      <th>3</th>\n",
       "      <th>4</th>\n",
       "      <th>5</th>\n",
       "      <th>6</th>\n",
       "      <th>7</th>\n",
       "      <th>8</th>\n",
       "      <th>9</th>\n",
       "      <th>...</th>\n",
       "      <th>134</th>\n",
       "      <th>135</th>\n",
       "      <th>136</th>\n",
       "      <th>137</th>\n",
       "      <th>138</th>\n",
       "      <th>139</th>\n",
       "      <th>140</th>\n",
       "      <th>141</th>\n",
       "      <th>142</th>\n",
       "      <th>143</th>\n",
       "    </tr>\n",
       "  </thead>\n",
       "  <tbody>\n",
       "    <tr>\n",
       "      <th>0</th>\n",
       "      <td>254202000023</td>\n",
       "      <td>Jan-2019</td>\n",
       "      <td>1</td>\n",
       "      <td>32</td>\n",
       "      <td>1</td>\n",
       "      <td>11</td>\n",
       "      <td>0</td>\n",
       "      <td>308.97</td>\n",
       "      <td>3</td>\n",
       "      <td>1025</td>\n",
       "      <td>...</td>\n",
       "      <td>3334</td>\n",
       "      <td>0</td>\n",
       "      <td>5</td>\n",
       "      <td>0</td>\n",
       "      <td>0</td>\n",
       "      <td>90</td>\n",
       "      <td>80</td>\n",
       "      <td>0</td>\n",
       "      <td>0.0</td>\n",
       "      <td>0.0</td>\n",
       "    </tr>\n",
       "    <tr>\n",
       "      <th>1</th>\n",
       "      <td>254202000455</td>\n",
       "      <td>Jan-2019</td>\n",
       "      <td>1</td>\n",
       "      <td>1</td>\n",
       "      <td>0</td>\n",
       "      <td>1</td>\n",
       "      <td>0</td>\n",
       "      <td>0.00</td>\n",
       "      <td>0</td>\n",
       "      <td>2</td>\n",
       "      <td>...</td>\n",
       "      <td>0</td>\n",
       "      <td>0</td>\n",
       "      <td>0</td>\n",
       "      <td>0</td>\n",
       "      <td>0</td>\n",
       "      <td>0</td>\n",
       "      <td>0</td>\n",
       "      <td>0</td>\n",
       "      <td>0.0</td>\n",
       "      <td>0.0</td>\n",
       "    </tr>\n",
       "    <tr>\n",
       "      <th>2</th>\n",
       "      <td>254202001033</td>\n",
       "      <td>Jan-2019</td>\n",
       "      <td>1</td>\n",
       "      <td>3</td>\n",
       "      <td>1</td>\n",
       "      <td>18</td>\n",
       "      <td>0</td>\n",
       "      <td>40.71</td>\n",
       "      <td>1</td>\n",
       "      <td>3</td>\n",
       "      <td>...</td>\n",
       "      <td>0</td>\n",
       "      <td>0</td>\n",
       "      <td>0</td>\n",
       "      <td>0</td>\n",
       "      <td>0</td>\n",
       "      <td>0</td>\n",
       "      <td>0</td>\n",
       "      <td>0</td>\n",
       "      <td>0.0</td>\n",
       "      <td>0.0</td>\n",
       "    </tr>\n",
       "    <tr>\n",
       "      <th>3</th>\n",
       "      <td>254202001342</td>\n",
       "      <td>Jan-2019</td>\n",
       "      <td>1</td>\n",
       "      <td>11</td>\n",
       "      <td>0</td>\n",
       "      <td>32</td>\n",
       "      <td>0</td>\n",
       "      <td>0.00</td>\n",
       "      <td>0</td>\n",
       "      <td>21</td>\n",
       "      <td>...</td>\n",
       "      <td>0</td>\n",
       "      <td>0</td>\n",
       "      <td>0</td>\n",
       "      <td>0</td>\n",
       "      <td>0</td>\n",
       "      <td>0</td>\n",
       "      <td>0</td>\n",
       "      <td>0</td>\n",
       "      <td>0.0</td>\n",
       "      <td>0.0</td>\n",
       "    </tr>\n",
       "    <tr>\n",
       "      <th>4</th>\n",
       "      <td>254202001556</td>\n",
       "      <td>Jan-2019</td>\n",
       "      <td>1</td>\n",
       "      <td>23</td>\n",
       "      <td>0</td>\n",
       "      <td>0</td>\n",
       "      <td>0</td>\n",
       "      <td>0.00</td>\n",
       "      <td>0</td>\n",
       "      <td>367</td>\n",
       "      <td>...</td>\n",
       "      <td>0</td>\n",
       "      <td>0</td>\n",
       "      <td>0</td>\n",
       "      <td>0</td>\n",
       "      <td>0</td>\n",
       "      <td>0</td>\n",
       "      <td>0</td>\n",
       "      <td>0</td>\n",
       "      <td>0.0</td>\n",
       "      <td>0.0</td>\n",
       "    </tr>\n",
       "  </tbody>\n",
       "</table>\n",
       "<p>5 rows × 144 columns</p>\n",
       "</div>"
      ],
      "text/plain": [
       "            0         1    2    3    4    5    6       7    8     9    ...  \\\n",
       "0  254202000023  Jan-2019    1   32    1   11    0  308.97    3  1025  ...   \n",
       "1  254202000455  Jan-2019    1    1    0    1    0    0.00    0     2  ...   \n",
       "2  254202001033  Jan-2019    1    3    1   18    0   40.71    1     3  ...   \n",
       "3  254202001342  Jan-2019    1   11    0   32    0    0.00    0    21  ...   \n",
       "4  254202001556  Jan-2019    1   23    0    0    0    0.00    0   367  ...   \n",
       "\n",
       "    134  135  136  137  138  139  140  141  142  143  \n",
       "0  3334    0    5    0    0   90   80    0  0.0  0.0  \n",
       "1     0    0    0    0    0    0    0    0  0.0  0.0  \n",
       "2     0    0    0    0    0    0    0    0  0.0  0.0  \n",
       "3     0    0    0    0    0    0    0    0  0.0  0.0  \n",
       "4     0    0    0    0    0    0    0    0  0.0  0.0  \n",
       "\n",
       "[5 rows x 144 columns]"
      ]
     },
     "execution_count": 259,
     "metadata": {},
     "output_type": "execute_result"
    }
   ],
   "source": [
    "df_jan=pd.read_csv('jan_19.csv',header=None)\n",
    "df_jan.head()"
   ]
  },
  {
   "cell_type": "code",
   "execution_count": 260,
   "metadata": {},
   "outputs": [],
   "source": [
    "#preprocess the current month data\n",
    "test_1=preprocess_df_current_month(df_jan,churn_jan_single,nonchurn_jan_single,20190131)\n",
    "#Preprocess the previous month data and combines both previous month data and current month data\n",
    "test_jan=preprocess_previous_month(df_dec,test_1,churn_jan_single,nonchurn_jan_single)"
   ]
  },
  {
   "cell_type": "code",
   "execution_count": 262,
   "metadata": {},
   "outputs": [
    {
     "name": "stdout",
     "output_type": "stream",
     "text": [
      "-------------------------------------------------------\n",
      "Accuracy= 0.7035659072762177\n",
      "-------------------------------------------------------\n",
      "Confusion matrix= [[ 1765   292]\n",
      " [17157 39649]]\n",
      "-------------------------------------------------------\n",
      "classification report=               precision    recall  f1-score   support\n",
      "\n",
      "           0       0.09      0.86      0.17      2057\n",
      "           1       0.99      0.70      0.82     56806\n",
      "\n",
      "   micro avg       0.70      0.70      0.70     58863\n",
      "   macro avg       0.54      0.78      0.49     58863\n",
      "weighted avg       0.96      0.70      0.80     58863\n",
      "\n",
      "--------------------------------------------------------\n",
      "f1 score= 0.8196429863458298\n",
      "---------------------------------------------------------\n",
      "ROC AUC score= 0.7780088714121912\n",
      "-----------------------------------------------------------\n",
      "True positive rate = 0.09327766620864603\n",
      "False positive rate = 0.30202795479350775\n",
      "True negative rate = 0.9926892165944768\n",
      "False negative rate = 0.14195430238210988\n",
      "-----------------------------------------------------\n",
      "Test for december dataset\n",
      "-----------------------------------------------------\n",
      "Accuracy= 0.6956082342860909\n",
      "-------------------------------------------------------\n",
      "Confusion matrix= [[  3994    615]\n",
      " [ 54805 122654]]\n",
      "-------------------------------------------------------\n",
      "classification report=               precision    recall  f1-score   support\n",
      "\n",
      "           0       0.07      0.87      0.13      4609\n",
      "           1       1.00      0.69      0.82    177459\n",
      "\n",
      "   micro avg       0.70      0.70      0.70    182068\n",
      "   macro avg       0.53      0.78      0.47    182068\n",
      "weighted avg       0.97      0.70      0.80    182068\n",
      "\n",
      "--------------------------------------------------------\n",
      "f1 score= 0.8157138676810939\n",
      "---------------------------------------------------------\n",
      "ROC AUC score= 0.7788667581460891\n",
      "-----------------------------------------------------------\n",
      "True positive rate = 0.06792632527764078\n",
      "False positive rate = 0.30883189919925164\n",
      "True negative rate = 0.9950109110968695\n",
      "False negative rate = 0.13343458450857018\n"
     ]
    }
   ],
   "source": [
    "from lightgbm import LGBMClassifier\n",
    "lgbm=LGBMClassifier(learning_rate=0.001,max_depth=3,n_estimators=200,scale_pos_weight=0.7)\n",
    "model_test(nov,test_jan,lgbm,'HVC')"
   ]
  },
  {
   "cell_type": "code",
   "execution_count": 263,
   "metadata": {},
   "outputs": [
    {
     "name": "stdout",
     "output_type": "stream",
     "text": [
      "-------------------------------------------------------\n",
      "Accuracy= 0.7557606397406528\n",
      "-------------------------------------------------------\n",
      "Confusion matrix= [[ 50654  16358]\n",
      " [ 58379 180608]]\n",
      "-------------------------------------------------------\n",
      "classification report=               precision    recall  f1-score   support\n",
      "\n",
      "           0       0.46      0.76      0.58     67012\n",
      "           1       0.92      0.76      0.83    238987\n",
      "\n",
      "   micro avg       0.76      0.76      0.76    305999\n",
      "   macro avg       0.69      0.76      0.70    305999\n",
      "weighted avg       0.82      0.76      0.77    305999\n",
      "\n",
      "--------------------------------------------------------\n",
      "f1 score= 0.8285663821558745\n",
      "---------------------------------------------------------\n",
      "ROC AUC score= 0.7558087906545453\n",
      "-----------------------------------------------------------\n",
      "True positive rate = 0.464574945200077\n",
      "False positive rate = 0.24427688535359665\n",
      "True negative rate = 0.9169501335255831\n",
      "False negative rate = 0.24410553333731272\n",
      "-----------------------------------------------------\n",
      "Test for december dataset\n",
      "-----------------------------------------------------\n",
      "Accuracy= 0.75574370090895\n",
      "-------------------------------------------------------\n",
      "Confusion matrix= [[127349  35476]\n",
      " [186839 560507]]\n",
      "-------------------------------------------------------\n",
      "classification report=               precision    recall  f1-score   support\n",
      "\n",
      "           0       0.41      0.78      0.53    162825\n",
      "           1       0.94      0.75      0.83    747346\n",
      "\n",
      "   micro avg       0.76      0.76      0.76    910171\n",
      "   macro avg       0.67      0.77      0.68    910171\n",
      "weighted avg       0.84      0.76      0.78    910171\n",
      "\n",
      "--------------------------------------------------------\n",
      "f1 score= 0.8345044289224754\n",
      "---------------------------------------------------------\n",
      "ROC AUC score= 0.766059282427662\n",
      "-----------------------------------------------------------\n",
      "True positive rate = 0.40532738360472076\n",
      "False positive rate = 0.25000334517077766\n",
      "True negative rate = 0.9404748122010191\n",
      "False negative rate = 0.21787808997389835\n"
     ]
    }
   ],
   "source": [
    "from lightgbm import LGBMClassifier\n",
    "lgbm=LGBMClassifier(learning_rate=0.001,max_depth=3,n_estimators=200,scale_pos_weight=0.9)\n",
    "model_test(nov,test_jan,lgbm,'MVC')"
   ]
  },
  {
   "cell_type": "code",
   "execution_count": 122,
   "metadata": {},
   "outputs": [
    {
     "name": "stdout",
     "output_type": "stream",
     "text": [
      "-------------------------------------------------------\n",
      "Accuracy= 0.6079482862547027\n",
      "-------------------------------------------------------\n",
      "Confusion matrix= [[24934  9493]\n",
      " [28231 33564]]\n",
      "-------------------------------------------------------\n",
      "classification report=               precision    recall  f1-score   support\n",
      "\n",
      "           0       0.47      0.72      0.57     34427\n",
      "           1       0.78      0.54      0.64     61795\n",
      "\n",
      "   micro avg       0.61      0.61      0.61     96222\n",
      "   macro avg       0.62      0.63      0.60     96222\n",
      "weighted avg       0.67      0.61      0.61     96222\n",
      "\n",
      "--------------------------------------------------------\n",
      "f1 score= 0.6402166863769886\n",
      "---------------------------------------------------------\n",
      "ROC AUC score= 0.6337039320601477\n",
      "-----------------------------------------------------------\n",
      "True positive rate = 0.46899275839368004\n",
      "False positive rate = 0.4568492596488389\n",
      "True negative rate = 0.7795248159416587\n",
      "False negative rate = 0.2757428762308653\n",
      "-----------------------------------------------------\n",
      "Test for december dataset\n",
      "-----------------------------------------------------\n",
      "Accuracy= 0.5780986528088002\n",
      "-------------------------------------------------------\n",
      "Confusion matrix= [[176418  64331]\n",
      " [290210 309382]]\n",
      "-------------------------------------------------------\n",
      "classification report=               precision    recall  f1-score   support\n",
      "\n",
      "           0       0.38      0.73      0.50    240749\n",
      "           1       0.83      0.52      0.64    599592\n",
      "\n",
      "   micro avg       0.58      0.58      0.58    840341\n",
      "   macro avg       0.60      0.62      0.57    840341\n",
      "weighted avg       0.70      0.58      0.60    840341\n",
      "\n",
      "--------------------------------------------------------\n",
      "f1 score= 0.6357349443391331\n",
      "---------------------------------------------------------\n",
      "ROC AUC score= 0.6243878143467664\n",
      "-----------------------------------------------------------\n",
      "True positive rate = 0.37806989722005535\n",
      "False positive rate = 0.48401246180736235\n",
      "True negative rate = 0.8278598817809388\n",
      "False negative rate = 0.2672119094991049\n"
     ]
    }
   ],
   "source": [
    "from lightgbm import LGBMClassifier\n",
    "lgbm=LGBMClassifier(learning_rate=0.001,max_depth=3,n_estimators=200)\n",
    "model_test(nov,test_jan,lgbm,'LVC')"
   ]
  },
  {
   "cell_type": "code",
   "execution_count": 124,
   "metadata": {},
   "outputs": [
    {
     "data": {
      "text/plain": [
       "status\n",
       "0     58.751902\n",
       "1    298.771356\n",
       "Name: total_revenue_current_month, dtype: float64"
      ]
     },
     "execution_count": 124,
     "metadata": {},
     "output_type": "execute_result"
    }
   ],
   "source": [
    "nov.groupby('status')['total_revenue_current_month'].mean()"
   ]
  },
  {
   "cell_type": "code",
   "execution_count": 125,
   "metadata": {},
   "outputs": [
    {
     "data": {
      "text/plain": [
       "status\n",
       "0     5.62\n",
       "1    98.00\n",
       "Name: total_revenue_current_month, dtype: float64"
      ]
     },
     "execution_count": 125,
     "metadata": {},
     "output_type": "execute_result"
    }
   ],
   "source": [
    "nov.groupby('status')['total_revenue_current_month'].median()"
   ]
  },
  {
   "cell_type": "code",
   "execution_count": 127,
   "metadata": {},
   "outputs": [
    {
     "data": {
      "text/plain": [
       "50.0"
      ]
     },
     "execution_count": 127,
     "metadata": {},
     "output_type": "execute_result"
    }
   ],
   "source": [
    "nov['total_revenue_current_month'].median()"
   ]
  },
  {
   "cell_type": "code",
   "execution_count": 212,
   "metadata": {},
   "outputs": [],
   "source": [
    "from sklearn.preprocessing import LabelEncoder\n",
    "le=LabelEncoder()"
   ]
  },
  {
   "cell_type": "code",
   "execution_count": 280,
   "metadata": {},
   "outputs": [],
   "source": [
    "def model_all_rl(df,m):\n",
    "    #df1=df[df['revenue_level_current_month']==revenue_level]\n",
    "    \n",
    "  \n",
    "    \n",
    "    df1=df[df['revenue_level_current_month']=='HVC']\n",
    "    df2=df[df['revenue_level_current_month']=='MVC']\n",
    "    df3=df1.append(df2)\n",
    "    df3=df3.sample(n=len(df3),random_state=123)\n",
    "    \n",
    "    df3['revenue_level_current_month']=le.fit_transform(df3['revenue_level_current_month'])\n",
    "    \n",
    "    x=df3.drop(['msisdn','status'],axis=1).values\n",
    "    y=df3['status'].values\n",
    "    \n",
    "    xtrain,xtest,ytrain,ytest=train_test_split(x,y,test_size=0.3,random_state=123)\n",
    "    #xtrain_final,ytrain_final=sm.fit_sample(xtrain,ytrain)\n",
    "    m.fit(xtrain,ytrain)\n",
    "    y_pred=m.predict(xtest)\n",
    "    print('-------------------------------------------------------')\n",
    "    print('Accuracy=',accuracy_score(ytest,y_pred))\n",
    "    print('-------------------------------------------------------')\n",
    "    print('Confusion matrix=',confusion_matrix(ytest,y_pred))\n",
    "    print('-------------------------------------------------------')\n",
    "    prob=m.predict_proba(xtest)\n",
    "    prob=prob[:,1]\n",
    "    precision, recall, thresholds = precision_recall_curve(ytest, prob)\n",
    "    auc1 = auc(recall, precision)\n",
    "    print('PR AUC=',auc1)\n",
    "    print('classification report=',classification_report(ytest,y_pred))\n",
    "    print('--------------------------------------------------------')\n",
    "    print('f1 score=',f1_score(ytest,y_pred))\n",
    "    print('---------------------------------------------------------')\n",
    "    print('ROC AUC score=',roc_auc_score(ytest,y_pred))\n",
    "    print('-----------------------------------------------------------')\n",
    "    cm=confusion_matrix(ytest,y_pred)\n",
    "    tpr=cm[0,0]/(cm[0,0]+cm[1,0])\n",
    "    fpr=cm[1,0]/(cm[1,0]+cm[1,1])\n",
    "    tnr=cm[1,1]/(cm[0,1]+cm[1,1])\n",
    "    fnr=cm[0,1]/(cm[0,1]+cm[0,0])\n",
    "    print('True positive rate =',tpr)\n",
    "    print('False positive rate =',fpr)\n",
    "    print('True negative rate =',tnr)\n",
    "    print('False negative rate =',fnr)"
   ]
  },
  {
   "cell_type": "code",
   "execution_count": 278,
   "metadata": {},
   "outputs": [],
   "source": [
    "def model_all_rl_lvc(df,m):\n",
    "    #df1=df[df['revenue_level_current_month']==revenue_level]\n",
    "    \n",
    "  \n",
    "    \n",
    "    df1=df[df['revenue_level_current_month']=='LVC']\n",
    "    df2=df[df['revenue_level_current_month']=='Zero']\n",
    "    df3=df1.append(df2)\n",
    "    df3=df3.sample(n=len(df3),random_state=123)\n",
    "    \n",
    "    df3['revenue_level_current_month']=le.fit_transform(df3['revenue_level_current_month'])\n",
    "    \n",
    "    x=df3.drop(['msisdn','status'],axis=1).values\n",
    "    y=df3['status'].values\n",
    "    \n",
    "    xtrain,xtest,ytrain,ytest=train_test_split(x,y,test_size=0.3,random_state=123)\n",
    "    #xtrain_final,ytrain_final=sm.fit_sample(xtrain,ytrain)\n",
    "    m.fit(xtrain,ytrain)\n",
    "    y_pred=m.predict(xtest)\n",
    "    print('-------------------------------------------------------')\n",
    "    print('Accuracy=',accuracy_score(ytest,y_pred))\n",
    "    print('-------------------------------------------------------')\n",
    "    print('Confusion matrix=',confusion_matrix(ytest,y_pred))\n",
    "    print('-------------------------------------------------------')\n",
    "    prob=m.predict_proba(xtest)\n",
    "    prob=prob[:,1]\n",
    "    precision, recall, thresholds = precision_recall_curve(ytest, prob)\n",
    "    auc1 = auc(recall, precision)\n",
    "    print('PR AUC=',auc1)\n",
    "    print('classification report=',classification_report(ytest,y_pred))\n",
    "    print('--------------------------------------------------------')\n",
    "    print('f1 score=',f1_score(ytest,y_pred))\n",
    "    print('---------------------------------------------------------')\n",
    "    print('ROC AUC score=',roc_auc_score(ytest,y_pred))\n",
    "    print('-----------------------------------------------------------')\n",
    "    cm=confusion_matrix(ytest,y_pred)\n",
    "    tpr=cm[0,0]/(cm[0,0]+cm[1,0])\n",
    "    fpr=cm[1,0]/(cm[1,0]+cm[1,1])\n",
    "    tnr=cm[1,1]/(cm[0,1]+cm[1,1])\n",
    "    fnr=cm[0,1]/(cm[0,1]+cm[0,0])\n",
    "    print('True positive rate =',tpr)\n",
    "    print('False positive rate =',fpr)\n",
    "    print('True negative rate =',tnr)\n",
    "    print('False negative rate =',fnr)"
   ]
  },
  {
   "cell_type": "code",
   "execution_count": 293,
   "metadata": {},
   "outputs": [
    {
     "name": "stdout",
     "output_type": "stream",
     "text": [
      "-------------------------------------------------------\n",
      "Accuracy= 0.9091437310544809\n",
      "-------------------------------------------------------\n",
      "Confusion matrix= [[ 31071  24878]\n",
      " [  8272 300641]]\n",
      "-------------------------------------------------------\n",
      "PR AUC= 0.9786132980803013\n",
      "classification report=               precision    recall  f1-score   support\n",
      "\n",
      "           0       0.79      0.56      0.65     55949\n",
      "           1       0.92      0.97      0.95    308913\n",
      "\n",
      "   micro avg       0.91      0.91      0.91    364862\n",
      "   macro avg       0.86      0.76      0.80    364862\n",
      "weighted avg       0.90      0.91      0.90    364862\n",
      "\n",
      "--------------------------------------------------------\n",
      "f1 score= 0.9477485372742863\n",
      "---------------------------------------------------------\n",
      "ROC AUC score= 0.7642836402366627\n",
      "-----------------------------------------------------------\n",
      "True positive rate = 0.7897465877030221\n",
      "False positive rate = 0.02677776590820069\n",
      "True negative rate = 0.9235743535707593\n",
      "False negative rate = 0.44465495361847396\n"
     ]
    }
   ],
   "source": [
    "from lightgbm import LGBMClassifier\n",
    "lgbm=LGBMClassifier(learning_rate=0.05,n_estimators=100,scale_pos_weight=0.20,num_leaves=150, objective='binary',max_bin=200 )\n",
    "model_all_rl(b,lgbm)"
   ]
  },
  {
   "cell_type": "code",
   "execution_count": 284,
   "metadata": {},
   "outputs": [
    {
     "name": "stdout",
     "output_type": "stream",
     "text": [
      "-------------------------------------------------------\n",
      "Accuracy= 0.6760409139483996\n",
      "-------------------------------------------------------\n",
      "Confusion matrix= [[141060  46887]\n",
      " [112266 191062]]\n",
      "-------------------------------------------------------\n",
      "PR AUC= 0.8363555143472405\n",
      "classification report=               precision    recall  f1-score   support\n",
      "\n",
      "           0       0.56      0.75      0.64    187947\n",
      "           1       0.80      0.63      0.71    303328\n",
      "\n",
      "   micro avg       0.68      0.68      0.68    491275\n",
      "   macro avg       0.68      0.69      0.67    491275\n",
      "weighted avg       0.71      0.68      0.68    491275\n",
      "\n",
      "--------------------------------------------------------\n",
      "f1 score= 0.7059675545053642\n",
      "---------------------------------------------------------\n",
      "ROC AUC score= 0.6902082674591504\n",
      "-----------------------------------------------------------\n",
      "True positive rate = 0.5568319082920822\n",
      "False positive rate = 0.37011419981010657\n",
      "True negative rate = 0.8029535740852032\n",
      "False negative rate = 0.24946926527159252\n"
     ]
    }
   ],
   "source": [
    "from lightgbm import LGBMClassifier\n",
    "lgbm=LGBMClassifier(learning_rate=0.01,n_estimators=100,scale_pos_weight=0.4)\n",
    "model_all_rl_lvc(b,lgbm)"
   ]
  },
  {
   "cell_type": "code",
   "execution_count": 249,
   "metadata": {},
   "outputs": [
    {
     "name": "stdout",
     "output_type": "stream",
     "text": [
      "-------------------------------------------------------\n",
      "Accuracy= 0.672563873464488\n",
      "-------------------------------------------------------\n",
      "Confusion matrix= [[ 50535   5646]\n",
      " [113823 194858]]\n",
      "-------------------------------------------------------\n",
      "PR AUC= 0.9734994883853053\n",
      "classification report=               precision    recall  f1-score   support\n",
      "\n",
      "           0       0.31      0.90      0.46     56181\n",
      "           1       0.97      0.63      0.77    308681\n",
      "\n",
      "   micro avg       0.67      0.67      0.67    364862\n",
      "   macro avg       0.64      0.77      0.61    364862\n",
      "weighted avg       0.87      0.67      0.72    364862\n",
      "\n",
      "--------------------------------------------------------\n",
      "f1 score= 0.765372114261025\n",
      "---------------------------------------------------------\n",
      "ROC AUC score= 0.7653817471492985\n",
      "-----------------------------------------------------------\n",
      "True positive rate = 0.3074690614390538\n",
      "False positive rate = 0.36873989652748307\n",
      "True negative rate = 0.9718409607788373\n",
      "False negative rate = 0.10049660917392\n"
     ]
    }
   ],
   "source": [
    "from xgboost import XGBClassifier\n",
    "xg=XGBClassifier(learning_rate=0.01,n_estimators=100,scale_pos_weight=0.1)\n",
    "model_all_rl(b,xg)"
   ]
  },
  {
   "cell_type": "code",
   "execution_count": null,
   "metadata": {},
   "outputs": [],
   "source": []
  }
 ],
 "metadata": {
  "kernelspec": {
   "display_name": "Python 3",
   "language": "python",
   "name": "python3"
  },
  "language_info": {
   "codemirror_mode": {
    "name": "ipython",
    "version": 3
   },
   "file_extension": ".py",
   "mimetype": "text/x-python",
   "name": "python",
   "nbconvert_exporter": "python",
   "pygments_lexer": "ipython3",
   "version": "3.7.3"
  }
 },
 "nbformat": 4,
 "nbformat_minor": 2
}
